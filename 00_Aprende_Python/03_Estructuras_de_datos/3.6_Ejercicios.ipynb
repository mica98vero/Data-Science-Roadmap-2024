{
 "cells": [
  {
   "cell_type": "code",
   "execution_count": 32,
   "metadata": {},
   "outputs": [
    {
     "name": "stdout",
     "output_type": "stream",
     "text": [
      "La palabra = 'downstream' es un isograma\n"
     ]
    }
   ],
   "source": [
    "palabra = input('Ingrese una palabra: ')\n",
    "contador = 0\n",
    "\n",
    "for i in range(len(palabra)):       \n",
    "    for j in range(len(palabra)):\n",
    "        if i != j and palabra[i] == palabra[j] and (palabra.isalpha()):\n",
    "            contador += 1\n",
    "\n",
    "    if contador != 0:\n",
    "        print(f'La {palabra = } no es un isograma')\n",
    "        break\n",
    "\n",
    "if contador == 0:\n",
    "    print(f'La {palabra = } es un isograma')"
   ]
  },
  {
   "cell_type": "markdown",
   "metadata": {},
   "source": [
    "Determine si una cadena de texto dada es un isograma, es decir, no se repite ninguna letra.\n",
    "*   Ejemplos:\n",
    "    *   lumberjacks\n",
    "    *   background\n",
    "    *   downstream\n",
    "    *   six-year-old"
   ]
  },
  {
   "cell_type": "markdown",
   "metadata": {},
   "source": [
    "* Respuestas ChatGPT"
   ]
  },
  {
   "cell_type": "code",
   "execution_count": 34,
   "metadata": {},
   "outputs": [
    {
     "name": "stdout",
     "output_type": "stream",
     "text": [
      "'casa' no es un isograma\n"
     ]
    }
   ],
   "source": [
    "def es_isograma(cadena):\n",
    "    # Convertir la cadena a minúsculas y eliminar guiones y espacios\n",
    "    cadena = cadena.replace('-', '').replace(' ', '').lower()\n",
    "    # Crear un conjunto de caracteres únicos\n",
    "    caracteres_unicos = set(cadena)\n",
    "    # Comparar la longitud del conjunto con la longitud de la cadena\n",
    "    return len(caracteres_unicos) == len(cadena)\n",
    "\n",
    "# Solicitar al usuario que ingrese una cadena de texto\n",
    "cadena = input(\"Ingrese una cadena de texto: \")\n",
    "\n",
    "# Determinar si la cadena es un isograma\n",
    "if es_isograma(cadena):\n",
    "    print(f\"'{cadena}' es un isograma\")\n",
    "else:\n",
    "    print(f\"'{cadena}' no es un isograma\")\n"
   ]
  },
  {
   "cell_type": "markdown",
   "metadata": {},
   "source": [
    "Consiga la siguiente transformación: 12/31/20 ➡️ 31-12-2020\n",
    "\n",
    "*   Respuesta de ChatGPT"
   ]
  },
  {
   "cell_type": "code",
   "execution_count": 35,
   "metadata": {},
   "outputs": [
    {
     "name": "stdout",
     "output_type": "stream",
     "text": [
      "Fecha transformada: 31-12-2020\n"
     ]
    }
   ],
   "source": [
    "def transformar_fecha(fecha):\n",
    "    # Dividir la fecha en componentes\n",
    "    mes, dia, anio = fecha.split('/')\n",
    "    \n",
    "    # Ajustar el año a cuatro dígitos\n",
    "    anio = '20' + anio\n",
    "    \n",
    "    # Formatear la nueva fecha\n",
    "    nueva_fecha = f\"{dia}-{mes}-{anio}\"\n",
    "    \n",
    "    return nueva_fecha\n",
    "\n",
    "# Solicitar al usuario que ingrese una fecha en el formato MM/DD/YY\n",
    "fecha = input(\"Ingrese una fecha en el formato MM/DD/YY: \")\n",
    "\n",
    "# Transformar la fecha\n",
    "fecha_transformada = transformar_fecha(fecha)\n",
    "\n",
    "# Mostrar la fecha transformada\n",
    "print(f\"Fecha transformada: {fecha_transformada}\")\n"
   ]
  },
  {
   "cell_type": "markdown",
   "metadata": {},
   "source": [
    "Dados dos vectores(listas) de la misma dimensión, utilice la función zip() para calcular su *producto escalar*\n",
    "*   Entrada:\n",
    "    *   v1 = [4, 3, 8, 1]\n",
    "    *   v2 = [9, 2, 7, 3]\n",
    "*   Salida: 101\n",
    "\n",
    "$v1 x v2 = [4 * 9 + 3 * 2 + 8 * 7 + 1 * 3] = 101$"
   ]
  },
  {
   "cell_type": "code",
   "execution_count": 10,
   "metadata": {},
   "outputs": [
    {
     "name": "stdout",
     "output_type": "stream",
     "text": [
      "El producto escalar de [4, 3, 8, 1] y [9, 2, 7, 3] es: 101\n"
     ]
    }
   ],
   "source": [
    "#Vectores\n",
    "v1 = [4, 3, 8, 1]\n",
    "v2 = [9, 2, 7, 3]\n",
    "\n",
    "vectores = list(zip(v1,v2))\n",
    "suma_total = 0\n",
    "\n",
    "for tupla in vectores:\n",
    "    producto = 1\n",
    "    for numero in tupla:\n",
    "        producto *= numero\n",
    "    \n",
    "    suma_total += producto\n",
    "\n",
    "print(f\"El producto escalar de {v1} y {v2} es: {suma_total}\")"
   ]
  },
  {
   "cell_type": "markdown",
   "metadata": {},
   "source": [
    "* Respuesta de ChatGPT"
   ]
  },
  {
   "cell_type": "code",
   "execution_count": 9,
   "metadata": {},
   "outputs": [
    {
     "name": "stdout",
     "output_type": "stream",
     "text": [
      "El producto escalar de [4, 3, 8, 1] y [9, 2, 7, 3] es: 101\n"
     ]
    }
   ],
   "source": [
    "def producto_escalar(v1, v2):\n",
    "    # Utilizar zip para emparejar los elementos de los dos vectores\n",
    "    productos = [a * b for a, b in zip(v1, v2)]\n",
    "    # Calcular la suma de los productos\n",
    "    resultado = sum(productos)\n",
    "    return resultado\n",
    "\n",
    "# Vectores de entrada\n",
    "v1 = [4, 3, 8, 1]\n",
    "v2 = [9, 2, 7, 3]\n",
    "\n",
    "# Calcular el producto escalar\n",
    "resultado = producto_escalar(v1, v2)\n",
    "\n",
    "# Mostrar el resultado\n",
    "print(f\"El producto escalar de {v1} y {v2} es: {resultado}\")"
   ]
  },
  {
   "cell_type": "markdown",
   "metadata": {},
   "source": [
    "Utilizando listas por comprensión, cree una lista que contenga el resultado de aplicar la función $f(x) = 3x + 2$ para $x \\in[0, 20).$"
   ]
  },
  {
   "cell_type": "code",
   "execution_count": 11,
   "metadata": {},
   "outputs": [
    {
     "data": {
      "text/plain": [
       "[0, 1, 2, 3, 4, 5, 6, 7, 8, 9, 10, 11, 12, 13, 14, 15, 16, 17, 18, 19]"
      ]
     },
     "execution_count": 11,
     "metadata": {},
     "output_type": "execute_result"
    }
   ],
   "source": [
    "valor_x = [int(i) for i in range(20)]\n",
    "valor_x"
   ]
  },
  {
   "cell_type": "markdown",
   "metadata": {},
   "source": [
    "Creo una lista y una copia de esa misma, a una la ordeno y muestro por pantalla el índice y el elemento ordenado y también en que posición se encontraba antes."
   ]
  },
  {
   "cell_type": "code",
   "execution_count": 4,
   "metadata": {},
   "outputs": [
    {
     "name": "stdout",
     "output_type": "stream",
     "text": [
      "El número 1 se encuentra en el índice 0 y antes se encontraba en la posición 5\n",
      "El número 3 se encuentra en el índice 1 y antes se encontraba en la posición 3\n",
      "El número 5 se encuentra en el índice 2 y antes se encontraba en la posición 10\n",
      "El número 7 se encuentra en el índice 3 y antes se encontraba en la posición 4\n",
      "El número 9 se encuentra en el índice 4 y antes se encontraba en la posición 7\n",
      "El número 12 se encuentra en el índice 5 y antes se encontraba en la posición 0\n",
      "El número 24 se encuentra en el índice 6 y antes se encontraba en la posición 6\n",
      "El número 40 se encuentra en el índice 7 y antes se encontraba en la posición 9\n",
      "El número 121 se encuentra en el índice 8 y antes se encontraba en la posición 8\n",
      "El número 584 se encuentra en el índice 9 y antes se encontraba en la posición 2\n",
      "El número 845 se encuentra en el índice 10 y antes se encontraba en la posición 1\n"
     ]
    }
   ],
   "source": [
    "original_list = [12, 845, 584, 3, 7, 1, 24, 9, 121, 40, 5]\n",
    "\n",
    "copy_list = original_list.copy()\n",
    "\n",
    "original_list.sort()\n",
    "\n",
    "for i, elemnto in enumerate(original_list):\n",
    "    index = copy_list.index(elemnto)\n",
    "    print(f'El número {elemnto} se encuentra en el índice {i} y antes se encontraba en la posición {index}')"
   ]
  },
  {
   "cell_type": "markdown",
   "metadata": {},
   "source": [
    "Lea desde línea de comando una serie de números y obtenga la media de dichos valores. La llamada sería de la siguiente manera: $ python3 avg.py 32 56 21 99 12 17\n",
    "*   Entrada: 32 56 21 99 12 17\n",
    "*   Salida: 39.50"
   ]
  },
  {
   "cell_type": "code",
   "execution_count": null,
   "metadata": {},
   "outputs": [],
   "source": [
    "\"\"\" Plantilla de código para el programa: \n",
    "import sys\n",
    "\n",
    "#En values tendremos una lisca con los valores (como strings)\n",
    "values = sys.argv[1:] \n",
    "\n",
    "#Su código debajo de aquí \"\"\""
   ]
  },
  {
   "cell_type": "markdown",
   "metadata": {},
   "source": [
    "* Ejercicio realizado en *get-args-ejercicio.py*"
   ]
  },
  {
   "cell_type": "markdown",
   "metadata": {},
   "source": [
    "Escriba un programa que permita multiplicar únicamente matrices de 2 filas por 2 columnas. Veamos un ejemplo concreto:\n",
    "\n",
    "*   A = [[6, 4], [8, 9]]\n",
    "*   B = [[3, 2], [1, 7]]\n",
    "\n",
    "$$\n",
    "P = \n",
    "\\begin{bmatrix}\n",
    "6 & 4 \\\\\n",
    "8 & 9 \n",
    "\\end{bmatrix}\n",
    "*\n",
    "\\begin{bmatrix}\n",
    "3 & 2 \\\\\n",
    "1 & 7 \n",
    "\\end{bmatrix}\n",
    "$$\n",
    "\n",
    "$$\n",
    "\\begin{bmatrix}\n",
    "6*3 + 4*1 & 6*2 + 4*7 \\\\\n",
    "8*3 + 9*1 & 8*2 + 9*7\n",
    "\\end{bmatrix}\n",
    "=\n",
    "\\begin{bmatrix}\n",
    "22 & 40 \\\\\n",
    "33 & 79 \n",
    "\\end{bmatrix}\n",
    "$$\n",
    "\n",
    "*   Respuesta de ChatGPT"
   ]
  },
  {
   "cell_type": "code",
   "execution_count": 16,
   "metadata": {},
   "outputs": [
    {
     "name": "stdout",
     "output_type": "stream",
     "text": [
      "Ingrese los valores de la primera matriz 2x2:\n",
      "Ingrese los valores de la segunda matriz 2x2:\n",
      "El resultado de la multiplicación de las dos matrices es:\n",
      "[ 22.00 40.00 ]\n",
      "[ 33.00 79.00 ]\n"
     ]
    }
   ],
   "source": [
    "def get_matrix():\n",
    "    \"\"\"Obtiene una matriz 2x2 del usuario.\"\"\"\n",
    "    matrix = []\n",
    "    for i in range(2):\n",
    "        row = []\n",
    "        for j in range(2):\n",
    "            value = float(input(f\"Ingrese el valor para la posición [{i+1}][{j+1}]: \"))\n",
    "            row.append(value)\n",
    "        matrix.append(row)\n",
    "    return matrix\n",
    "\n",
    "def multiply_matrices(matrix1, matrix2):\n",
    "    \"\"\"Multiplica dos matrices 2x2.\"\"\"\n",
    "    result = [[0, 0], [0, 0]]\n",
    "    for i in range(2):\n",
    "        for j in range(2):\n",
    "            for k in range(2):\n",
    "                result[i][j] += matrix1[i][k] * matrix2[k][j]\n",
    "    return result\n",
    "\n",
    "def print_matrix(matrix):\n",
    "    \"\"\"Imprime una matriz 2x2.\"\"\"\n",
    "    for row in matrix:\n",
    "        print(\"[\", \" \".join(f\"{value:.2f}\" for value in row), \"]\")\n",
    "\n",
    "# Obtener las dos matrices del usuario\n",
    "print(\"Ingrese los valores de la primera matriz 2x2:\")\n",
    "matrix1 = get_matrix()\n",
    "print(\"Ingrese los valores de la segunda matriz 2x2:\")\n",
    "matrix2 = get_matrix()\n",
    "\n",
    "# Multiplicar las matrices\n",
    "result_matrix = multiply_matrices(matrix1, matrix2)\n",
    "\n",
    "# Imprimir el resultado\n",
    "print(\"El resultado de la multiplicación de las dos matrices es:\")\n",
    "print_matrix(result_matrix)"
   ]
  }
 ],
 "metadata": {
  "kernelspec": {
   "display_name": "Python 3.10.7 64-bit (microsoft store)",
   "language": "python",
   "name": "python3"
  },
  "language_info": {
   "codemirror_mode": {
    "name": "ipython",
    "version": 3
   },
   "file_extension": ".py",
   "mimetype": "text/x-python",
   "name": "python",
   "nbconvert_exporter": "python",
   "pygments_lexer": "ipython3",
   "version": "3.12.4"
  },
  "orig_nbformat": 4,
  "vscode": {
   "interpreter": {
    "hash": "6085004884d7fe2d487ef9b1c33a506ee19a6a4095578a744a51e1ad1ca70fa0"
   }
  }
 },
 "nbformat": 4,
 "nbformat_minor": 2
}
