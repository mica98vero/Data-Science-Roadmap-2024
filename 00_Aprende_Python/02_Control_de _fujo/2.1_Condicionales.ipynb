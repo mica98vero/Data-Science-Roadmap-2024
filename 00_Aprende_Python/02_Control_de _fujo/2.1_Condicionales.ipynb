{
 "cells": [
  {
   "cell_type": "markdown",
   "metadata": {},
   "source": [
    "# Control de flujo"
   ]
  },
  {
   "cell_type": "markdown",
   "metadata": {},
   "source": [
    ">Todo programa informático está formado por *instrucciones* que se ejecutan en forma secuencial. Este orden constituye el llamado ***flujo*** del programa, el cual se puede modificar para que tome *bifuraciones* o *repita* instrucciones. Estas sentencias se las conoce como **control de flujo**."
   ]
  },
  {
   "cell_type": "markdown",
   "metadata": {},
   "source": [
    "## Condicionales"
   ]
  },
  {
   "cell_type": "markdown",
   "metadata": {},
   "source": [
    ">En esta sección se verá **if** y **match-case**. Introduciremos algunas cuestiones generales de *escritura de código*."
   ]
  },
  {
   "cell_type": "markdown",
   "metadata": {},
   "source": [
    "### Definición de bloques"
   ]
  },
  {
   "cell_type": "markdown",
   "metadata": {},
   "source": [
    ">En Python los bloques de código se definen a través de *espacios en blanco*, preferiblemente **4**. Se habla del **tamaño de indentación.**\n",
    "\n",
    "![alt text](Imágenes/Tamaño_de_indentacion.gif)"
   ]
  },
  {
   "cell_type": "markdown",
   "metadata": {},
   "source": [
    "### Comentarios"
   ]
  },
  {
   "cell_type": "markdown",
   "metadata": {},
   "source": [
    "> Anotaciones que podemos incluir en nuestro programa y que nos permiten aclarar ciertos aspectos del código. \n",
    "\n",
    "*   Se incluyen usando el **#** y comprenden hasta el final de la línea\n",
    "*   *Son ignoradas por el intérprete de Python*\n",
    "*   Se puede escribir un comentario en bloque (arriba del código) o un comentario en línea (al lado del código)"
   ]
  },
  {
   "cell_type": "code",
   "execution_count": 3,
   "metadata": {},
   "outputs": [
    {
     "name": "stdout",
     "output_type": "stream",
     "text": [
      "universe_age = 5037000000000 y stock = 0\n"
     ]
    }
   ],
   "source": [
    "# Universe age expressed in days\n",
    "universe_age = 13800 * (10 ** 6) * 365\n",
    "\n",
    "stock = 0 # Release additional articles\n",
    "\n",
    "print(f'{universe_age = } y {stock = }')"
   ]
  },
  {
   "cell_type": "markdown",
   "metadata": {},
   "source": [
    ">Reglas para escribir buenos comentarios\n",
    "\n",
    "1.  **No** deberían *duplicar* el código.\n",
    "2.  **No** *arreglan* un código poco claro.\n",
    "3.  Si **no** puedes *escribir un comentario claro*, puede haber un *problema en el código*.\n",
    "4.  Deberían *evitar* la confusión, **no** *crearla*.\n",
    "5.  ***Usa comentarios para explicar código no idiomático.***\n",
    "6.  Proporciona enlaces a la fuente original del código copiado.\n",
    "7.  Incluye enlaces a referencias externas que sean de ayuda.\n",
    "8.  *Añade* comentarios cuando *arregles* **errores**.\n",
    "9.  Úsalos para *destacar* implementaciones incompletas."
   ]
  },
  {
   "cell_type": "markdown",
   "metadata": {},
   "source": [
    "### Ancho del código"
   ]
  },
  {
   "cell_type": "markdown",
   "metadata": {},
   "source": [
    "> Los programas suelen ser más legibles cuando las líneas no son excesivamente largas. La longitud máxima de línea recomendada es de **80 caracteres**.\n",
    "\n",
    "En caso de que queramos **romper una línea de código**:\n",
    "* Usar la *barra invertida* **' \\ '**\n",
    "* Usar los *paréntesis* **(...)**"
   ]
  },
  {
   "cell_type": "code",
   "execution_count": 7,
   "metadata": {},
   "outputs": [
    {
     "data": {
      "text/plain": [
       "24"
      ]
     },
     "execution_count": 7,
     "metadata": {},
     "output_type": "execute_result"
    }
   ],
   "source": [
    "factorial = 4 * 3 * 2 * 1\n",
    "\n",
    "factorial = 4 * \\\n",
    "            3 * \\\n",
    "            2 * \\\n",
    "            1\n",
    "\n",
    "factorial"
   ]
  },
  {
   "cell_type": "code",
   "execution_count": 6,
   "metadata": {},
   "outputs": [
    {
     "data": {
      "text/plain": [
       "24"
      ]
     },
     "execution_count": 6,
     "metadata": {},
     "output_type": "execute_result"
    }
   ],
   "source": [
    "factorial = 4 * 3 * 2 * 1\n",
    "\n",
    "factorial = (4 * \n",
    "             3 * \n",
    "             2 * \n",
    "             1)\n",
    "\n",
    "factorial"
   ]
  },
  {
   "cell_type": "markdown",
   "metadata": {},
   "source": [
    "### La sentencia ***if***"
   ]
  },
  {
   "cell_type": "markdown",
   "metadata": {},
   "source": [
    ">La sentencia condicional en Python es **if**. En su escritura debemos añadir una **expresión de comparación** terminando con **dos puntos** al final de la línea.\n",
    "* No es necesario incluir paréntesis **(** y **)** al escribir condiciones. Hay veces que es recomendable por claridad o por establecer prioridades."
   ]
  },
  {
   "cell_type": "code",
   "execution_count": 1,
   "metadata": {},
   "outputs": [
    {
     "name": "stdout",
     "output_type": "stream",
     "text": [
      "Aviso por alta temperatura\n"
     ]
    }
   ],
   "source": [
    "temperature = 40\n",
    "\n",
    "if temperature > 35:\n",
    "    print('Aviso por alta temperatura')"
   ]
  },
  {
   "cell_type": "markdown",
   "metadata": {},
   "source": [
    ">La condición se cumple y por tanto se ejecuta la instrucción que tenemos dentro del cuerpo de la condición. Pero podría no ser así. Para controlar ese caso existe la sentencia **else**."
   ]
  },
  {
   "cell_type": "code",
   "execution_count": 2,
   "metadata": {},
   "outputs": [
    {
     "name": "stdout",
     "output_type": "stream",
     "text": [
      "Parámetros normales\n"
     ]
    }
   ],
   "source": [
    "temperature = 20\n",
    "\n",
    "if temperature > 35:\n",
    "    print('Aviso por alta temperatura')\n",
    "else:\n",
    "    print('Parámetros normales')"
   ]
  },
  {
   "cell_type": "markdown",
   "metadata": {},
   "source": [
    ">Podríamos tener incluso condiciones dentro de condiciones, es decir **condiciones anidadas**.\n",
    "\n",
    "* El anidamiento (nesting) hace referencia a incorporar sentencias unas dentro de otras mediante la inclusión de diversos niveles de profundidad (indentación) "
   ]
  },
  {
   "cell_type": "code",
   "execution_count": 3,
   "metadata": {},
   "outputs": [
    {
     "name": "stdout",
     "output_type": "stream",
     "text": [
      "Nivel naranja\n"
     ]
    }
   ],
   "source": [
    "temperature = 28\n",
    "\n",
    "if temperature < 20:\n",
    "    if temperature < 10:\n",
    "        print('Nivel azul')\n",
    "    else:\n",
    "        print('Nivel verde')\n",
    "else:\n",
    "    if temperature < 30:\n",
    "        print('Nivel naranja')\n",
    "    else:\n",
    "        print('Nivel rojo')"
   ]
  },
  {
   "cell_type": "markdown",
   "metadata": {},
   "source": [
    ">Cuando aparecen consecutivamente un **else** y un **if**. Podemos sustituirlos por la sentencia **elif**"
   ]
  },
  {
   "cell_type": "code",
   "execution_count": 4,
   "metadata": {},
   "outputs": [
    {
     "name": "stdout",
     "output_type": "stream",
     "text": [
      "Nivel naranja\n"
     ]
    }
   ],
   "source": [
    "temperature = 28\n",
    "\n",
    "if temperature < 20:\n",
    "    if temperature < 10:\n",
    "        print('Nivel azul')\n",
    "    else:\n",
    "        print('Nivel verde')\n",
    "elif temperature < 30:\n",
    "    print('Nivel naranja')\n",
    "else:\n",
    "    print('Nivel rojo')"
   ]
  },
  {
   "cell_type": "markdown",
   "metadata": {},
   "source": [
    "### Operadores de comparación"
   ]
  },
  {
   "cell_type": "markdown",
   "metadata": {},
   "source": [
    ">Cuando escribimos condiciones debemos incluir alguna expresión de comparación.\n",
    "\n",
    "| Operación | Operador      | Ejemplo         |\n",
    "|:---------:|:-------------:|:---------------:|\n",
    "| ==        | Igual         | 10 == 3 = False |\n",
    "| !=        | Distinto      | 10 != 3 = True  |\n",
    "| >         | Mayor         | 10 > 3 = True   |\n",
    "| <         | Menor         | 10 < 3 = False  |\n",
    "| >=        | Mayor o igual | 10 >= 3 = True  |\n",
    "| <=        | Menor o igual | 10 <= 3 = False |"
   ]
  },
  {
   "cell_type": "code",
   "execution_count": 6,
   "metadata": {},
   "outputs": [
    {
     "name": "stdout",
     "output_type": "stream",
     "text": [
      "8 igual a 8: True\n",
      "8 es distinto a 8: False\n",
      "8 es menor a 12: True\n",
      "8 es menor o igual a 7: False\n",
      "8 es mayor a 4: True\n",
      "8 es mayor o igual a 9: True\n"
     ]
    }
   ],
   "source": [
    "value = 8\n",
    "\n",
    "print(f'{value} igual a 8: {value == 8}')\n",
    "print(f'{value} es distinto a 8: {value != 8}')\n",
    "print(f'{value} es menor a 12: {value < 12}')\n",
    "print(f'{value} es menor o igual a 7: {value <= 7}')\n",
    "print(f'{value} es mayor a 4: {value > 4}')\n",
    "print(f'{value} es mayor o igual a 9: {value >= 4}')"
   ]
  },
  {
   "cell_type": "markdown",
   "metadata": {},
   "source": [
    "> Podemos escribir condiciones más complejas usando los operadores lógicos:\n",
    "* **and**: se verifican que A y B sean verdaderas. \n",
    "* **or**: se verifican que A o B sean verdaderas.\n",
    "* **\"or exclusiva\"**, se verifica ((A and not(B)) or (not(A) and B))\n",
    "\n",
    "| A | B | A and B |A or B | A \"or exclusiva\" B |\n",
    "|:-:|:-:|:------: |:-----:|:-----------------: |\n",
    "| 1 | 0 | 0       |1     |1                   |\n",
    "| 0 | 0 | 0       |0      |0                   |\n",
    "| 0 | 1 | 0       |1      |1                  |\n",
    "| 1 | 1 | 1       |1      |0                   |\n",
    "\n",
    "* **not**: puede estar representado con ¬ o ~\n",
    "\n",
    "| A | ¬A |\n",
    "|:-:|:--:|\n",
    "| 1 | 0 |\n",
    "| 0 | 1 |"
   ]
  },
  {
   "cell_type": "code",
   "execution_count": 9,
   "metadata": {},
   "outputs": [
    {
     "name": "stdout",
     "output_type": "stream",
     "text": [
      "Es 8 mayor que 4 o mayor que 12: True\n",
      "Es 8 menor que 4 o mayor que 12: False\n",
      "Es 8 mayor que 4 y mayor que 12: False\n",
      "El 8 NO es diferente a 8: True\n"
     ]
    }
   ],
   "source": [
    "# Asignación de valor inicial\n",
    "x = 8\n",
    "\n",
    "print(f'Es {x} mayor que 4 o mayor que 12: {x > 4 or x > 12}') #Se cumple una de las condiciones entonces es verdadero.\n",
    "print(f'Es {x} menor que 4 o mayor que 12: {x < 4 or x > 12}') #No se cumple ninguna de las condiciones.\n",
    "print(f'Es {x} mayor que 4 y mayor que 12: {x > 4 and x > 12}') #Se tienen que cumplir ambas condiciones para ser verdadera.\n",
    "print(f'El {x} NO es diferente a 8: {not(x != 8)}') #El not invierte el valor de adentro del paréntesis."
   ]
  },
  {
   "cell_type": "markdown",
   "metadata": {},
   "source": [
    "> Python ofrece la posibilidad de ver si un valor está entre dos límites de manera directa"
   ]
  },
  {
   "cell_type": "code",
   "execution_count": 13,
   "metadata": {},
   "outputs": [
    {
     "name": "stdout",
     "output_type": "stream",
     "text": [
      "8 es mayor o igual a 4 y es menor o igual a 12: True\n"
     ]
    }
   ],
   "source": [
    "print(f'{x} es mayor o igual a 4 y es menor o igual a 12: {4 <= x <= 12}')"
   ]
  },
  {
   "cell_type": "markdown",
   "metadata": {},
   "source": [
    "* Una expresión de comparación siempre devuelve un valor *booleano*\n",
    "* El uso de paréntesis, en función del caso, puede aclarar la expresión de comparación."
   ]
  },
  {
   "cell_type": "markdown",
   "metadata": {},
   "source": [
    "#### Booleanos en condicionales"
   ]
  },
  {
   "cell_type": "markdown",
   "metadata": {},
   "source": [
    "> Cuando queremos preguntar por la **veracidad** de una determinada variable *«booleana»*."
   ]
  },
  {
   "cell_type": "code",
   "execution_count": 15,
   "metadata": {},
   "outputs": [
    {
     "name": "stdout",
     "output_type": "stream",
     "text": [
      "Coge chaqueta\n"
     ]
    }
   ],
   "source": [
    "is_cold = True\n",
    "\n",
    "if is_cold == True:\n",
    "    print('Coge chaqueta')\n",
    "else:\n",
    "    print('Usa camiseta')"
   ]
  },
  {
   "cell_type": "markdown",
   "metadata": {},
   "source": [
    "* Se puede simplificar:"
   ]
  },
  {
   "cell_type": "code",
   "execution_count": 16,
   "metadata": {},
   "outputs": [
    {
     "name": "stdout",
     "output_type": "stream",
     "text": [
      "Coge chaqueta\n"
     ]
    }
   ],
   "source": [
    "#Al ser la variable = True, se cumple la condición\n",
    "if is_cold:\n",
    "    print('Coge chaqueta')\n",
    "else:\n",
    "    print('Usa camiseta')"
   ]
  },
  {
   "cell_type": "code",
   "execution_count": 17,
   "metadata": {},
   "outputs": [
    {
     "name": "stdout",
     "output_type": "stream",
     "text": [
      "Usa camisa\n"
     ]
    }
   ],
   "source": [
    "#Comparación para un valor  falso\n",
    "is_cold = False\n",
    "\n",
    "#El not adelante invierte el valor de la variable\n",
    "if not is_cold:   #Equivalente a if is_cold == False\n",
    "    print('Usa camisa')\n",
    "else:\n",
    "    print('Coge chaqueta')"
   ]
  },
  {
   "cell_type": "markdown",
   "metadata": {},
   "source": [
    "> Estamos reproduciendo bastante bien el *lenguaje natural*:\n",
    "* Si hace frío, coge chaqueta.\n",
    "* Si no hace frío, usa camiseta."
   ]
  },
  {
   "cell_type": "markdown",
   "metadata": {},
   "source": [
    "#### Valor nulo"
   ]
  },
  {
   "cell_type": "markdown",
   "metadata": {},
   "source": [
    ">**None** es un valor que almacena el **valor nulo**."
   ]
  },
  {
   "cell_type": "code",
   "execution_count": 33,
   "metadata": {},
   "outputs": [
    {
     "name": "stdout",
     "output_type": "stream",
     "text": [
      "Value seems to be void\n"
     ]
    }
   ],
   "source": [
    "value = None\n",
    "\n",
    "if value:\n",
    "    print('Value has some useful value')\n",
    "else:\n",
    "    # value podría contener None, False (u otro)\n",
    "    print('Value seems to be void')"
   ]
  },
  {
   "cell_type": "markdown",
   "metadata": {},
   "source": [
    "* Para distinguir **None** de los valores propiamente booleanos, se recomienda el uso del operador **is**."
   ]
  },
  {
   "cell_type": "code",
   "execution_count": 34,
   "metadata": {},
   "outputs": [
    {
     "name": "stdout",
     "output_type": "stream",
     "text": [
      "Value is clearly void\n"
     ]
    }
   ],
   "source": [
    "value = None\n",
    "\n",
    "if value is None:\n",
    "    print('Value is clearly void')\n",
    "else:\n",
    "    # value podría contener True, False (u otro)\n",
    "    print('Value has some useful value')"
   ]
  },
  {
   "cell_type": "markdown",
   "metadata": {},
   "source": [
    "* Forma \"pitónica\" de preguntar si algo no es nulo:"
   ]
  },
  {
   "cell_type": "code",
   "execution_count": 19,
   "metadata": {},
   "outputs": [
    {
     "name": "stdout",
     "output_type": "stream",
     "text": [
      "value = 99\n"
     ]
    }
   ],
   "source": [
    "value = 99\n",
    "\n",
    "if value is not None:\n",
    "    print(f'{value = }')"
   ]
  },
  {
   "cell_type": "markdown",
   "metadata": {},
   "source": [
    "### Sentencia match-case"
   ]
  },
  {
   "cell_type": "markdown",
   "metadata": {},
   "source": [
    "> *Structural Pattern Matching*: introdujo en el lenguaje una nueva sentencia condicional. Ésta se podría asemejar a la sentencia **«switch»**"
   ]
  },
  {
   "cell_type": "markdown",
   "metadata": {},
   "source": [
    "#### Comparando valores"
   ]
  },
  {
   "cell_type": "markdown",
   "metadata": {},
   "source": [
    "> El **«pattern matching»** permite comparar un valor de entrada con una serie de literales. Como un conjunto de sentencias *«if»* encadenadas."
   ]
  },
  {
   "cell_type": "code",
   "execution_count": 20,
   "metadata": {},
   "outputs": [
    {
     "name": "stdout",
     "output_type": "stream",
     "text": [
      "🔴\n",
      "🟢\n",
      "🔵\n"
     ]
    }
   ],
   "source": [
    "# Fuente: https://emojiterra.com \n",
    "\n",
    "print(chr(0x1F534))\n",
    "\n",
    "print(chr(0x1F7E2))\n",
    "\n",
    "print(chr(0x1F535))"
   ]
  },
  {
   "cell_type": "code",
   "execution_count": 21,
   "metadata": {},
   "outputs": [
    {
     "name": "stdout",
     "output_type": "stream",
     "text": [
      "🔴\n"
     ]
    }
   ],
   "source": [
    "color = '#FF0000'\n",
    "\n",
    "match color:\n",
    "    case '#FF0000':\n",
    "        print(chr(0x1f534))\n",
    "    case '#00FF00':\n",
    "        print(chr(0x1F7E2))\n",
    "    case '#0000FF':\n",
    "        print(chr(0x1F535))"
   ]
  },
  {
   "cell_type": "markdown",
   "metadata": {},
   "source": [
    "Si el valor que comparamos no existe entre las opciones disponibles, podemos añadir una nueva regla utilizando el **subguión _**"
   ]
  },
  {
   "cell_type": "code",
   "execution_count": 22,
   "metadata": {},
   "outputs": [
    {
     "name": "stdout",
     "output_type": "stream",
     "text": [
      "Unknown color!\n"
     ]
    }
   ],
   "source": [
    "color1 = '#AF549B'\n",
    "\n",
    "match color1:\n",
    "    case '#FF0000':\n",
    "        print(chr(0x1f534))\n",
    "    case '#00FF00':\n",
    "        print(chr(0x1F7E2))\n",
    "    case '#0000FF':\n",
    "        print(chr(0x1F535))\n",
    "    case _:\n",
    "        print('Unknown color!')"
   ]
  },
  {
   "cell_type": "markdown",
   "metadata": {},
   "source": [
    "#### Patrones avanzados"
   ]
  },
  {
   "cell_type": "markdown",
   "metadata": {},
   "source": [
    "> Con **match-case** podremos deconstruir estructuras de datos, capturar elementos o mapear valores.\n",
    "\n",
    "##### Ej. Vamos a partir de una *tupla* que representará un punto en el plano (2 coordenadas) o en el espacio (3 coordenadas), vamos a detectar en qué dimensión se encuentra el punto."
   ]
  },
  {
   "cell_type": "code",
   "execution_count": 25,
   "metadata": {},
   "outputs": [
    {
     "name": "stdout",
     "output_type": "stream",
     "text": [
      "(2,5) is in plane\n"
     ]
    }
   ],
   "source": [
    "point = (2, 5)\n",
    "\n",
    "match point:\n",
    "    case (x, y):\n",
    "        print(f'({x},{y}) is in plane')\n",
    "    case (x, y, z):\n",
    "        print(f'({x},{y},{z}) is in space')"
   ]
  },
  {
   "cell_type": "code",
   "execution_count": 24,
   "metadata": {},
   "outputs": [
    {
     "name": "stdout",
     "output_type": "stream",
     "text": [
      "(3,1,7) is in space\n"
     ]
    }
   ],
   "source": [
    "point = (3, 1, 7)\n",
    "\n",
    "match point:\n",
    "    case (x, y):\n",
    "        print(f'({x},{y}) is in plane')\n",
    "    case (x, y, z):\n",
    "        print(f'({x},{y},{z}) is in space')"
   ]
  },
  {
   "cell_type": "markdown",
   "metadata": {},
   "source": [
    "* Esta aproximación permitiría un punto formado por \"strings\"."
   ]
  },
  {
   "cell_type": "code",
   "execution_count": 23,
   "metadata": {},
   "outputs": [
    {
     "name": "stdout",
     "output_type": "stream",
     "text": [
      "(2,5) is in plane\n"
     ]
    }
   ],
   "source": [
    "point = ('2', '5')\n",
    "\n",
    "match point:\n",
    "    case (x, y):\n",
    "        print(f'({x},{y}) is in plane')\n",
    "    case (x, y, z):\n",
    "        print(f'({x},{y},{z}) is in space')"
   ]
  },
  {
   "cell_type": "markdown",
   "metadata": {},
   "source": [
    "* Podemos restringir nuestros patrones a valores enteros:"
   ]
  },
  {
   "cell_type": "code",
   "execution_count": 26,
   "metadata": {},
   "outputs": [
    {
     "name": "stdout",
     "output_type": "stream",
     "text": [
      "Unknown!\n"
     ]
    }
   ],
   "source": [
    "point = ('2', '5')\n",
    "\n",
    "match point:\n",
    "    case (int(), int()):\n",
    "        print(f'({x},{y}) is in plane')\n",
    "    case (int(), int(), int()):\n",
    "        print(f'({x},{y},{z}) is in space')\n",
    "    case _:\n",
    "        print('Unknown!')"
   ]
  },
  {
   "cell_type": "code",
   "execution_count": 27,
   "metadata": {},
   "outputs": [
    {
     "name": "stdout",
     "output_type": "stream",
     "text": [
      "(2,5,7) is in space\n"
     ]
    }
   ],
   "source": [
    "point = (3, 9, 1)\n",
    "\n",
    "match point:\n",
    "    case (int(), int()):\n",
    "        print(f'({x},{y}) is in plane')\n",
    "    case (int(), int(), int()):\n",
    "        print(f'({x},{y},{z}) is in space')\n",
    "    case _:\n",
    "        print('Unknown!')"
   ]
  },
  {
   "cell_type": "markdown",
   "metadata": {},
   "source": [
    "##### Nos piden calcular la distancia del punto al origen."
   ]
  },
  {
   "cell_type": "code",
   "execution_count": 56,
   "metadata": {},
   "outputs": [
    {
     "data": {
      "text/plain": [
       "9.899494936611665"
      ]
     },
     "execution_count": 56,
     "metadata": {},
     "output_type": "execute_result"
    }
   ],
   "source": [
    "point = (8, 3, 5)\n",
    "\n",
    "match point:\n",
    "    case (int(x), int(y)):\n",
    "        dist_to_origin = (x ** 2 + y ** 2) ** (1 / 2)\n",
    "    case (int(x), int(y), int(z)):\n",
    "        dist_to_origin = (x ** 2 + y ** 2 + z ** 2) ** (1 / 2)\n",
    "    case _:\n",
    "        print('Unknown!')\n",
    "\n",
    "dist_to_origin"
   ]
  },
  {
   "cell_type": "code",
   "execution_count": 28,
   "metadata": {},
   "outputs": [
    {
     "name": "stdout",
     "output_type": "stream",
     "text": [
      "Unknown!\n"
     ]
    }
   ],
   "source": [
    "point = ('8', 3, 5)  # Nótese el 8 como \"string\"\n",
    "\n",
    "match point:\n",
    "    case (int(x), int(y)):\n",
    "        dist_to_origin = (x ** 2 + y ** 2) ** (1 / 2)\n",
    "    case (int(x), int(y), int(z)):\n",
    "        dist_to_origin = (x ** 2 + y ** 2 + z ** 2) ** (1 / 2)\n",
    "    case _:\n",
    "        print('Unknown!')"
   ]
  },
  {
   "cell_type": "markdown",
   "metadata": {},
   "source": [
    "##### Ej. Tenemos que **comprobar la estructura de un bloque de autenticación** definido mediante un *diccionario*.\n",
    "Métodos válidos de autenticación son:\n",
    "* Usando nombre de usuario y contraseña.\n",
    "* Usando correo electrónico y «token» de acceso."
   ]
  },
  {
   "cell_type": "code",
   "execution_count": 29,
   "metadata": {},
   "outputs": [],
   "source": [
    "# Lista de diccionarios\n",
    "auths = [\n",
    "    {'username': 'sdelquin', 'password': '1234'},\n",
    "    {'email': 'sdelquin@gmail.com', 'token': '4321'},\n",
    "    {'email': 'test@test.com', 'password': 'ABCD'}, #No es válido. Tiene que haber un token\n",
    "    {'username': 'sdelquin', 'password': 1234}  #No es válido. La contraseña tiene que se un string.\n",
    "    ]"
   ]
  },
  {
   "cell_type": "code",
   "execution_count": 32,
   "metadata": {},
   "outputs": [
    {
     "name": "stdout",
     "output_type": "stream",
     "text": [
      "{'username': 'sdelquin', 'password': '1234'}\n",
      "Authenticating with username and password\n",
      "sdelquin: 1234\n",
      "---\n",
      "{'email': 'sdelquin@gmail.com', 'token': '4321'}\n",
      "Authenticating with email and token\n",
      "sdelquin@gmail.com: 4321\n",
      "---\n",
      "{'email': 'test@test.com', 'password': 'ABCD'}\n",
      "Authenticating method not valid!\n",
      "---\n",
      "{'username': 'sdelquin', 'password': 1234}\n",
      "Authenticating method not valid!\n",
      "---\n"
     ]
    }
   ],
   "source": [
    "for auth in auths:\n",
    "    print(auth)\n",
    "    match auth:\n",
    "        case {'username': str(username), 'password': str(password)}:\n",
    "            print('Authenticating with username and password')\n",
    "            print(f'{username}: {password}')\n",
    "        case {'email': str(email), 'token': str(token)}:\n",
    "            print('Authenticating with email and token')\n",
    "            print(f'{email}: {token}')\n",
    "        case _:\n",
    "            print('Authenticating method not valid!')\n",
    "    print('---')"
   ]
  },
  {
   "cell_type": "markdown",
   "metadata": {},
   "source": [
    "##### Ej. Veremos un código que nos indica si, dada la edad de una persona, puede beber alcohol."
   ]
  },
  {
   "cell_type": "code",
   "execution_count": 33,
   "metadata": {},
   "outputs": [
    {
     "name": "stdout",
     "output_type": "stream",
     "text": [
      "Not in the US\n"
     ]
    }
   ],
   "source": [
    "age = 21\n",
    "\n",
    "match age:\n",
    "    case 0 | None:  #uso del operador OR.\n",
    "        print('Not a person')\n",
    "    case n if n < 17:\n",
    "        print('Nope')\n",
    "    case n if n < 22:\n",
    "        print('Not in the US')\n",
    "    case _:\n",
    "        print('Yes')"
   ]
  },
  {
   "cell_type": "markdown",
   "metadata": {},
   "source": [
    "### Operador morsa"
   ]
  },
  {
   "cell_type": "markdown",
   "metadata": {},
   "source": [
    ">**Operador morsa** permite unificar sentencias de asignación dentro de expresiones. Esto permite obtener un código más compacto. *(Se denomina así porque el operador := tiene similitud con los colmillos de una morsa).* "
   ]
  },
  {
   "cell_type": "markdown",
   "metadata": {},
   "source": [
    "##### Versión Tradicional"
   ]
  },
  {
   "cell_type": "code",
   "execution_count": 34,
   "metadata": {},
   "outputs": [
    {
     "name": "stdout",
     "output_type": "stream",
     "text": [
      "Increase radius to reach minimum perimeter\n",
      "Actual perimeter:  26.69\n"
     ]
    }
   ],
   "source": [
    "radius = 4.25\n",
    "perimeter = 2 * 3.14 * radius\n",
    "\n",
    "if perimeter < 100:\n",
    "    print('Increase radius to reach minimum perimeter')\n",
    "    print('Actual perimeter: ', perimeter)"
   ]
  },
  {
   "cell_type": "markdown",
   "metadata": {},
   "source": [
    "##### Versión con operador morsa"
   ]
  },
  {
   "cell_type": "code",
   "execution_count": 35,
   "metadata": {},
   "outputs": [
    {
     "name": "stdout",
     "output_type": "stream",
     "text": [
      "Increase radius to reach minimum perimeter\n",
      "Actual perimeter:  26.69\n"
     ]
    }
   ],
   "source": [
    "radius = 4.25\n",
    "if (perimeter := 2 * 3.14 * radius) < 100:\n",
    "    print('Increase radius to reach minimum perimeter')\n",
    "    print('Actual perimeter: ', perimeter)"
   ]
  }
 ],
 "metadata": {
  "kernelspec": {
   "display_name": "Python 3",
   "language": "python",
   "name": "python3"
  },
  "language_info": {
   "codemirror_mode": {
    "name": "ipython",
    "version": 3
   },
   "file_extension": ".py",
   "mimetype": "text/x-python",
   "name": "python",
   "nbconvert_exporter": "python",
   "pygments_lexer": "ipython3",
   "version": "3.11.9"
  },
  "orig_nbformat": 4
 },
 "nbformat": 4,
 "nbformat_minor": 2
}
