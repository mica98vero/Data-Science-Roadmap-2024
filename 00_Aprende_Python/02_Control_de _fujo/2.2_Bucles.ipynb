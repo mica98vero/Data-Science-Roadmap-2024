{
 "cells": [
  {
   "cell_type": "markdown",
   "metadata": {},
   "source": [
    "# Control de flujo"
   ]
  },
  {
   "cell_type": "markdown",
   "metadata": {},
   "source": [
    ">Todo programa informático está formado por *instrucciones* que se ejecutan en forma secuencial. Este orden constituye el llamado ***flujo*** del programa, el cual se puede modificar para que tome *bifuraciones* o *repita* instrucciones. Estas sentencias se las conoce como **control de flujo**."
   ]
  },
  {
   "cell_type": "markdown",
   "metadata": {},
   "source": [
    "## Bucles"
   ]
  },
  {
   "cell_type": "markdown",
   "metadata": {},
   "source": [
    "> Cuando queremos hacer algo más de una vez, necesitamos recurrir a un bucle."
   ]
  },
  {
   "cell_type": "markdown",
   "metadata": {},
   "source": [
    "### La sentencia *while*"
   ]
  },
  {
   "cell_type": "markdown",
   "metadata": {},
   "source": [
    "Función|Lo que hace\n",
    ":-:|:-:\n",
    "**while**|Mientras *se cumpla la condición* haz algo."
   ]
  },
  {
   "cell_type": "code",
   "execution_count": 1,
   "metadata": {},
   "outputs": [
    {
     "name": "stdout",
     "output_type": "stream",
     "text": [
      "1\n",
      "2\n",
      "3\n",
      "4\n"
     ]
    }
   ],
   "source": [
    "value = 1\n",
    "\n",
    "while value <= 4:   #Mientras que value sea menor o igual a cuatro.\n",
    "    print(value)\n",
    "    value += 1      #Incrementamos de a 1 su tamaño y cuando llegue a 5 sale del bucle."
   ]
  },
  {
   "cell_type": "markdown",
   "metadata": {},
   "source": [
    "#### Romper un bucle while"
   ]
  },
  {
   "cell_type": "markdown",
   "metadata": {},
   "source": [
    "> *Romper* o finalizar un bucle *antes de que se cumpla la condición de parada.*\n",
    "\n",
    "Función|Lo que hace\n",
    ":-:|:-:\n",
    "**break**|Permite terminar con la ejecución del bucle. Una vez se encuentra la palabra break, el bucle se habrá terminado."
   ]
  },
  {
   "cell_type": "code",
   "execution_count": 3,
   "metadata": {},
   "outputs": [
    {
     "name": "stdout",
     "output_type": "stream",
     "text": [
      "18\n"
     ]
    }
   ],
   "source": [
    "num = 20\n",
    "\n",
    "while num >= 1:\n",
    "    if num % 3 == 0:\n",
    "        print(num)\n",
    "        break       #finaliza el bucle una vez que hemos encontrado nuestro objetivo.\n",
    "    num -= 1"
   ]
  },
  {
   "cell_type": "markdown",
   "metadata": {},
   "source": [
    "* Si no lo hubiéramos encontrado, el bucle habría seguido decrementando la variable *num* hasta valer 0, y la condición del bucle while hubiera resultado falsa."
   ]
  },
  {
   "cell_type": "markdown",
   "metadata": {},
   "source": [
    "#### Comprobar la rotura"
   ]
  },
  {
   "cell_type": "markdown",
   "metadata": {},
   "source": [
    ">*Detectar si el bucle ha acabado de forma ordinaria*, es decir, ha finalizado por no cumplirse la condición establecida. Para ello podemos hacer uso de la sentencia **else**."
   ]
  },
  {
   "cell_type": "code",
   "execution_count": 4,
   "metadata": {},
   "outputs": [
    {
     "name": "stdout",
     "output_type": "stream",
     "text": [
      "No multiples of 9 found!\n"
     ]
    }
   ],
   "source": [
    "num = 8\n",
    "\n",
    "while num >= 1: #tratamos de encontrar un multiplo de 9 en el rango (1 a 8), obviamente no va suceder.\n",
    "    if num % 9 == 0: \n",
    "        print(f'{num} is a multiple of 9!')\n",
    "        break\n",
    "    num -= 1\n",
    "else:\n",
    "    print('No multiples of 9 found!')"
   ]
  },
  {
   "cell_type": "markdown",
   "metadata": {},
   "source": [
    "##### Ending a Program with sys.exit()"
   ]
  },
  {
   "cell_type": "markdown",
   "metadata": {},
   "source": [
    "> **Exit()** function allows you exiting Python."
   ]
  },
  {
   "cell_type": "code",
   "execution_count": 1,
   "metadata": {},
   "outputs": [
    {
     "name": "stdout",
     "output_type": "stream",
     "text": [
      "You typed exit.\n"
     ]
    },
    {
     "ename": "SystemExit",
     "evalue": "",
     "output_type": "error",
     "traceback": [
      "An exception has occurred, use %tb to see the full traceback.\n",
      "\u001b[1;31mSystemExit\u001b[0m\n"
     ]
    },
    {
     "name": "stderr",
     "output_type": "stream",
     "text": [
      "C:\\Users\\unama\\AppData\\Roaming\\Python\\Python312\\site-packages\\IPython\\core\\interactiveshell.py:3585: UserWarning: To exit: use 'exit', 'quit', or Ctrl-D.\n",
      "  warn(\"To exit: use 'exit', 'quit', or Ctrl-D.\", stacklevel=1)\n"
     ]
    }
   ],
   "source": [
    "import sys\n",
    "\n",
    "while True:\n",
    "    feedback = input('Type exit to exit: ')\n",
    "    if feedback == 'exit':\n",
    "        print(f'You typed {feedback}.')\n",
    "        sys.exit()"
   ]
  },
  {
   "cell_type": "markdown",
   "metadata": {},
   "source": [
    "#### Continuar un bucle"
   ]
  },
  {
   "cell_type": "markdown",
   "metadata": {},
   "source": [
    "> **Saltar adelante hacia la siguiente repetición.**\n",
    "\n",
    "Función|Lo que hace\n",
    ":-:|:-:\n",
    "**continue**|se salta todo el código restante en la iteración actual y vuelve al principio en el caso de que aún queden iteraciones por completar"
   ]
  },
  {
   "cell_type": "code",
   "execution_count": 5,
   "metadata": {},
   "outputs": [
    {
     "name": "stdout",
     "output_type": "stream",
     "text": [
      "20|19|17|16|14|13|11|10|8|7|5|4|2|1|"
     ]
    }
   ],
   "source": [
    "# Mostrar todos los números en el rango [1, 20] ignorando aquellos que sean múltiplos de 3:\n",
    "num = 21\n",
    "\n",
    "while num >= 1:\n",
    "    num -= 1            #Decremento de la variable\n",
    "    if num % 3 == 0:\n",
    "        continue\n",
    "    print(num, end='|') # Evitar salto de línea"
   ]
  },
  {
   "cell_type": "markdown",
   "metadata": {},
   "source": [
    "#### Bucle infinito"
   ]
  },
  {
   "cell_type": "markdown",
   "metadata": {},
   "source": [
    ">Si no establecemos correctamente la **condición de parada** o bien el valor de alguna variable está fuera de control, es posible que lleguemos a una situación de bucle infinito, del que nunca podamos salir."
   ]
  },
  {
   "cell_type": "code",
   "execution_count": 4,
   "metadata": {},
   "outputs": [
    {
     "ename": "KeyboardInterrupt",
     "evalue": "",
     "output_type": "error",
     "traceback": [
      "\u001b[1;31m---------------------------------------------------------------------------\u001b[0m",
      "\u001b[1;31mKeyboardInterrupt\u001b[0m                         Traceback (most recent call last)",
      "Cell \u001b[1;32mIn[4], line 3\u001b[0m\n\u001b[0;32m      1\u001b[0m num \u001b[39m=\u001b[39m \u001b[39m1\u001b[39m\n\u001b[1;32m----> 3\u001b[0m \u001b[39mwhile\u001b[39;00m num \u001b[39m!=\u001b[39m \u001b[39m10\u001b[39m:\n\u001b[0;32m      4\u001b[0m     num \u001b[39m+\u001b[39m\u001b[39m=\u001b[39m \u001b[39m2\u001b[39m\n",
      "\u001b[1;31mKeyboardInterrupt\u001b[0m: "
     ]
    }
   ],
   "source": [
    "num = 1\n",
    "\n",
    "while num != 10:        #La variable toma los valores 1, 3, 5, 7, 9, 11 y nunca se cumple la condición de parada.\n",
    "    num += 2"
   ]
  },
  {
   "cell_type": "markdown",
   "metadata": {},
   "source": [
    "Esto hace que repitamos *\"eternamente\"* la instrucción de incremento. Una posible solución a este error es reescribir la condición de parada en el bucle."
   ]
  },
  {
   "cell_type": "code",
   "execution_count": 6,
   "metadata": {},
   "outputs": [
    {
     "name": "stdout",
     "output_type": "stream",
     "text": [
      "1|3|5|7|9|"
     ]
    }
   ],
   "source": [
    "num = 1\n",
    "\n",
    "while num < 10:\n",
    "    print(num, end='|')\n",
    "    num += 2"
   ]
  },
  {
   "cell_type": "markdown",
   "metadata": {},
   "source": [
    "---\n",
    "\n",
    "Truco: Para abortar una situación de bucle infinito podemos pulsar en el teclado la combinación CTRL-C.\n",
    "\n",
    "---"
   ]
  },
  {
   "cell_type": "markdown",
   "metadata": {},
   "source": [
    "### La sentencia *for*"
   ]
  },
  {
   "cell_type": "markdown",
   "metadata": {},
   "source": [
    "Función|Lo que hace\n",
    ":-:|:-:\n",
    "**for**|permite recorrer aquellos tipos de datos que sean **iterables** (*iterar* sobre ellos) como *cadenas de texto, listas, diccionarios, ficheros, etc.*\n",
    "* La variable que utilizamos en el bucle for para ir tomando los valores puede tener **cualquier nombre**. Tener en cuenta que se suele usar un nombre en *singular.*"
   ]
  },
  {
   "cell_type": "code",
   "execution_count": 10,
   "metadata": {},
   "outputs": [
    {
     "name": "stdout",
     "output_type": "stream",
     "text": [
      "P|y|t|h|o|n|\n",
      "\n",
      "P\n",
      "y\n",
      "t\n",
      "h\n",
      "o\n",
      "n\n"
     ]
    }
   ],
   "source": [
    "word = 'Python'\n",
    "\n",
    "for letter in word:             #bucle va tomando, en cada iteración, cada uno de los elementos de la variable que especifiquemos.\n",
    "    print(letter, end='|')      #letter va tomando cada una de las letras que existen en word.\n",
    "\n",
    "print('\\n')\n",
    "\n",
    "for letter in word:\n",
    "    print(f'{letter}')"
   ]
  },
  {
   "cell_type": "markdown",
   "metadata": {},
   "source": [
    "#### Romper un bucle for"
   ]
  },
  {
   "cell_type": "markdown",
   "metadata": {},
   "source": [
    "> Una sentencia **break** dentro de un *for* rompe el bucle al igual que para los bucles *while*"
   ]
  },
  {
   "cell_type": "code",
   "execution_count": 11,
   "metadata": {},
   "outputs": [
    {
     "name": "stdout",
     "output_type": "stream",
     "text": [
      "P\n",
      "y\n",
      "t\n",
      "Se encontró la letra = 'h'\n"
     ]
    }
   ],
   "source": [
    "cadena = 'Python'\n",
    "\n",
    "for letra in cadena:\n",
    "    if letra == 'h':\n",
    "        print(f\"Se encontró la {letra = }\")\n",
    "        break\n",
    "    print(letra)"
   ]
  },
  {
   "cell_type": "markdown",
   "metadata": {},
   "source": [
    "---\n",
    "\n",
    "Tanto la *comprobación de rotura de un bucle* como la *continuación a la siguiente iteración* se llevan a cabo del mismo modo que hemos visto con los bucles de tipo **while.**\n",
    "\n",
    "---"
   ]
  },
  {
   "cell_type": "markdown",
   "metadata": {},
   "source": [
    "#### Secuencias de números"
   ]
  },
  {
   "cell_type": "markdown",
   "metadata": {},
   "source": [
    "\n",
    "Función|Lo que hace\n",
    ":-:|:-:\n",
    "**range(*start, stop, step*)**|Devuelve un *flujo de números* en el rango especificado, un *objeto iterable* e iremos obteniendo los valores con una sentencia **for ... in**.\n",
    "\n",
    "* **start**: Es *opcional* y tiene valor por defecto 0. \n",
    "* **stop**: es *obligatorio* (siempre se llega a 1 menos que este valor).\n",
    "* **step**: es *opcional* y tiene valor por defecto 1."
   ]
  },
  {
   "cell_type": "code",
   "execution_count": 19,
   "metadata": {},
   "outputs": [
    {
     "name": "stdout",
     "output_type": "stream",
     "text": [
      "0\n",
      "1\n",
      "2\n",
      "3\n"
     ]
    }
   ],
   "source": [
    "for i in range(4):\n",
    "    print(i)"
   ]
  },
  {
   "cell_type": "code",
   "execution_count": 17,
   "metadata": {},
   "outputs": [
    {
     "name": "stdout",
     "output_type": "stream",
     "text": [
      "1\n",
      "2\n",
      "3\n"
     ]
    }
   ],
   "source": [
    "for i in range(1,4):\n",
    "    print(i)"
   ]
  },
  {
   "cell_type": "code",
   "execution_count": 18,
   "metadata": {},
   "outputs": [
    {
     "name": "stdout",
     "output_type": "stream",
     "text": [
      "1\n",
      "3\n",
      "5\n"
     ]
    }
   ],
   "source": [
    "for i in range(1, 6, 2):\n",
    "    print(i)"
   ]
  },
  {
   "cell_type": "code",
   "execution_count": 20,
   "metadata": {},
   "outputs": [
    {
     "name": "stdout",
     "output_type": "stream",
     "text": [
      "2\n",
      "1\n",
      "0\n"
     ]
    }
   ],
   "source": [
    "for i in range(2, -1, -1):\n",
    "    print(i)"
   ]
  },
  {
   "cell_type": "markdown",
   "metadata": {},
   "source": [
    "---\n",
    "\n",
    "Se suelen utilizar nombres de variables **i, j, k** para lo que se denominan **contadores.**\n",
    "\n",
    "---"
   ]
  },
  {
   "cell_type": "code",
   "execution_count": 22,
   "metadata": {},
   "outputs": [
    {
     "name": "stdout",
     "output_type": "stream",
     "text": [
      "5 más grande que 2\n",
      "Todavía más grande\n",
      "Terminamos con el 2\n",
      "\n",
      "0\n",
      "Terminamos con i = 0\n",
      "1\n",
      "Terminamos con i = 1\n",
      "2\n",
      "Terminamos con i = 2\n",
      "3\n",
      "3 más grande que 2\n",
      "Terminamos con i = 3\n",
      "4\n",
      "4 más grande que 2\n",
      "Terminamos con i = 4\n",
      "Todo terminado\n"
     ]
    }
   ],
   "source": [
    "# Variable entera\n",
    "x = 5\n",
    "\n",
    "# Si la variable x es mayor que 2\n",
    "if x > 2 :\n",
    "    print(f'{x} más grande que 2')\n",
    "    print('Todavía más grande')\n",
    "print(f'Terminamos con el 2\\n')\n",
    "\n",
    "# Itero en un determinado rango. En este caso del 0 al 4.\n",
    "for i in range (5):\n",
    "    print(i)\n",
    "    # Si la variable i es mayor que 2\n",
    "    if i > 2:\n",
    "        print(f'{i} más grande que 2')\n",
    "     \n",
    "    print(f'Terminamos con {i = }')\n",
    "    \n",
    "print('Todo terminado')"
   ]
  },
  {
   "cell_type": "markdown",
   "metadata": {},
   "source": [
    "#### Usando el guión bajo"
   ]
  },
  {
   "cell_type": "markdown",
   "metadata": {},
   "source": [
    "> Cuando **no necesitamos usar la variable** que toma valores en el rango, se suele recomendar usar el **guión bajo _** como *nombre de variable*."
   ]
  },
  {
   "cell_type": "code",
   "execution_count": 23,
   "metadata": {},
   "outputs": [
    {
     "name": "stdout",
     "output_type": "stream",
     "text": [
      "Repeat me 10 times!\n",
      "Repeat me 10 times!\n",
      "Repeat me 10 times!\n",
      "Repeat me 10 times!\n",
      "Repeat me 10 times!\n",
      "Repeat me 10 times!\n",
      "Repeat me 10 times!\n",
      "Repeat me 10 times!\n",
      "Repeat me 10 times!\n",
      "Repeat me 10 times!\n"
     ]
    }
   ],
   "source": [
    "for _ in range(10):\n",
    "    print('Repeat me 10 times!')"
   ]
  },
  {
   "cell_type": "markdown",
   "metadata": {},
   "source": [
    "### Bucles anidados"
   ]
  },
  {
   "cell_type": "markdown",
   "metadata": {},
   "source": [
    "> El *anidamiento* es una técnica por la que incluimos distintos niveles de encapsulamiento de sentencias.\n",
    "\n",
    "* Podemos añadir todos los niveles de anidamiento que queramos. Eso sí, hay que tener encuenta que cada nuevo nivel de anidamiento supone *mayores tiempos de ejecución*.\n",
    "* Los bucles anidados también se pueden aplicar en la sentencia *while*"
   ]
  },
  {
   "cell_type": "code",
   "execution_count": 26,
   "metadata": {},
   "outputs": [
    {
     "name": "stdout",
     "output_type": "stream",
     "text": [
      "1 * 1 = 1\n",
      "1 * 2 = 2\n",
      "1 * 3 = 3\n",
      "1 * 4 = 4\n",
      "1 * 5 = 5\n",
      "2 * 1 = 2\n",
      "2 * 2 = 4\n",
      "2 * 3 = 6\n",
      "2 * 4 = 8\n",
      "2 * 5 = 10\n",
      "3 * 1 = 3\n",
      "3 * 2 = 6\n",
      "3 * 3 = 9\n",
      "3 * 4 = 12\n",
      "3 * 5 = 15\n",
      "4 * 1 = 4\n",
      "4 * 2 = 8\n",
      "4 * 3 = 12\n",
      "4 * 4 = 16\n",
      "4 * 5 = 20\n",
      "5 * 1 = 5\n",
      "5 * 2 = 10\n",
      "5 * 3 = 15\n",
      "5 * 4 = 20\n",
      "5 * 5 = 25\n"
     ]
    }
   ],
   "source": [
    "# Para cada valor que toma la variable i, la otra variable j toma todos sus valores.\n",
    "for i in range(1, 6):\n",
    "    for j in range(1, 6):\n",
    "        print(f'{i} * {j} = {i * j}')"
   ]
  }
 ],
 "metadata": {
  "kernelspec": {
   "display_name": "Python 3",
   "language": "python",
   "name": "python3"
  },
  "language_info": {
   "codemirror_mode": {
    "name": "ipython",
    "version": 3
   },
   "file_extension": ".py",
   "mimetype": "text/x-python",
   "name": "python",
   "nbconvert_exporter": "python",
   "pygments_lexer": "ipython3",
   "version": "3.12.4"
  },
  "orig_nbformat": 4
 },
 "nbformat": 4,
 "nbformat_minor": 2
}
