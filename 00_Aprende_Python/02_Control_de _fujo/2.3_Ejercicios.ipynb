{
 "cells": [
  {
   "cell_type": "markdown",
   "metadata": {},
   "source": [
    "Dada una variable **year** con un valor entero, compruebe si dicho año es bisiesto o no lo es. \n",
    "> Un año es bisiesto en el calendario Gregoriano, si es divisible entre 4 y no divisible entre 100, o bien si es divisible entre 400.\n",
    "Ejemplo:\n",
    "*   Entrada: 2008\n",
    "*   Salida: Es un año bisiesto"
   ]
  },
  {
   "cell_type": "code",
   "execution_count": 2,
   "metadata": {},
   "outputs": [
    {
     "name": "stdout",
     "output_type": "stream",
     "text": [
      "2008 es un año bisiesto.\n"
     ]
    }
   ],
   "source": [
    "year = int(input('Ingrese un año: '))\n",
    "\n",
    "if (year % 4) == 0:\n",
    "    if (year % 100) !=0:\n",
    "        print(f'{year} es un año bisiesto.')\n",
    "    else:\n",
    "        print(f'{year} no es un año bisiesto.')\n",
    "else:\n",
    "    print(f'{year} no es un año bisiesto.')"
   ]
  },
  {
   "cell_type": "markdown",
   "metadata": {},
   "source": [
    "* Respuesta de ChatGPT:"
   ]
  },
  {
   "cell_type": "code",
   "execution_count": 3,
   "metadata": {},
   "outputs": [
    {
     "name": "stdout",
     "output_type": "stream",
     "text": [
      "2008 es un año bisiesto\n"
     ]
    }
   ],
   "source": [
    "year = int(input('Ingresa un año: '))\n",
    "\n",
    "if (year % 4 == 0 and year % 100 != 0) or (year % 400 == 0):\n",
    "    print(f'{year} es un año bisiesto')\n",
    "else:\n",
    "    print(f'{year} no es un año bisiesto')"
   ]
  },
  {
   "cell_type": "markdown",
   "metadata": {},
   "source": [
    "Escriba un programa que permita adivinar un personaje de Marvel en base a las tres preguntas siguientes:\n",
    "1. ¿Puede volar?\n",
    "2. ¿Es humano?\n",
    "3. ¿Tiene máscara?\n",
    "\n",
    "Ejemplo:\n",
    "*   Entrada: can_fly = True; is_human = True y has_masl = True\n",
    "*   Salida: Ironman"
   ]
  },
  {
   "cell_type": "code",
   "execution_count": null,
   "metadata": {},
   "outputs": [],
   "source": [
    "can_fly = input('¿Puede volar? True or False')\n",
    "is_human = input('¿Es humano? True or False')\n",
    "has_mask = input('¿Tiene máscara? True or False')\n",
    "\n",
    "if can_fly == 'True':\n",
    "    if is_human == 'True':\n",
    "        if has_mask == 'True':\n",
    "            print('Ironman')\n",
    "        else:\n",
    "            print('Captain Marvel')\n",
    "    elif has_mask == 'True':\n",
    "        print('Ronan Accuser')\n",
    "    else:\n",
    "        print('Vision')        \n",
    "else:\n",
    "    if is_human == 'True':\n",
    "        if has_mask == 'True':\n",
    "            print('Spiderman')\n",
    "        else:\n",
    "            print('Hulk')\n",
    "    elif has_mask == 'True':\n",
    "        print('Black Bolt')\n",
    "    else:\n",
    "        print('Thanos')"
   ]
  },
  {
   "cell_type": "markdown",
   "metadata": {},
   "source": [
    "* Respuesta de ChatGPT"
   ]
  },
  {
   "cell_type": "code",
   "execution_count": 9,
   "metadata": {},
   "outputs": [
    {
     "name": "stdout",
     "output_type": "stream",
     "text": [
      "Vision\n"
     ]
    }
   ],
   "source": [
    "def obtener_entrada_booleana(pregunta):\n",
    "    while True:\n",
    "        respuesta = input(pregunta + \" (True/False): \").strip().capitalize()\n",
    "        if respuesta in ['True', 'False']:\n",
    "            return respuesta == 'True'\n",
    "        else:\n",
    "            print('Por favor, ingrese \"True\" o \"False\".')\n",
    "\n",
    "#Obtener respuestas del usuario\n",
    "can_fly = obtener_entrada_booleana('¿Puede volar?')\n",
    "is_human = obtener_entrada_booleana('¿Es humano?')\n",
    "has_mask = obtener_entrada_booleana('¿Tiene máscara?')\n",
    "\n",
    "#Determinar el personaje basado en las respuestas\n",
    "if can_fly:\n",
    "    if is_human:\n",
    "        if has_mask:\n",
    "            print('Ironman')\n",
    "        else:\n",
    "            print('Captain Marvel')\n",
    "    else:\n",
    "        if has_mask:\n",
    "            print('Ronan Accuser')\n",
    "        else:\n",
    "            print('Vision')\n",
    "else:\n",
    "    if is_human:\n",
    "        if has_mask:\n",
    "            print('Spiderman')\n",
    "        else:\n",
    "            print('Hulk')\n",
    "    else:\n",
    "        if has_mask:\n",
    "            print('Black Bolt')\n",
    "        else:\n",
    "            print('Thanos')"
   ]
  },
  {
   "cell_type": "markdown",
   "metadata": {},
   "source": [
    "Escriba un programa que pida (por separado) dos valores numéricos y un operando (suma, resta, multiplicación, división) y calcule el resultado de la operación, usando para ello la sentencia **match-case**. Controlar que la operación no sea una de las cuatro predefinidas. En este\n",
    "caso dar un mensaje de error y no mostrar el resultado final\n",
    "Ejemplo: \n",
    "*   Entrada: 4, 3, +  \n",
    "*   Salida: 4 + 3 = 7"
   ]
  },
  {
   "cell_type": "code",
   "execution_count": 10,
   "metadata": {},
   "outputs": [
    {
     "name": "stdout",
     "output_type": "stream",
     "text": [
      "4 + 3 = 7\n"
     ]
    }
   ],
   "source": [
    "valor1 = int(input('Ingrese un valor númerico: '))\n",
    "valor2 = int(input('Ingrese otro valor númerico: '))\n",
    "operador = input('Ingrese un operador (+, -, * o /): ')\n",
    "\n",
    "match operador:\n",
    "    case '+':\n",
    "        print(f'{valor1} {operador} {valor2} = {valor1 + valor2}')\n",
    "    case '-':\n",
    "        print(f'{valor1} {operador} {valor2} = {valor1 - valor2}')\n",
    "    case '*':\n",
    "        print(f'{valor1} {operador} {valor2} = {valor1 * valor2}')\n",
    "    case '/':\n",
    "        if valor2 != 0:\n",
    "            print(f'{valor1} {operador} {valor2} = {valor1 / valor2}')\n",
    "        else:\n",
    "            print(f'No se puede dividir por {valor2}')\n",
    "    case _:\n",
    "        print('Operador no válido')"
   ]
  },
  {
   "cell_type": "markdown",
   "metadata": {},
   "source": [
    "* Respuesta de ChatGPT"
   ]
  },
  {
   "cell_type": "code",
   "execution_count": 12,
   "metadata": {},
   "outputs": [
    {
     "name": "stdout",
     "output_type": "stream",
     "text": [
      "Error: División por cero.\n"
     ]
    }
   ],
   "source": [
    "def obtener_numero(prompt):\n",
    "    while True:\n",
    "        try:\n",
    "            return float(input(prompt))\n",
    "        except ValueError:\n",
    "            print(\"Por favor, ingrese un valor numérico válido.\")\n",
    "\n",
    "def obtener_operando():\n",
    "    operando = input(\"Ingrese el operando (+, -, *, /): \").strip()\n",
    "    if operando in ['+', '-', '*', '/']:\n",
    "        return operando\n",
    "    else:\n",
    "        return None\n",
    "\n",
    "# Solicitar al usuario que ingrese dos valores numéricos\n",
    "num1 = obtener_numero(\"Ingrese el primer número: \")\n",
    "num2 = obtener_numero(\"Ingrese el segundo número: \")\n",
    "\n",
    "# Solicitar al usuario que ingrese el operando\n",
    "operando = obtener_operando()\n",
    "\n",
    "# Utilizar match-case para determinar la operación\n",
    "match operando:\n",
    "    case '+':\n",
    "        resultado = num1 + num2\n",
    "        print(f\"{num1} + {num2} = {resultado}\")\n",
    "    case '-':\n",
    "        resultado = num1 - num2\n",
    "        print(f\"{num1} - {num2} = {resultado}\")\n",
    "    case '*':\n",
    "        resultado = num1 * num2\n",
    "        print(f\"{num1} * {num2} = {resultado}\")\n",
    "    case '/':\n",
    "        if num2 != 0:\n",
    "            resultado = num1 / num2\n",
    "            print(f\"{num1} / {num2} = {resultado}\")\n",
    "        else:\n",
    "            print(\"Error: División por cero.\")\n",
    "    case None:\n",
    "        print(\"Error: Operando no válido.\")\n",
    "    case _:\n",
    "        print(\"Error: Operando no válido.\")"
   ]
  },
  {
   "cell_type": "markdown",
   "metadata": {},
   "source": [
    "Escribir un programa que acepte la opciónde dos jugadoras en Piedra-Papel-Tijera y decida el resultado\n",
    "*   Entrada: \n",
    "    *   persona1 = piedra\n",
    "    *   persona2 = papel\n",
    "*   Salida: \n",
    "    *   Gana persona2: El papel vence a la piedra."
   ]
  },
  {
   "cell_type": "code",
   "execution_count": 19,
   "metadata": {},
   "outputs": [
    {
     "name": "stdout",
     "output_type": "stream",
     "text": [
      "piedra vence tijera. Gana persona2 = 'piedra'\n"
     ]
    }
   ],
   "source": [
    "persona1 = input('Ingresa una opción: piedra, papel o tijera')\n",
    "persona2 = input('Ingresa una opción: piedra, papel o tijera')\n",
    "\n",
    "if persona1 != persona2:\n",
    "    if (persona1 == 'piedra' and persona2 == 'tijera') or \\\n",
    "       (persona1 == 'tijera' and persona2 == 'papel') or \\\n",
    "       (persona1 == 'papel' and persona2 == 'piedra'):\n",
    "        print(f'{persona1} vence {persona2}. Gana {persona1 = }.')\n",
    "    elif (persona2 == 'piedra' and persona1 == 'tijera') or \\\n",
    "        (persona2 == 'tijera' and persona1 == 'papel') or \\\n",
    "        (persona2 == 'papel' and persona1 == 'piedra'):\n",
    "        print(f'{persona2} vence {persona1}. Gana {persona2 = }')\n",
    "    else:\n",
    "        print(f'Ingresaste mal una palabra, solo se acepta \"piedra\", \"papel\" o \"tijeras\".\\nLo que ingresaste fue: {persona1 = } y {persona2 = }')\n",
    "else:\n",
    "    print(f'{persona1} = {persona2}. Es un empate')"
   ]
  },
  {
   "cell_type": "markdown",
   "metadata": {},
   "source": [
    "* Respuesta de ChatGPT"
   ]
  },
  {
   "cell_type": "code",
   "execution_count": 14,
   "metadata": {},
   "outputs": [
    {
     "name": "stdout",
     "output_type": "stream",
     "text": [
      "Gana Jugador 2: papel vence a piedra.\n"
     ]
    }
   ],
   "source": [
    "# Pedir a los jugadores que ingresen sus opciones\n",
    "persona1 = input(\"Jugador 1, ingrese su elección (piedra, papel o tijera): \").lower()\n",
    "persona2 = input(\"Jugador 2, ingrese su elección (piedra, papel o tijera): \").lower()\n",
    "\n",
    "# Verificar que las opciones sean válidas\n",
    "if persona1 not in ['piedra', 'papel', 'tijera'] or persona2 not in ['piedra', 'papel', 'tijera']:\n",
    "    print(\"Por favor, ingrese opciones válidas: piedra, papel o tijera.\")\n",
    "else:\n",
    "    # Determinar el resultado\n",
    "    if persona1 == persona2:\n",
    "        resultado = \"Empate\"\n",
    "    elif (persona1 == \"piedra\" and persona2 == \"tijera\") or \\\n",
    "         (persona1 == \"papel\" and persona2 == \"piedra\") or \\\n",
    "         (persona1 == \"tijera\" and persona2 == \"papel\"):\n",
    "        resultado = f\"Gana Jugador 1: {persona1} vence a {persona2}.\"\n",
    "    else:\n",
    "        resultado = f\"Gana Jugador 2: {persona2} vence a {persona1}.\"\n",
    "\n",
    "    # Mostrar el resultado\n",
    "    print(resultado)"
   ]
  },
  {
   "cell_type": "markdown",
   "metadata": {},
   "source": [
    "Escriba un programa en Python que acepte 3 números y calcule el mínimo (solución).\n",
    "*   Entrada: 7, 4, 9\n",
    "*   Salida: 4"
   ]
  },
  {
   "cell_type": "code",
   "execution_count": 29,
   "metadata": {},
   "outputs": [
    {
     "name": "stdout",
     "output_type": "stream",
     "text": [
      "El mínimo de los números es: 4\n"
     ]
    }
   ],
   "source": [
    "numeros = input('Ingrese 3 números separados por comas: ')\n",
    "\n",
    "list_numeros = numeros.split(',')\n",
    "\n",
    "if len(list_numeros) == 3:\n",
    "    num_min = min(list_numeros)\n",
    "    print(f'El mínimo de los números es: {num_min}')\n",
    "else:\n",
    "    print(f'Se ingresaron más números de los solicitados.')"
   ]
  },
  {
   "cell_type": "markdown",
   "metadata": {},
   "source": [
    "* Respuesta de ChatGPT"
   ]
  },
  {
   "cell_type": "code",
   "execution_count": 28,
   "metadata": {},
   "outputs": [
    {
     "name": "stdout",
     "output_type": "stream",
     "text": [
      "El mínimo de los números es: 4\n"
     ]
    }
   ],
   "source": [
    "# Pedir al usuario que ingrese tres números separados por comas\n",
    "entrada = input(\"Ingrese tres números separados por comas: \")\n",
    "\n",
    "# Dividir la entrada en una lista de cadenas\n",
    "numeros_str = entrada.split(',')\n",
    "\n",
    "# Convertir las cadenas en números enteros\n",
    "numeros = [int(num.strip()) for num in numeros_str]\n",
    "\n",
    "# Calcular el mínimo de los números usando la función min()\n",
    "minimo = min(numeros)\n",
    "\n",
    "# Mostrar el resultado\n",
    "print(f\"El mínimo de los números es: {minimo}\")"
   ]
  },
  {
   "cell_type": "markdown",
   "metadata": {},
   "source": [
    "Escriba un programa en Python que acepte un país (como «string») y muestre por pantalla su bandera (como «emoji»). Puede restringirlo a un conjunto limitado de países.\n",
    "* Entrada: Italia\n",
    "* Salida: 🇮🇹"
   ]
  },
  {
   "cell_type": "code",
   "execution_count": 30,
   "metadata": {},
   "outputs": [
    {
     "name": "stdout",
     "output_type": "stream",
     "text": [
      "El país es Francia y su bandera 🇫🇷\n"
     ]
    }
   ],
   "source": [
    "dict_banderas = {'Italia':'🇮🇹', 'Qatar': '🇶🇦', 'Alemania':'🇩🇪',\n",
    "                 'Dinamarca':'🇩🇰', 'Brasil':'🇧🇷', 'Bélgica': '🇧🇪',\n",
    "                 'Francia':'🇫🇷', 'Croacia':'🇭🇷', 'España':'🇪🇸',\n",
    "                 'Serbia':'🇷🇸', 'Reino Unido': '🇬🇧', 'Suiza':'🇨🇭',\n",
    "                 'Países Bajos':'🇳🇱', 'Argentia':'🇦🇷', 'Irán':'🇮🇷',\n",
    "                 'Corea del Sur':'🇰🇷', 'Japón':'🇯🇵', 'Arabia Saudita':'🇸🇦',\n",
    "                 'Uruguay': '🇺🇾', 'Ecuador':'🇪🇨', 'Canadá':'🇨🇦',\n",
    "                 'Ghana':'🇬🇭', 'Senegal':'🇸🇳', 'Portugal': '🇵🇹',\n",
    "                 'Polonia':'🇵🇱', 'Túnez':'🇹🇳', 'Marruecos':'🇲🇦',\n",
    "                 'Camerún':'🇨🇲', 'Estados Unidos':'🇺🇸', 'México':'🇲🇽',\n",
    "                 'Australia':'🇦🇺', 'Costa Rica':'🇨🇷'}\n",
    "\n",
    "pais = input('Introduzca un país para obtener su bandera.')\n",
    "\n",
    "if pais in dict_banderas:\n",
    "    print(f'El país es {pais} y su bandera {dict_banderas[pais]}')\n",
    "else:\n",
    "    print(f'El país {pais} no se encuentra en el diccionario o está mal escrito')"
   ]
  },
  {
   "cell_type": "markdown",
   "metadata": {},
   "source": [
    "* Respuesta de ChatGPT"
   ]
  },
  {
   "cell_type": "code",
   "execution_count": null,
   "metadata": {},
   "outputs": [],
   "source": [
    "# Diccionario que mapea nombres de países a sus banderas en forma de emoji\n",
    "banderas = {\n",
    "    \"Argentina\": \"🇦🇷\",\n",
    "    \"Brasil\": \"🇧🇷\",\n",
    "    \"Canadá\": \"🇨🇦\",\n",
    "    \"China\": \"🇨🇳\",\n",
    "    \"Francia\": \"🇫🇷\",\n",
    "    \"Alemania\": \"🇩🇪\",\n",
    "    \"India\": \"🇮🇳\",\n",
    "    \"Italia\": \"🇮🇹\",\n",
    "    \"Japón\": \"🇯🇵\",\n",
    "    \"México\": \"🇲🇽\",\n",
    "    \"España\": \"🇪🇸\",\n",
    "    \"Reino Unido\": \"🇬🇧\",\n",
    "    \"Estados Unidos\": \"🇺🇸\"\n",
    "}\n",
    "\n",
    "# Solicitar al usuario que ingrese un país\n",
    "pais = input(\"Ingrese el nombre de un país: \").strip()\n",
    "\n",
    "# Mostrar la bandera correspondiente o un mensaje de error si el país no está en el diccionario\n",
    "if pais in banderas:\n",
    "    print(f\"La bandera de {pais} es: {banderas[pais]}\")\n",
    "else:\n",
    "    print(\"Lo siento, la bandera de ese país no está disponible.\")"
   ]
  },
  {
   "cell_type": "markdown",
   "metadata": {},
   "source": [
    "Escriba un programa en Python que acepte 3 códigos de teclas y muestre por pantalla la acción que se lleva a cabo en sistemas Ubuntu Linux (solución).\n",
    "*   Entrada: \n",
    "    *   tecla1 = Ctrl\n",
    "    *   tecla2 = Alt\n",
    "    *   tecla3 = Del\n",
    "*   Salida: Log out"
   ]
  },
  {
   "cell_type": "markdown",
   "metadata": {},
   "source": [
    "*   Respuesta de ChatGPT"
   ]
  },
  {
   "cell_type": "code",
   "execution_count": 42,
   "metadata": {},
   "outputs": [
    {
     "name": "stdout",
     "output_type": "stream",
     "text": [
      "La acción que se lleva a cabo es: Log out\n"
     ]
    }
   ],
   "source": [
    "# Diccionario de combinaciones de teclas y acciones\n",
    "combinaciones_teclas = {\n",
    "    'Ctrl+Alt+Del': 'Log out',\n",
    "    # Agrega más combinaciones de teclas y acciones según sea necesario\n",
    "}\n",
    "\n",
    "# Pedir al usuario que ingrese las combinaciones de teclas\n",
    "tecla1 = input(\"Ingrese la primera tecla: \").strip()\n",
    "tecla2 = input(\"Ingrese la segunda tecla: \").strip()\n",
    "tecla3 = input(\"Ingrese la tercera tecla: \").strip()\n",
    "\n",
    "# Crear una cadena que represente la combinación de teclas ingresada\n",
    "combinacion_ingresada = f\"{tecla1}+{tecla2}+{tecla3}\"\n",
    "\n",
    "# Buscar la acción correspondiente en el diccionario\n",
    "accion = combinaciones_teclas.get(combinacion_ingresada, \"Acción no encontrada\")\n",
    "\n",
    "# Mostrar la acción\n",
    "print(f\"La acción que se lleva a cabo es: {accion}\")"
   ]
  },
  {
   "cell_type": "markdown",
   "metadata": {},
   "source": [
    "Escriba un programa en Python que acepte edad, peso, pulso y plaquetas, y determine si una persona cumple con estos requisitos para donar sangre.\n",
    "*   Entrada: \n",
    "    *   edad = 34\n",
    "    *   peso = 81\n",
    "    *   heartbeat = 70\n",
    "    *   plaquetas = 150000\n",
    "*   Salida: Apto para donar sangre"
   ]
  },
  {
   "cell_type": "code",
   "execution_count": 40,
   "metadata": {},
   "outputs": [
    {
     "name": "stdout",
     "output_type": "stream",
     "text": [
      "Apto para donar sangre\n"
     ]
    }
   ],
   "source": [
    "# Pedir al usuario que ingrese los datos\n",
    "edad = int(input(\"Ingrese su edad: \"))\n",
    "peso = float(input(\"Ingrese su peso en kg: \"))\n",
    "pulso = int(input(\"Ingrese su pulso por minuto: \"))\n",
    "plaquetas = int(input(\"Ingrese su recuento de plaquetas por microlitro: \"))\n",
    "\n",
    "# Verificar si la persona cumple con los requisitos para donar sangre\n",
    "if 18 <= edad <= 65 and 50 <= peso <= 150 and 60 <= pulso <= 100 and plaquetas >= 150000:\n",
    "    print(\"Apto para donar sangre\")\n",
    "else:\n",
    "    print(\"No apto para donar sangre\")"
   ]
  },
  {
   "cell_type": "markdown",
   "metadata": {},
   "source": [
    "Escriba un programa que calcule la distancia hamming entre dos *cadenas de texto* de la misma longitud.\n",
    "*   Entrada:\n",
    "    *   0001010011101\n",
    "    *   0000110010001\n",
    "*   Salida: 4"
   ]
  },
  {
   "cell_type": "code",
   "execution_count": 6,
   "metadata": {},
   "outputs": [
    {
     "name": "stdout",
     "output_type": "stream",
     "text": [
      "La distancia de Hamming entre las cadenas es: 4\n"
     ]
    }
   ],
   "source": [
    "'''La distancia de Hamming entre dos vectores es simplemente la suma de los elementos correspondientes que difieren entre los vectores. \n",
    "Por ejemplo, supongamos que tenemos los siguientes dos vectores:\n",
    "\n",
    "x = [1, 2, 3, 4]        |       y = [1, 2, 5, 7]\n",
    "\n",
    "La distancia de Hamming entre los dos vectores sería 2 , ya que este es el número total de elementos correspondientes que tienen valores diferentes.'''\n",
    "\n",
    "x = input('Ingrese cadena: ')\n",
    "\n",
    "y = input('Ingrese otra cadena: ')\n",
    "\n",
    "if len(x) != len(y):        #Comparo longitudes\n",
    "    print('Las cadenas tienen que tener la misma longitud')\n",
    "else:\n",
    "    distancia_hamming = sum(x1 != y2 for x1, y2 in zip(x, y))\n",
    "\n",
    "    print(f\"La distancia de Hamming entre las cadenas es: {distancia_hamming}\")"
   ]
  },
  {
   "cell_type": "markdown",
   "metadata": {},
   "source": [
    "Función|Lo que hace\n",
    ":-:|:-:\n",
    "**zip()**|Toma como argumento dos o más objetos iterables (idealmente cada uno de ellos con la misma cantidad de elementos) y retorna un nuevo iterable cuyos elementos son tuplas que contienen un elemento de cada uno de los iteradores originales."
   ]
  },
  {
   "cell_type": "markdown",
   "metadata": {},
   "source": [
    "Dada una cadena de texto, indique el número de vocales que tiene.\n",
    "*   Entrada: Supercalifragilisticoespialidoso\n",
    "*   Salida: 15"
   ]
  },
  {
   "cell_type": "code",
   "execution_count": 13,
   "metadata": {},
   "outputs": [
    {
     "name": "stdout",
     "output_type": "stream",
     "text": [
      "La palabra supercalifragilisticoespialidoso tiene 15 vocales\n"
     ]
    }
   ],
   "source": [
    "texto = input('Ingrese cadena de texto: ').lower()\n",
    "contador = 0\n",
    "vocales = 'aeiouáéíóúü'\n",
    "\n",
    "for letra in texto:\n",
    "    if letra in vocales:\n",
    "        contador += 1 \n",
    "\n",
    "print(f'La palabra {texto} tiene {contador} vocales')"
   ]
  },
  {
   "cell_type": "markdown",
   "metadata": {},
   "source": [
    "* Respuesta de ChatGPT"
   ]
  },
  {
   "cell_type": "code",
   "execution_count": 15,
   "metadata": {},
   "outputs": [
    {
     "name": "stdout",
     "output_type": "stream",
     "text": [
      "El número de vocales en 'Supercalifragilisticoespialidoso' es: 15\n"
     ]
    }
   ],
   "source": [
    "def contar_vocales(cadena):\n",
    "    # Definir las vocales en castellano\n",
    "    vocales = \"aeiouáéíóúüAEIOUÁÉÍÓÚÜ\"\n",
    "    \n",
    "    # Inicializar el contador de vocales\n",
    "    contador = 0\n",
    "    \n",
    "    # Iterar sobre cada carácter en la cadena\n",
    "    for char in cadena:\n",
    "        if char in vocales:\n",
    "            contador += 1\n",
    "    \n",
    "    return contador\n",
    "\n",
    "# Solicitar al usuario que ingrese una cadena de texto\n",
    "cadena = input(\"Ingrese una cadena de texto: \")\n",
    "\n",
    "# Contar el número de vocales en la cadena\n",
    "num_vocales = contar_vocales(cadena)\n",
    "\n",
    "# Mostrar el resultado\n",
    "print(f\"El número de vocales en '{cadena}' es: {num_vocales}\")"
   ]
  },
  {
   "cell_type": "markdown",
   "metadata": {},
   "source": [
    "Determine si un número dado es un número primo. Ejemplo:\n",
    "*   Entero = 11\n",
    "*   Salida = Es primo"
   ]
  },
  {
   "cell_type": "code",
   "execution_count": 21,
   "metadata": {},
   "outputs": [
    {
     "name": "stdout",
     "output_type": "stream",
     "text": [
      "11 es primo.\n"
     ]
    }
   ],
   "source": [
    "# Solicitamos al usuario que ingrese un número entero positivo\n",
    "numero = int(input(\"Ingresa un número entero positivo: \"))\n",
    "\n",
    "#Si es mayor a 1, puede ser primo.\n",
    "if numero > 1:\n",
    "    # Itero en el rango del 2 al num ingresado -1 . Descarto el 1 porque todos los número son divisibles por 1.\n",
    "    for i in range(2, numero):\n",
    "        \n",
    "        #Si el número es divisible por otro número que no sea el mismo, no es primo.\n",
    "        if (numero % i) == 0:\n",
    "            print(f\"{numero} no es primo.\")\n",
    "            break\n",
    "    \n",
    "    #Termina la iteración.\n",
    "    else:\n",
    "        print(f\"{numero} es primo.\")\n",
    "\n",
    "#Si no es mayor a 1, no puede ser primo.\n",
    "else:\n",
    "    print(f\"{numero} no es primo.\")"
   ]
  },
  {
   "cell_type": "markdown",
   "metadata": {},
   "source": [
    "*   Respuestas de ChatGPT\n",
    "  \n",
    "1.  Función es_primo:\n",
    "    1.  Si el número es menor o igual a 1, devuelve ***False*** ya que estos números no son primos.\n",
    "    2.  Utiliza un bucle for para verificar si el número tiene divisores desde 2 hasta la raíz cuadrada del número (esto optimiza la comprobación, ya que si un número $n$ tiene un divisor mayor que su raíz cuadrada, necesariamente tiene un divisor menor que su raíz cuadrada).\n",
    "    3.  Si encuentra un divisor, devuelve ***False***, indicando que el número no es primo.\n",
    "    4.  Si no encuentra ningún divisor, devuelve ***True***, indicando que el número es primo."
   ]
  },
  {
   "cell_type": "code",
   "execution_count": 31,
   "metadata": {},
   "outputs": [
    {
     "name": "stdout",
     "output_type": "stream",
     "text": [
      "55 no es primo\n"
     ]
    }
   ],
   "source": [
    "def es_primo(numero):\n",
    "    #Los números menores o iguales a 1 no son primos\n",
    "    if numero <= 1:\n",
    "        return False\n",
    "    #Comprobar si el número tiene divisores aparte de 1 y él mismo\n",
    "    for i in range(2, int(numero**0.5) + 1):\n",
    "        if numero % i == 0:\n",
    "            return False\n",
    "    return True\n",
    "\n",
    "#Solicitar al usuario que ingrese un número entero\n",
    "numero = int(input('Ingrese un número entero: '))\n",
    "\n",
    "#Determinar si el número es primo\n",
    "if es_primo(numero):\n",
    "    print(f'{numero} es primo')\n",
    "else:\n",
    "    print(f'{numero} no es primo')"
   ]
  },
  {
   "cell_type": "markdown",
   "metadata": {},
   "source": [
    "Imprima los 100 primeros números de la sucesión de Fibonacci: 0,1,1,2,3,5,8,13,21,34,55,89...\n",
    "\n",
    "*   Respuesta de ChatGPT"
   ]
  },
  {
   "cell_type": "code",
   "execution_count": 45,
   "metadata": {},
   "outputs": [
    {
     "name": "stdout",
     "output_type": "stream",
     "text": [
      "[0, 1, 1, 2, 3, 5, 8, 13, 21, 34, 55, 89, 144, 233, 377, 610, 987, 1597, 2584, 4181, 6765, 10946, 17711, 28657, 46368, 75025, 121393, 196418, 317811, 514229, 832040, 1346269, 2178309, 3524578, 5702887, 9227465, 14930352, 24157817, 39088169, 63245986, 102334155, 165580141, 267914296, 433494437, 701408733, 1134903170, 1836311903, 2971215073, 4807526976, 7778742049, 12586269025, 20365011074, 32951280099, 53316291173, 86267571272, 139583862445, 225851433717, 365435296162, 591286729879, 956722026041, 1548008755920, 2504730781961, 4052739537881, 6557470319842, 10610209857723, 17167680177565, 27777890035288, 44945570212853, 72723460248141, 117669030460994, 190392490709135, 308061521170129, 498454011879264, 806515533049393, 1304969544928657, 2111485077978050, 3416454622906707, 5527939700884757, 8944394323791464, 14472334024676221, 23416728348467685, 37889062373143906, 61305790721611591, 99194853094755497, 160500643816367088, 259695496911122585, 420196140727489673, 679891637638612258, 1100087778366101931, 1779979416004714189, 2880067194370816120, 4660046610375530309, 7540113804746346429, 12200160415121876738, 19740274219868223167, 31940434634990099905, 51680708854858323072, 83621143489848422977, 135301852344706746049, 218922995834555169026]\n"
     ]
    }
   ],
   "source": [
    "def fibonacci(n):\n",
    "    # Inicializar los dos primeros términos de la sucesión\n",
    "    a, b = 0, 1\n",
    "    for _ in range(n):\n",
    "        yield a\n",
    "        a, b = b, a + b\n",
    "\n",
    "# Número de términos que queremos imprimir\n",
    "n = 100\n",
    "\n",
    "# Generar y imprimir los 100 primeros números de la sucesión de Fibonacci\n",
    "fibonacci_numbers = list(fibonacci(n))\n",
    "print(fibonacci_numbers)"
   ]
  },
  {
   "cell_type": "markdown",
   "metadata": {},
   "source": [
    "'Escriba un programa en Python que realice las siguientes 9 multiplicaciones.\n",
    "         \n",
    "           1 * 1\n",
    "          11 * 11\n",
    "         111 * 111\n",
    "        1111 * 1111\n",
    "       11111 * 11111\n",
    "      111111 * 111111\n",
    "     1111111 * 1111111\n",
    "    11111111 * 11111111\n"
   ]
  },
  {
   "cell_type": "code",
   "execution_count": 46,
   "metadata": {},
   "outputs": [
    {
     "name": "stdout",
     "output_type": "stream",
     "text": [
      "        1 * 1\n",
      "       11 * 11\n",
      "      111 * 111\n",
      "     1111 * 1111\n",
      "    11111 * 11111\n",
      "   111111 * 111111\n",
      "  1111111 * 1111111\n",
      " 11111111 * 11111111\n",
      "111111111 * 111111111\n"
     ]
    }
   ],
   "source": [
    "# Definimos el número de términos en la secuencia\n",
    "num_terminos = 9\n",
    "\n",
    "# Iteramos desde 1 hasta el número de términos\n",
    "for i in range(1, num_terminos + 1):\n",
    "    # Construimos la parte izquierda de la expresión\n",
    "    espacios = \" \" * (num_terminos - i)  # Espacios en blanco\n",
    "    numero1 = \"1\" * i  # Números 1\n",
    "     \n",
    "    # Combinamos las partes izquierda y derecha y mostramos\n",
    "    expresion = espacios + numero1 + \" * \" + numero1\n",
    "    print(expresion)"
   ]
  },
  {
   "cell_type": "markdown",
   "metadata": {},
   "source": [
    "Escriba un programa en Python que acepte una cadena de texto e indique si todos sus caracteres son alfabéticos.\n",
    "*   Entrada: hello-world\n",
    "*   Salida: Se han encontrado caracteres no alfabéticos"
   ]
  },
  {
   "cell_type": "code",
   "execution_count": 47,
   "metadata": {},
   "outputs": [
    {
     "name": "stdout",
     "output_type": "stream",
     "text": [
      "Se han encontrado caracteres no alfabéticos\n"
     ]
    }
   ],
   "source": [
    "texto = input('Ingresar texto: ')\n",
    "\n",
    "if texto.isalpha():\n",
    "    print(f'{texto} tiene todos sus caracteres alfabéticos')\n",
    "else:\n",
    "    print(f'Se han encontrado caracteres no alfabéticos')"
   ]
  },
  {
   "cell_type": "markdown",
   "metadata": {},
   "source": [
    "*   Respuesta de ChatGPT"
   ]
  },
  {
   "cell_type": "code",
   "execution_count": 48,
   "metadata": {},
   "outputs": [
    {
     "name": "stdout",
     "output_type": "stream",
     "text": [
      "Se han encontrado caracteres no alfabéticos\n"
     ]
    }
   ],
   "source": [
    "def verificar_caracteres_alfabeticos(cadena):\n",
    "    if cadena.isalpha():\n",
    "        return \"Todos los caracteres son alfabéticos\"\n",
    "    else:\n",
    "        return \"Se han encontrado caracteres no alfabéticos\"\n",
    "\n",
    "# Solicitar al usuario que ingrese una cadena de texto\n",
    "cadena = input(\"Ingrese una cadena de texto: \")\n",
    "\n",
    "# Verificar si todos los caracteres son alfabéticos\n",
    "resultado = verificar_caracteres_alfabeticos(cadena)\n",
    "\n",
    "# Mostrar el resultado\n",
    "print(resultado)"
   ]
  },
  {
   "cell_type": "markdown",
   "metadata": {},
   "source": [
    "Escriba un programa en Python que acepte un número entero 𝑛 y realice el siguiente\n",
    "cálculo de productos sucesivos.\n",
    "![alt text](Imágenes/Calculo_Productos_Sucesivos.png)"
   ]
  },
  {
   "cell_type": "code",
   "execution_count": 56,
   "metadata": {},
   "outputs": [
    {
     "name": "stdout",
     "output_type": "stream",
     "text": [
      "El producto de los cuadrados de los números del 1 al 7 es: 25401600\n"
     ]
    }
   ],
   "source": [
    "n = int(input('Ingrese un número entero: '))\n",
    "produc_sucesivo = 1\n",
    "\n",
    "for i in range(1, n + 1):       #Tengo que iniciar en 1 porque cualquier numero multiplicado por 0 da 0.\n",
    "    produc_sucesivo *= (i ** 2)\n",
    "\n",
    "print(f'El producto de los cuadrados de los números del 1 al {n} es: {produc_sucesivo}')"
   ]
  },
  {
   "cell_type": "markdown",
   "metadata": {},
   "source": [
    "* Respuesta de ChatGPT\n",
    "  * Si el usuario ingresa $n=3$:\n",
    "    * Los números $ x_i $ serán $1, 2, 3.$\n",
    "    * El cálculo será $1^{2} * 2^{2} * 3^{2} = 1 * 4 * 9 = 36$"
   ]
  },
  {
   "cell_type": "code",
   "execution_count": 57,
   "metadata": {},
   "outputs": [
    {
     "name": "stdout",
     "output_type": "stream",
     "text": [
      "El resultado del producto sucesivo de los cuadrados de los números de 1 a 7 es: 25401600\n"
     ]
    }
   ],
   "source": [
    "def producto_sucesivo(n):\n",
    "    # Inicializar el producto a 1 (el valor neutro de la multiplicación)\n",
    "    producto = 1\n",
    "    \n",
    "    # Calcular el producto de los cuadrados de los números de 1 a n\n",
    "    for i in range(1, n + 1):\n",
    "        producto *= i ** 2\n",
    "    \n",
    "    return producto\n",
    "\n",
    "# Solicitar al usuario que ingrese un número entero n\n",
    "n = int(input(\"Ingrese un número entero n: \"))\n",
    "\n",
    "# Realizar el cálculo de productos sucesivos\n",
    "resultado = producto_sucesivo(n)\n",
    "\n",
    "# Mostrar el resultado\n",
    "print(f\"El resultado del producto sucesivo de los cuadrados de los números de 1 a {n} es: {resultado}\")"
   ]
  },
  {
   "cell_type": "markdown",
   "metadata": {},
   "source": [
    "Escriba un programa en Python que acepte dos cadenas de texto y compute el producto cartesiano letra a letra entre ellas.\n",
    "*   Entrada: \n",
    "    *   cadena1 = abc\n",
    "    *   cadena2 = 123\n",
    "*   Salida: a1 a2 a3 b1 b2 b3 c1 c2 c3"
   ]
  },
  {
   "cell_type": "code",
   "execution_count": 69,
   "metadata": {},
   "outputs": [
    {
     "name": "stdout",
     "output_type": "stream",
     "text": [
      "a1 a2 a3 b1 b2 b3 c1 c2 c3 \n"
     ]
    }
   ],
   "source": [
    "cadena1 = input('Ingrese una cadena de texto de la misma longitud: ')\n",
    "cadena2 = input('Ingrese una cadena de texto de la misma longitud: ')\n",
    "cartesiano = ''\n",
    "\n",
    "if len(cadena1) == len(cadena2):\n",
    "    for c1 in cadena1:\n",
    "        for c2 in cadena2:\n",
    "            cartesiano += (c1 + c2 + ' ')\n",
    "    \n",
    "    print(cartesiano)\n",
    "\n",
    "else:\n",
    "    print(f'Las cadenas no tienen la misma longitud: ')"
   ]
  },
  {
   "cell_type": "markdown",
   "metadata": {},
   "source": [
    "* Respuesta de ChatGPT"
   ]
  },
  {
   "cell_type": "code",
   "execution_count": 70,
   "metadata": {},
   "outputs": [
    {
     "name": "stdout",
     "output_type": "stream",
     "text": [
      "a1 a2 a3 b1 b2 b3 c1 c2 c3\n"
     ]
    }
   ],
   "source": [
    "def producto_cartesiano(cadena1, cadena2):\n",
    "    resultado = []\n",
    "    for char1 in cadena1:\n",
    "        for char2 in cadena2:\n",
    "            resultado.append(char1 + char2)\n",
    "    return ' '.join(resultado)\n",
    "\n",
    "# Solicitar al usuario que ingrese dos cadenas de texto\n",
    "cadena1 = input(\"Ingrese la primera cadena de texto: \")\n",
    "cadena2 = input(\"Ingrese la segunda cadena de texto: \")\n",
    "\n",
    "# Calcular el producto cartesiano letra a letra\n",
    "resultado = producto_cartesiano(cadena1, cadena2)\n",
    "\n",
    "# Mostrar el resultado\n",
    "print(resultado)"
   ]
  },
  {
   "cell_type": "markdown",
   "metadata": {},
   "source": [
    "Escriba un programa en Python que acepte dos valores enteros (x e y) que representarán un punto (objetivo) en el plano. El programa simulará el movimiento de un «caballo» de ajedrez moviéndose de forma alterna: 2 posiciones en x + 1 posición en\n",
    "y. El siguiente movimiento que toque sería para moverse 1 posición en x + 2 posiciones en y. El programa deberá ir mostrando los puntos por los que va pasando el «caballo» hasta llegar al punto objetivo .\n",
    "*   Entrada: \n",
    "    *   objetivo_x=7\n",
    "    *   objetivo_y=8;\n",
    "*   Salida: (0, 0) (1, 2) (3, 3) (4, 5) (6, 6) (7, 8)"
   ]
  },
  {
   "cell_type": "code",
   "execution_count": null,
   "metadata": {},
   "outputs": [],
   "source": []
  },
  {
   "cell_type": "markdown",
   "metadata": {},
   "source": [
    "Utilizar un ciclo while para realizar el factorial de un número guardado en una variable, sólo si la variable contiene un número entero mayor a 0\n",
    "\n",
    "Factorial: $n! = n*(n-1)!$\n"
   ]
  },
  {
   "cell_type": "code",
   "execution_count": 8,
   "metadata": {},
   "outputs": [
    {
     "name": "stdout",
     "output_type": "stream",
     "text": [
      "El factorial es 24\n"
     ]
    }
   ],
   "source": [
    "n = 4\n",
    "\n",
    "if (type(n) == int): #verifico que sea un entero\n",
    "\n",
    "    if (n > 0): #verifico que sea mayor a cero.\n",
    "\n",
    "        factorial = n #Le asigno el valor de n\n",
    "        \n",
    "        #Itero mientras n sea más grande que 2.\n",
    "        while (n > 2): #No lo hago hasta 1 porque sino se multiplicaria con cero.\n",
    "                        \n",
    "            n = n - 1 #resto uno.\n",
    "            factorial = factorial * n #Cada vez que itere se multiplica con el número que le sigue\n",
    "\n",
    "        print('El factorial es', factorial) \n",
    "    else:\n",
    "        print('La variable no es mayor a cero') \n",
    "else:\n",
    "    print('La variable no es un entero')"
   ]
  },
  {
   "cell_type": "markdown",
   "metadata": {},
   "source": [
    "Imprimir los números primos existentes entre 0 y 30\n",
    "\n",
    "* Los números primos son divisibles por si mismo y por 1, ningún número más."
   ]
  },
  {
   "cell_type": "code",
   "execution_count": 14,
   "metadata": {},
   "outputs": [
    {
     "name": "stdout",
     "output_type": "stream",
     "text": [
      "0\n",
      "1\n",
      "2\n",
      "3\n",
      "5\n",
      "7\n",
      "11\n",
      "13\n",
      "17\n",
      "19\n",
      "23\n",
      "29\n"
     ]
    }
   ],
   "source": [
    "tope_rango=30 #El número máximo.\n",
    "\n",
    "n = 0 #El número mínimo.\n",
    "\n",
    "primo = True #primo verdadero\n",
    "\n",
    "while (n < tope_rango): #Mientras n sea más chico que tope_rango\n",
    "\n",
    "    #para div en el rango de 2 a n-1. Los valores 0 y 1 pasan directamente al if\n",
    "    for div in range(2, n): #div va a tomar los valores de ese rango.\n",
    "        #Si el resto de divivir en por div es cero. Primo pasa a falso y no entra al if (primo): \n",
    "        if (n % div == 0):\n",
    "            primo = False\n",
    "    #Si primo es verdadero imprimo el valor de n        \n",
    "    if (primo):\n",
    "        print(n)\n",
    "    #Si primo es falso lo convierto en verdadero    \n",
    "    else:\n",
    "        primo = True\n",
    "    n += 1 #Aumento el valor de n"
   ]
  },
  {
   "cell_type": "code",
   "execution_count": 72,
   "metadata": {},
   "outputs": [
    {
     "name": "stdout",
     "output_type": "stream",
     "text": [
      "0\n",
      "1\n",
      "2\n",
      "3\n",
      "5\n",
      "7\n",
      "11\n",
      "13\n",
      "17\n",
      "19\n",
      "23\n",
      "29\n"
     ]
    }
   ],
   "source": [
    "tope_rango=30\n",
    "n = 0\n",
    "primo = True\n",
    "\n",
    "while (n < tope_rango):\n",
    "    for div in range(2, n):\n",
    "        if (n % div == 0):\n",
    "            primo = False\n",
    "            break\n",
    "\n",
    "    if (primo):\n",
    "        print(n)\n",
    "    else:\n",
    "        primo = True\n",
    "\n",
    "    n += 1"
   ]
  },
  {
   "cell_type": "markdown",
   "metadata": {},
   "source": [
    "Utilizar la función **input()** que permite hacer ingresos por teclado, para encontrar números primos y dar la opción al usario de buscar el siguiente\n",
    "\n",
    "* Si el ingreso por teclado es diferente a uno finaliza al programa."
   ]
  },
  {
   "cell_type": "code",
   "execution_count": 71,
   "metadata": {},
   "outputs": [
    {
     "name": "stdout",
     "output_type": "stream",
     "text": [
      "1\n",
      "¿Desea encontrar el siguiente número primo?\n",
      "2\n",
      "¿Desea encontrar el siguiente número primo?\n",
      "3\n",
      "¿Desea encontrar el siguiente número primo?\n",
      "5\n",
      "¿Desea encontrar el siguiente número primo?\n",
      "7\n",
      "¿Desea encontrar el siguiente número primo?\n",
      "Se finaliza el proceso\n"
     ]
    }
   ],
   "source": [
    "n = 1\n",
    "sigue = 1\n",
    "primo = True\n",
    "\n",
    "while (sigue == 1):\n",
    "    for div in range(2, n):\n",
    "        if (n % div == 0):\n",
    "            primo = False\n",
    "            break\n",
    "\n",
    "    if (primo):\n",
    "        print(n)\n",
    "        print('¿Desea encontrar el siguiente número primo?')\n",
    "        if (input() != '1'):\n",
    "            print('Se finaliza el proceso')\n",
    "            break\n",
    "    else:\n",
    "        primo = True\n",
    "        \n",
    "    n += 1"
   ]
  }
 ],
 "metadata": {
  "kernelspec": {
   "display_name": "Python 3.10.7 64-bit (microsoft store)",
   "language": "python",
   "name": "python3"
  },
  "language_info": {
   "codemirror_mode": {
    "name": "ipython",
    "version": 3
   },
   "file_extension": ".py",
   "mimetype": "text/x-python",
   "name": "python",
   "nbconvert_exporter": "python",
   "pygments_lexer": "ipython3",
   "version": "3.11.9"
  },
  "orig_nbformat": 4,
  "vscode": {
   "interpreter": {
    "hash": "6085004884d7fe2d487ef9b1c33a506ee19a6a4095578a744a51e1ad1ca70fa0"
   }
  }
 },
 "nbformat": 4,
 "nbformat_minor": 2
}
