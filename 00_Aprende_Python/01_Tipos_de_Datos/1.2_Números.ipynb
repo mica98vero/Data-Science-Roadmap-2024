{
 "cells": [
  {
   "cell_type": "markdown",
   "metadata": {},
   "source": [
    "# Tipo de datos"
   ]
  },
  {
   "cell_type": "markdown",
   "metadata": {},
   "source": [
    "En programación manejamos objetos que tienen asociado un tipo determinado. Acá se verán los tipos de datos básicos con los que podemos trabajar en python."
   ]
  },
  {
   "cell_type": "markdown",
   "metadata": {},
   "source": [
    "## Números"
   ]
  },
  {
   "cell_type": "markdown",
   "metadata": {},
   "source": [
    ">Tipos de datos númericos que ofrece Python centrándonos en **boleanos**, **enteros**, **flotantes**"
   ]
  },
  {
   "cell_type": "markdown",
   "metadata": {},
   "source": [
    "### Booleanos"
   ]
  },
  {
   "cell_type": "markdown",
   "metadata": {},
   "source": [
    "Sólo pueden tomar dos valores discretos:\n",
    "* **True**: verdadero y también 1.\n",
    "* **False**: falso y también 0.\n",
    "\n",
    "La primera letra en mayúscula, sino tendríamos un error|\n",
    ":-:|"
   ]
  },
  {
   "cell_type": "code",
   "execution_count": 1,
   "metadata": {},
   "outputs": [
    {
     "name": "stdout",
     "output_type": "stream",
     "text": [
      "is_opend = True y es de tipo: <class 'bool'>\n",
      "has_sugar = False y es de tipo: <class 'bool'>\n"
     ]
    }
   ],
   "source": [
    "is_opend = True\n",
    "has_sugar = False\n",
    "\n",
    "print(f'{is_opend = } y es de tipo: {type(is_opend)}')\n",
    "print(f'{has_sugar = } y es de tipo: {type(has_sugar)}')"
   ]
  },
  {
   "cell_type": "markdown",
   "metadata": {},
   "source": [
    "### Enteros"
   ]
  },
  {
   "cell_type": "markdown",
   "metadata": {},
   "source": [
    ">No tienen decimales pero sí pueden contener un signo y estar expresados en alguna base distinta de la usual(base 10)."
   ]
  },
  {
   "cell_type": "markdown",
   "metadata": {},
   "source": [
    "#### Literales enteros"
   ]
  },
  {
   "cell_type": "markdown",
   "metadata": {},
   "source": [
    "|No podemos comenzar un número entero con 0.|Python permite divider los números enteros con guiones bajos **_** para clasificar su lectura/escritura.|\n",
    "|:-:|:-:|"
   ]
  },
  {
   "cell_type": "code",
   "execution_count": 2,
   "metadata": {},
   "outputs": [
    {
     "name": "stdout",
     "output_type": "stream",
     "text": [
      "6 y su tipo es: <class 'int'>\n",
      "-76 y su tipo es: <class 'int'>\n",
      "76 y su tipo es: <class 'int'>\n",
      "76 y su tipo es: <class 'int'>\n",
      "4000000 y su tipo es: <class 'int'>\n",
      "9000000 y su tipo es: <class 'int'>\n"
     ]
    }
   ],
   "source": [
    "#Literales enteros (porque no asigno el valor a una variable)\n",
    "print(f'{6} y su tipo es: {type(6)}')\n",
    "print(f'{-76} y su tipo es: {type(-76)}')\n",
    "print(f'{+76} y su tipo es: {type(+76)}')\n",
    "print(f'{76} y su tipo es: {type(76)}')\n",
    "print(f'{4_000_000} y su tipo es: {type(4_000_000)}')\n",
    "print(f'{9000000} y su tipo es: {type(9000000)}')"
   ]
  },
  {
   "cell_type": "markdown",
   "metadata": {},
   "source": [
    "#### Operaciones con enteros"
   ]
  },
  {
   "cell_type": "markdown",
   "metadata": {},
   "source": [
    ">Tabla con las distintas operaciones sobre enteros que se puede realizar en Python\n",
    "\n",
    "| Operación               | Operador      | Ejemplo       |Resultado|\n",
    "|:----------------------- |:-------------:| -------------:|:---:|\n",
    "| Suma                    | +             | 3 + 5         |8|\n",
    "| Resta                   | -             | 4 - 1         |3 |\n",
    "| Multiplicación          | *             | 4 * 2         |8 |\n",
    "| Potenciación            | **            | 4 ** 2        |16|\n",
    "| División (Cociente)     | /             | 9 / 2         |4.5|\n",
    "| División (parte entera) | //            | 9 // 2        |4 |\n",
    "| División (resto)        | %             | 9 % 4         |1|\n"
   ]
  },
  {
   "cell_type": "code",
   "execution_count": 3,
   "metadata": {},
   "outputs": [
    {
     "name": "stdout",
     "output_type": "stream",
     "text": [
      "La suma de 2, 8 y 4 da: 14\n",
      "No es lo mismo 4 * 2 = 8 y 4 ** 2 = 16\n",
      "La división flotante entre 7 y 3 da: 2.3333333333333335\n",
      "La división entera entre 7 y 3 da: 2\n"
     ]
    }
   ],
   "source": [
    "#Dejar un espacio entre cada operador para un buen estilo de programación.\n",
    "print(f'La suma de 2, 8 y 4 da: {2 + 8 + 4}')\n",
    "print(f'No es lo mismo 4 * 2 = {4 * 2} y 4 ** 2 = {4 ** 2}')\n",
    "print(f'La división flotante entre 7 y 3 da: {7 / 3}')\n",
    "print(f'La división entera entre 7 y 3 da: {7 // 3}')"
   ]
  },
  {
   "cell_type": "markdown",
   "metadata": {},
   "source": [
    "* Se puede obtener **error** dependiendo de la operación, por ejemplo **dividir por cero**."
   ]
  },
  {
   "cell_type": "markdown",
   "metadata": {},
   "source": [
    "#### Asignación aumentada"
   ]
  },
  {
   "cell_type": "markdown",
   "metadata": {},
   "source": [
    "Asignación tradicional|<->|Asignación aumentada\n",
    ":-:|:-:|:-:\n",
    "a = a + 10 |<->|a+ = 10 "
   ]
  },
  {
   "cell_type": "code",
   "execution_count": 4,
   "metadata": {},
   "outputs": [
    {
     "name": "stdout",
     "output_type": "stream",
     "text": [
      "Total de autos: 100\n",
      "Total de autos vendidos: 20\n",
      "Total de autos que quedaron: 80\n"
     ]
    }
   ],
   "source": [
    "total_cars = 100\n",
    "print(f'Total de autos: {total_cars}')\n",
    "sold_cars = 20\n",
    "print(f'Total de autos vendidos: {sold_cars}')\n",
    "\n",
    "total_cars = total_cars - sold_cars  #Asignación tradicional\n",
    "\n",
    "print(f'Total de autos que quedaron: {total_cars}')"
   ]
  },
  {
   "cell_type": "code",
   "execution_count": 5,
   "metadata": {},
   "outputs": [
    {
     "name": "stdout",
     "output_type": "stream",
     "text": [
      "Total de autos: 100\n",
      "Total de autos vendidos: 20\n",
      "Total de autos que quedaron: 80\n"
     ]
    }
   ],
   "source": [
    "total_cars = 100\n",
    "print(f'Total de autos: {total_cars}')\n",
    "sold_cars = 20\n",
    "print(f'Total de autos vendidos: {sold_cars}')\n",
    "\n",
    "total_cars -= sold_cars  #Asignación aumentada\n",
    "\n",
    "print(f'Total de autos que quedaron: {total_cars}')"
   ]
  },
  {
   "cell_type": "code",
   "execution_count": 6,
   "metadata": {},
   "outputs": [
    {
     "name": "stdout",
     "output_type": "stream",
     "text": [
      "Total de autos: 100. Se vendieron: 20. Quedaron: 80\n"
     ]
    }
   ],
   "source": [
    "total_cars = 100\n",
    "sold_cars = 20\n",
    "\n",
    "print(f'Total de autos: {total_cars}. Se vendieron: {sold_cars}. Quedaron: {total_cars - sold_cars}')"
   ]
  },
  {
   "cell_type": "code",
   "execution_count": 7,
   "metadata": {},
   "outputs": [
    {
     "name": "stdout",
     "output_type": "stream",
     "text": [
      "La variable es random_number = 15\n",
      "Sumo 5 a la variable: random_number = 20\n",
      "Multiplico por 3 a la variable: random_number = 60\n",
      "Divido por 4 a la variable y me quedo con la parte entera: random_number = 15\n",
      "Potencio por 1 a la variable: random_number = 15\n",
      "La variable quedó en random_number = 15\n"
     ]
    }
   ],
   "source": [
    "random_number = 15\n",
    "print(f'La variable es {random_number = }')\n",
    "\n",
    "random_number += 5 #(20)\n",
    "print(f'Sumo 5 a la variable: {random_number = }')\n",
    "\n",
    "random_number *= 3 #(60)\n",
    "print(f'Multiplico por 3 a la variable: {random_number = }')\n",
    "\n",
    "random_number //= 4 #(15)\n",
    "print(f'Divido por 4 a la variable y me quedo con la parte entera: {random_number = }')\n",
    "\n",
    "random_number **= 1 #(15)\n",
    "print(f'Potencio por 1 a la variable: {random_number = }')\n",
    "\n",
    "print(f'La variable quedó en {random_number = }')"
   ]
  },
  {
   "cell_type": "markdown",
   "metadata": {},
   "source": [
    "#### Módulo"
   ]
  },
  {
   "cell_type": "markdown",
   "metadata": {},
   "source": [
    "\n",
    ">La operación **módulo** (también llamado *resto*), cuyo símbolo en Python es **%**, se define como el resto de dividir dos números"
   ]
  },
  {
   "cell_type": "code",
   "execution_count": 8,
   "metadata": {},
   "outputs": [
    {
     "name": "stdout",
     "output_type": "stream",
     "text": [
      "Dividir 17 por 5 es igual a 3 y su resto es 2\n"
     ]
    }
   ],
   "source": [
    "dividendo = 17\n",
    "\n",
    "divisor = 5\n",
    "\n",
    "print(f'Dividir {dividendo} por {divisor} es igual a {dividendo // divisor} y su resto es {dividendo % divisor}')"
   ]
  },
  {
   "cell_type": "code",
   "execution_count": 9,
   "metadata": {},
   "outputs": [
    {
     "name": "stdout",
     "output_type": "stream",
     "text": [
      "Dividir 17 por 5 es igual a 3 y su resto es 2\n"
     ]
    }
   ],
   "source": [
    "print(f'Dividir {17} por {5} es igual a {17 // 5} y su resto es {7 % 5}')"
   ]
  },
  {
   "cell_type": "markdown",
   "metadata": {},
   "source": [
    "#### Exponenciación"
   ]
  },
  {
   "cell_type": "markdown",
   "metadata": {},
   "source": [
    ">En python utilizamos el operador de exponenciación **\" ** \"**\n",
    "\n",
    "* También podemos elevar un número entero a un **número decimal**\n",
    "\n",
    "  * $4^3 = 64$\n",
    "  * $4*4*4 = 64$\n",
    "  * $4^\\frac{1}{2}$ = $4^{0.5}$ = $\\sqrt[]{4}$ = 2"
   ]
  },
  {
   "cell_type": "code",
   "execution_count": 10,
   "metadata": {},
   "outputs": [
    {
     "name": "stdout",
     "output_type": "stream",
     "text": [
      "64\n",
      "64\n",
      "2.0\n"
     ]
    }
   ],
   "source": [
    "print(4 ** 3)\n",
    "print(4 * 4 * 4)\n",
    "print(4 ** 0.5)"
   ]
  },
  {
   "cell_type": "markdown",
   "metadata": {},
   "source": [
    "#### Valor Absoluto"
   ]
  },
  {
   "cell_type": "markdown",
   "metadata": {},
   "source": [
    "![alt text](Imágenes/Valor_absoluto.webp)\n",
    "\n",
    ">fución **abs()** para obtener el valor absoluto de un número."
   ]
  },
  {
   "cell_type": "code",
   "execution_count": 11,
   "metadata": {},
   "outputs": [
    {
     "name": "stdout",
     "output_type": "stream",
     "text": [
      "1\n",
      "1\n",
      "3.14\n",
      "3.14\n"
     ]
    }
   ],
   "source": [
    "print(abs(-1))\n",
    "print(abs(1))\n",
    "print(abs(-3.14))\n",
    "print(abs(3.14))"
   ]
  },
  {
   "cell_type": "markdown",
   "metadata": {},
   "source": [
    "#### Límite de un entero"
   ]
  },
  {
   "cell_type": "markdown",
   "metadata": {},
   "source": [
    "> En muchos lenguajes tratar con enteros tan largos causaría un \"intriger overflow\" No es el caso de Python que puede manejar estos valores sin problema."
   ]
  },
  {
   "cell_type": "code",
   "execution_count": 12,
   "metadata": {},
   "outputs": [
    {
     "data": {
      "text/plain": [
       "1000000000000000000000000000000000000000000000000000000000000000000000000000000000000000000000000000000000000000000000000000000000000000000000000000000000000000000000000000000000000000000000000000000000000000000000000000000000000000000000000000000000000000000000000000000000000000000000000000000000000000000000000000000000000000000000000000000000000000000000000000000000000000000000000000000000000000000000000000000000000000000000000000000000000000000000000000000000000000000000000000000000000000000000000000000000000000000000000000000000000000000000000000000000000000000000000000000000000000000000000"
      ]
     },
     "execution_count": 12,
     "metadata": {},
     "output_type": "execute_result"
    }
   ],
   "source": [
    "centillion = 10 ** 600\n",
    "centillion"
   ]
  },
  {
   "cell_type": "markdown",
   "metadata": {},
   "source": [
    "### Flotantes"
   ]
  },
  {
   "cell_type": "markdown",
   "metadata": {},
   "source": [
    ">Los números en punto flotante tienen **parte decimal**.\n",
    "\n",
    "* *punto flotante: notación centífica usada por computadoras*"
   ]
  },
  {
   "cell_type": "code",
   "execution_count": 13,
   "metadata": {},
   "outputs": [
    {
     "name": "stdout",
     "output_type": "stream",
     "text": [
      "4.0\n",
      "4.0\n",
      "4.0\n",
      "4.0\n",
      "4.0\n"
     ]
    }
   ],
   "source": [
    "print(4.0)\n",
    "print(4.)\n",
    "print(04.0)\n",
    "print(4.000_00)\n",
    "print(4e0)  # 4.0 * (10 ** 0)"
   ]
  },
  {
   "cell_type": "markdown",
   "metadata": {},
   "source": [
    "#### Conversión de tipos"
   ]
  },
  {
   "cell_type": "markdown",
   "metadata": {},
   "source": [
    ">Mecanismos para convertir unos tipos de datos en otros."
   ]
  },
  {
   "cell_type": "markdown",
   "metadata": {},
   "source": [
    "##### Conversión implícita"
   ]
  },
  {
   "cell_type": "markdown",
   "metadata": {},
   "source": [
    "> Cuando mezclamos *enteros*, *booleanos* y *flotantes*, Python realiza automáticamente una conversión implícita de los valores al tipo de *mayor rango*.\n",
    "\n",
    "|Tipo 1|Tipo 2|Resultado|\n",
    "|---|---|---|\n",
    "|bool|int|int|\n",
    "|int|float|float|\n",
    "|bool|float|float|"
   ]
  },
  {
   "cell_type": "code",
   "execution_count": 14,
   "metadata": {},
   "outputs": [
    {
     "name": "stdout",
     "output_type": "stream",
     "text": [
      "26\n",
      "0\n",
      "1\n",
      "22.8\n",
      "21.3\n"
     ]
    }
   ],
   "source": [
    "print(True + 25) #True = 1 entonces 1 + 25 = 26\n",
    "\n",
    "print(7 * False) #False = 0 entonces 7 * 0 = 0\n",
    "\n",
    "print(True + False) # 1 + 0 = 1\n",
    "\n",
    "print(21.8 + True) # 21.8 + 1 = 22.8\n",
    "\n",
    "print(10 + 11.3) # 10 + 11.3 = 21.3"
   ]
  },
  {
   "cell_type": "markdown",
   "metadata": {},
   "source": [
    "##### Conversión explícita"
   ]
  },
  {
   "cell_type": "markdown",
   "metadata": {},
   "source": [
    ">Podemos usar las siguientes funciones:\n",
    "\n",
    "Función|Finalidad\n",
    ":-:|:-:\n",
    "**bool()**|Convierte el tipo a *booleano*. Devuelve $True=1$ o $False=0$\n",
    "**int()**|Convierte el tipo a *entero*. Si el número es flotante nos devuelve su parte baja.\n",
    "**float()**|Convierte el tipo a *flotante.*"
   ]
  },
  {
   "cell_type": "code",
   "execution_count": 15,
   "metadata": {},
   "outputs": [
    {
     "name": "stdout",
     "output_type": "stream",
     "text": [
      "Convertir 1 a booleano: True\n",
      "Convertir 0 a booleano: False\n",
      "Convertir True a entero: 1\n",
      "Convertir False a entero: 0\n",
      "Convierte 1 a flotante: 1.0\n",
      "Convierte 0 a flotante: 0.0\n",
      "Convierte True a flotante: 1.0\n",
      "Convierte False a flotante: 0.0\n",
      "Convertir 3.1 a entero: 3\n",
      "Convertir 3.9 a entero: 3\n"
     ]
    }
   ],
   "source": [
    "print(f'Convertir {1} a booleano: {bool(1)}')\n",
    "\n",
    "print(f'Convertir {0} a booleano: {bool(0)}')\n",
    "\n",
    "print(f'Convertir {True} a entero: {int(True)}')\n",
    "\n",
    "print(f'Convertir {False} a entero: {int(False)}')\n",
    "\n",
    "print(f'Convierte {1} a flotante: {float(1)}')\n",
    "\n",
    "print(f'Convierte {0} a flotante: {float(0)}')\n",
    "\n",
    "print(f'Convierte {True} a flotante: {float(True)}')\n",
    "\n",
    "print(f'Convierte {False} a flotante: {float(False)}')\n",
    "\n",
    "print(f'Convertir {3.1} a entero: {int(3.1)}')\n",
    "\n",
    "print(f'Convertir {3.9} a entero: {int(3.9)}')"
   ]
  },
  {
   "cell_type": "markdown",
   "metadata": {},
   "source": [
    "Función|Finalidad\n",
    ":-:|:-:\n",
    "**type()**|Para *obtener* el tipo de una variable.\n",
    "**isinstance()**|Para *comprobar* el tipo que tiene una variable."
   ]
  },
  {
   "cell_type": "code",
   "execution_count": 16,
   "metadata": {},
   "outputs": [
    {
     "name": "stdout",
     "output_type": "stream",
     "text": [
      "La variable is_raining = False es del tipo <class 'bool'>\n",
      "La variable sound_level = 35 es del tipo <class 'int'>\n",
      "La variable temperature = 36.6 es del tipo <class 'float'>\n",
      "La variable is_raining = False es del tipo flotante: False\n",
      "La variable is_raining = False es del tipo booleano: True\n",
      "La variable sound_level = 35 es del tipo booleano: False\n",
      "La variable sound_level = 35 es del tipo entero: True\n"
     ]
    }
   ],
   "source": [
    "is_raining = False\n",
    "\n",
    "sound_level = 35\n",
    "\n",
    "temperature = 36.6\n",
    "\n",
    "print(f'La variable {is_raining = } es del tipo {type(is_raining)}')\n",
    "print(f'La variable {sound_level = } es del tipo {type(sound_level)}')\n",
    "print(f'La variable {temperature = } es del tipo {type(temperature)}')\n",
    "\n",
    "print(f'La variable {is_raining = } es del tipo flotante: {isinstance(is_raining,float)}')\n",
    "print(f'La variable {is_raining = } es del tipo booleano: {isinstance(is_raining,bool)}')\n",
    "\n",
    "print(f'La variable {sound_level = } es del tipo booleano: {isinstance(sound_level,bool)}')\n",
    "print(f'La variable {sound_level = } es del tipo entero: {isinstance(sound_level,int)}')"
   ]
  },
  {
   "cell_type": "markdown",
   "metadata": {},
   "source": [
    "#### Errores de aproximación"
   ]
  },
  {
   "cell_type": "code",
   "execution_count": 17,
   "metadata": {},
   "outputs": [
    {
     "data": {
      "text/plain": [
       "0.9999999999999999"
      ]
     },
     "execution_count": 17,
     "metadata": {},
     "output_type": "execute_result"
    }
   ],
   "source": [
    "(19 / 155) * (155 / 19) #Debería dar 1.0 "
   ]
  },
  {
   "cell_type": "markdown",
   "metadata": {},
   "source": [
    "> La representación interna de los valores en **coma flotante** sigue el estándar *IEEE 754* y estamos trabajando con aritmética finita.\n",
    "* la función **round()** nos permite redondear un número flotante a un número determinado de decimales.\n",
    "\n",
    "|round()| int()|\n",
    "|:--:|:--:|\n",
    "Aproxima al valor más cercano|Obtiene siepre el entero «por abajo»\n",
    "Permite redondear a un número determinado de decimales| No lo permite"
   ]
  },
  {
   "cell_type": "code",
   "execution_count": 18,
   "metadata": {},
   "outputs": [
    {
     "name": "stdout",
     "output_type": "stream",
     "text": [
      "Si uso la función round(), la cuenta me da: 1\n",
      "Si uso la función int(), la cuenta me da: 0\n"
     ]
    }
   ],
   "source": [
    "print(f'Si uso la función round(), la cuenta me da: {round((19 / 155) * (155 / 19))}') \n",
    "\n",
    "print(f'Si uso la función int(), la cuenta me da: {int((19 / 155) * (155 / 19))}')"
   ]
  },
  {
   "cell_type": "code",
   "execution_count": 19,
   "metadata": {},
   "outputs": [
    {
     "name": "stdout",
     "output_type": "stream",
     "text": [
      "Redondeo pi = 3.141592653589793 = 3\n",
      "Redondeo pi = 3.141592653589793 a 1 decimal = 3.1\n",
      "Redondeo pi = 3.141592653589793 a 3 decimales = 3.142\n",
      "Redondeo pi = 3.141592653589793 a 5 decimales = 3.14159\n"
     ]
    }
   ],
   "source": [
    "import math\n",
    "\n",
    "pi = math.pi\n",
    "\n",
    "print(f'Redondeo {pi = } = {round(pi)}')\n",
    "print(f'Redondeo {pi = } a 1 decimal = {round(pi, 1)}')\n",
    "print(f'Redondeo {pi = } a 3 decimales = {round(pi, 3)}')\n",
    "print(f'Redondeo {pi = } a 5 decimales = {round(pi, 5)}')"
   ]
  },
  {
   "cell_type": "code",
   "execution_count": 20,
   "metadata": {},
   "outputs": [
    {
     "name": "stdout",
     "output_type": "stream",
     "text": [
      "Si uso la función round(), la cuenta me da: 1.0\n"
     ]
    }
   ],
   "source": [
    "#Debería dar 1.0\n",
    "print(f'Si uso la función round(), la cuenta me da: {round((19 / 155) * (155 / 19), 1)}') "
   ]
  },
  {
   "cell_type": "markdown",
   "metadata": {},
   "source": [
    "#### Límite de un flotante"
   ]
  },
  {
   "cell_type": "markdown",
   "metadata": {},
   "source": [
    "\n",
    "> Los números flotantes sí que tienen un límite en Python."
   ]
  },
  {
   "cell_type": "code",
   "execution_count": 21,
   "metadata": {},
   "outputs": [
    {
     "name": "stdout",
     "output_type": "stream",
     "text": [
      "Limite mínimo de los números flotantes: 2.2250738585072014e-308\n",
      "Limite máximo de los números flotantes: 1.7976931348623157e+308\n"
     ]
    }
   ],
   "source": [
    "import sys\n",
    "print(f'Limite mínimo de los números flotantes: {sys.float_info.min}')\n",
    "print(f'Limite máximo de los números flotantes: {sys.float_info.max}')"
   ]
  },
  {
   "cell_type": "markdown",
   "metadata": {},
   "source": [
    "### Bases"
   ]
  },
  {
   "cell_type": "markdown",
   "metadata": {},
   "source": [
    ">Es posible representar números en otras bases. Python nos ofrece una serie de *prefijos* y *funciones* para este cometido.\n",
    "* **Base 10** (o decimal): Indica que disponemos de 10 *«símbolos»* para representar las cantidades (0 a 9 )."
   ]
  },
  {
   "cell_type": "markdown",
   "metadata": {},
   "source": [
    "#### Base Binaria"
   ]
  },
  {
   "cell_type": "markdown",
   "metadata": {},
   "source": [
    "> Cuenta con 2 símbolos para representar los valores: 0 y 1.\n",
    " \n",
    "Prefijo|Función\n",
    ":-:|:-:\n",
    "*0b*|*bin()*\n",
    "me da el número en decimal|me da el número en binario"
   ]
  },
  {
   "cell_type": "code",
   "execution_count": 22,
   "metadata": {},
   "outputs": [
    {
     "name": "stdout",
     "output_type": "stream",
     "text": [
      "El número 9 en binario es: 0b1001\n",
      "El número 12 en binario es: 0b1100\n"
     ]
    }
   ],
   "source": [
    "print(f'El número {0b1001} en binario es: {bin(9)}')\n",
    "print(f'El número {0b1100} en binario es: {bin(12)}')"
   ]
  },
  {
   "cell_type": "markdown",
   "metadata": {},
   "source": [
    "#### Base octal"
   ]
  },
  {
   "cell_type": "markdown",
   "metadata": {},
   "source": [
    ">Cuenta con 8 símbolos para representar los valores: 0, 1, 2, 3, 4, 5, 6 y 7.\n",
    " \n",
    "Prefijo|Función\n",
    ":-:|:-:\n",
    "*0o*|*oct()*\n",
    "me da el número en decimal|me da el número en octal"
   ]
  },
  {
   "cell_type": "code",
   "execution_count": 23,
   "metadata": {},
   "outputs": [
    {
     "name": "stdout",
     "output_type": "stream",
     "text": [
      "El número 3235 en octal es: 0o6243\n",
      "El número 687 en octal es: 0o1257\n"
     ]
    }
   ],
   "source": [
    "print(f'El número {0o6243} en octal es: {oct(3235)}')\n",
    "print(f'El número {0o1257} en octal es: {oct(687)}')"
   ]
  },
  {
   "cell_type": "markdown",
   "metadata": {},
   "source": [
    "#### Base hexadecimal"
   ]
  },
  {
   "cell_type": "markdown",
   "metadata": {},
   "source": [
    ">Cuenta con 16 símbolos para representar los valores: 0, 1, 2, 3, 4, 5, 6, 7, 8, 9, A, B, C, D, E y F.\n",
    " \n",
    "Prefijo|Función\n",
    ":-:|:-:\n",
    "*0x*|*hex()*\n",
    "me da el número en decimal|me da el número en hexadecimal"
   ]
  },
  {
   "cell_type": "code",
   "execution_count": 24,
   "metadata": {},
   "outputs": [
    {
     "name": "stdout",
     "output_type": "stream",
     "text": [
      "El número 32554 en hexadecimal es: 0x7f2a\n",
      "El número 18687 en hexadecimal es: 0x48ff\n"
     ]
    }
   ],
   "source": [
    "print(f'El número {0x7F2A} en hexadecimal es: {hex(32554)}')\n",
    "print(f'El número {0x48FF} en hexadecimal es: {hex(18687)}')"
   ]
  },
  {
   "cell_type": "markdown",
   "metadata": {},
   "source": [
    "Las letras para la representación hexadecimal no atienden a mayúsculas y minúsculas.|\n",
    ":-:|"
   ]
  }
 ],
 "metadata": {
  "kernelspec": {
   "display_name": "Python 3",
   "language": "python",
   "name": "python3"
  },
  "language_info": {
   "codemirror_mode": {
    "name": "ipython",
    "version": 3
   },
   "file_extension": ".py",
   "mimetype": "text/x-python",
   "name": "python",
   "nbconvert_exporter": "python",
   "pygments_lexer": "ipython3",
   "version": "3.12.4"
  },
  "orig_nbformat": 4
 },
 "nbformat": 4,
 "nbformat_minor": 2
}
