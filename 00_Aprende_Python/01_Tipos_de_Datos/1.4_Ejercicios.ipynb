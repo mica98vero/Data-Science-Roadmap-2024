{
 "cells": [
  {
   "cell_type": "markdown",
   "metadata": {},
   "source": [
    "Asignar un valor entero 2001 a la variable space_odyssey y muestra su valor."
   ]
  },
  {
   "cell_type": "code",
   "execution_count": 12,
   "metadata": {},
   "outputs": [
    {
     "name": "stdout",
     "output_type": "stream",
     "text": [
      "La variable space_odyssey = 2001 es del tipo <class 'int'>\n"
     ]
    }
   ],
   "source": [
    "space_odyssey = 2001\n",
    "print(f'La variable {space_odyssey = } es del tipo {type(space_odyssey)}')"
   ]
  },
  {
   "cell_type": "markdown",
   "metadata": {},
   "source": [
    "Descubre el tipo literal 'Good night & Good luck'"
   ]
  },
  {
   "cell_type": "code",
   "execution_count": 13,
   "metadata": {},
   "outputs": [
    {
     "name": "stdout",
     "output_type": "stream",
     "text": [
      "El tipo literal de \"Good night & Good luck\" es tipo: <class 'str'>\n"
     ]
    }
   ],
   "source": [
    "print(f'El tipo literal de \"Good night & Good luck\" es tipo: {type(\"Good nigth & Good luck\")}')"
   ]
  },
  {
   "cell_type": "markdown",
   "metadata": {},
   "source": [
    "Identifica el tipo del literal True"
   ]
  },
  {
   "cell_type": "code",
   "execution_count": 14,
   "metadata": {},
   "outputs": [
    {
     "name": "stdout",
     "output_type": "stream",
     "text": [
      "El tipo literal de True es <class 'bool'>\n"
     ]
    }
   ],
   "source": [
    "print(f'El tipo literal de {True} es {type(True)}')"
   ]
  },
  {
   "cell_type": "markdown",
   "metadata": {},
   "source": [
    "Asigna la expresión 10*3.0 a la variable result y muestra su tipo"
   ]
  },
  {
   "cell_type": "code",
   "execution_count": 15,
   "metadata": {},
   "outputs": [
    {
     "name": "stdout",
     "output_type": "stream",
     "text": [
      "La variable result = 30.0 su tipo es <class 'float'>\n"
     ]
    }
   ],
   "source": [
    "result = 10 * 3.0\n",
    "\n",
    "print(f'La variable {result = } su tipo es {type(result)}')"
   ]
  },
  {
   "cell_type": "markdown",
   "metadata": {},
   "source": [
    "Una ecuación de segundo grado se define como $ax^{2}+bx+c$ , y tiene dos soluciones. \n",
    "\n",
    "$$\n",
    "x_1 = \\frac{-b + \\sqrt{b^{2} - 4ac}}{2a}\n",
    "$$\n",
    "$$\n",
    "x_2 = \\frac{-b - \\sqrt{b^{2} - 4ac}}{2a}\n",
    "$$\n",
    "\n",
    "Dados los coeficientes a=4; b=-6 y c=2 calcule sus dos soluciones. Tengo en cuenta subdividir los cálculos y reutilizar variables (por ejemplo el discriminante). La solución para los valores es: \n",
    "* $x1=1$\n",
    "* $x2=0.5$.\n",
    "\n",
    ">La **raíz cuadrada** se puede calcular como $1/2=0.5$"
   ]
  },
  {
   "cell_type": "code",
   "execution_count": 16,
   "metadata": {},
   "outputs": [
    {
     "name": "stdout",
     "output_type": "stream",
     "text": [
      "El valor de x1 = 1.0 y el valor de {x2} = 0.5\n"
     ]
    }
   ],
   "source": [
    "a = 4\n",
    "b = -6\n",
    "c = 2\n",
    "\n",
    "x1 = (- b + ( b**2 - 4 * a * c ) ** 0.5 ) / (2*a) #x1 = 1\n",
    "x2 = (- b - ( b**2 - 4 * a * c ) ** 0.5 ) / (2*a) #x2 = 0.5 \n",
    "\n",
    "print(f'El valor de {x1 = } y el valor de {{x2}} = {x2}')"
   ]
  },
  {
   "cell_type": "markdown",
   "metadata": {},
   "source": [
    "Existe una aproximación al seno de un ángulo $x$ expresado en *grados*:\n",
    "$$\n",
    "\\sin(x) \\approx \\frac{4x(180 - x)}{40500 - x(180 - x)}\n",
    "$$\n",
    "Calcular dicha aproximación utilizando operaciones en Python. Descomponga la expresión en subcálculos almacenados en variables. Tenga en cuenta aquellas expresiones comunes para no repetir cálculos y seguir el principio **DRY** *(Don't repeat yourself)*\n",
    "* Comparar:\n",
    "  \n",
    "$\\sin(90) \\approx 1.0$\n",
    "\n",
    "$\\sin(45) \\approx 0.7071067811865475$\n",
    "\n",
    "$\\sin(50) \\approx 0.766044443118978$"
   ]
  },
  {
   "cell_type": "code",
   "execution_count": 6,
   "metadata": {},
   "outputs": [
    {
     "name": "stdout",
     "output_type": "stream",
     "text": [
      "1.0\n"
     ]
    }
   ],
   "source": [
    "x = 90\n",
    "a = x * (180 - x)\n",
    "sin = (4 * a) / (40500 - a)\n",
    "print(sin)"
   ]
  },
  {
   "cell_type": "code",
   "execution_count": 7,
   "metadata": {},
   "outputs": [
    {
     "name": "stdout",
     "output_type": "stream",
     "text": [
      "0.7058823529411765\n"
     ]
    }
   ],
   "source": [
    "x = 45\n",
    "a = x * (180 - x)\n",
    "sin = (4 * a) / (40500 - a)\n",
    "print(sin)"
   ]
  },
  {
   "cell_type": "code",
   "execution_count": 8,
   "metadata": {},
   "outputs": [
    {
     "name": "stdout",
     "output_type": "stream",
     "text": [
      "0.7647058823529411\n"
     ]
    }
   ],
   "source": [
    "x = 50\n",
    "a = x * (180 - x)\n",
    "sin = (4 * a) / (40500 - a)\n",
    "print(sin)"
   ]
  },
  {
   "cell_type": "code",
   "execution_count": 9,
   "metadata": {},
   "outputs": [
    {
     "name": "stdout",
     "output_type": "stream",
     "text": [
      "Aproximación sin(90) es 1.0, valor real 1.0\n",
      "Aproximación sin(45) es 0.7058823529411765, valor real 0.7071067811865476\n",
      "Aproximación sin(50) es 0.7647058823529411, valor real 0.766044443118978\n"
     ]
    }
   ],
   "source": [
    "# Respuesta de ChatGPT\n",
    "import math\n",
    "\n",
    "def approx_sin(x):\n",
    "    term1 = 4 * x       #Subcálculos\n",
    "    term2 = 180 - x\n",
    "    numerator = term1 * term2\n",
    "    denominator = 40500 - (x * term2)\n",
    "\n",
    "    sin_approx = numerator / denominator    #Aproximación del seno\n",
    "\n",
    "    return sin_approx\n",
    "\n",
    "ang_90 = 90     #Ángulos para comprar\n",
    "ang_45 = 45\n",
    "ang_50 = 50\n",
    "\n",
    "sin_90_approx = approx_sin(ang_90)  #Cálculo de las aproximaciones\n",
    "sin_45_approx = approx_sin(ang_45)\n",
    "sin_50_approx = approx_sin(ang_50)\n",
    "\n",
    "sin_90_real = math.sin(math.radians(ang_90))    #Valores reales usando la biblioteca math\n",
    "sin_45_real = math.sin(math.radians(ang_45))\n",
    "sin_50_real = math.sin(math.radians(ang_50))\n",
    "\n",
    "#Imprimir resultados\n",
    "print(f'Aproximación sin(90) es {sin_90_approx}, valor real {sin_90_real}')\n",
    "print(f'Aproximación sin(45) es {sin_45_approx}, valor real {sin_45_real}')\n",
    "print(f'Aproximación sin(50) es {sin_50_approx}, valor real {sin_50_real}')"
   ]
  },
  {
   "cell_type": "markdown",
   "metadata": {},
   "source": [
    "Escriba un programa en Python que acepte el radio de un círculo y compute su área \n",
    "* Entrada: 5\n",
    "* Salida: 78.5"
   ]
  },
  {
   "cell_type": "code",
   "execution_count": 1,
   "metadata": {},
   "outputs": [
    {
     "name": "stdout",
     "output_type": "stream",
     "text": [
      "El área de un círculo de un radio de 5 es: 78.5\n"
     ]
    }
   ],
   "source": [
    "import math #Importo la biblioteca math\n",
    "\n",
    "radio = 5\n",
    "\n",
    "pi = math.pi\n",
    "\n",
    "area_cir = round(pi * (radio ** 2),1) #Redondeo a un decimal\n",
    "\n",
    "print(f'El área de un círculo de {radio = } es: {area_cir}')"
   ]
  },
  {
   "cell_type": "code",
   "execution_count": 2,
   "metadata": {},
   "outputs": [
    {
     "name": "stdout",
     "output_type": "stream",
     "text": [
      "El área de un círculo de un radio de 5.0 es: 78.5\n"
     ]
    }
   ],
   "source": [
    "import math\n",
    "\n",
    "radio1 = float(input('Ingrese el radio del círculo: '))\n",
    "\n",
    "area_cir1 = round(math.pi * radio1 ** 2,1)\n",
    "\n",
    "print(f'El área de un círculo de {radio1 = } es: {area_cir1}')"
   ]
  },
  {
   "cell_type": "code",
   "execution_count": 17,
   "metadata": {},
   "outputs": [
    {
     "name": "stdout",
     "output_type": "stream",
     "text": [
      "El área del círculo con radio = 5.0 es: 78.5\n"
     ]
    }
   ],
   "source": [
    "#Respuesta de ChatGPT\n",
    "import math\n",
    "\n",
    "# Solicitar al usuario que ingrese el radio del círculo\n",
    "radio = float(input(\"Ingrese el radio del círculo: \"))\n",
    "\n",
    "# Calcular el área del círculo\n",
    "area = math.pi * radio ** 2\n",
    "\n",
    "# Imprimir el resultado redondeado a 1 decimal\n",
    "print(f\"El área del círculo con {radio = } es: {round(area, 1)}\")"
   ]
  },
  {
   "cell_type": "markdown",
   "metadata": {},
   "source": [
    "Escriba un programa en Python que acepte el radio de una esfera y obtenga su volumen\n",
    "  * Entrada: 5\n",
    "  * Salida: 523.3333333333334"
   ]
  },
  {
   "cell_type": "code",
   "execution_count": 18,
   "metadata": {},
   "outputs": [
    {
     "name": "stdout",
     "output_type": "stream",
     "text": [
      "El volumen de una esfera de radio 5 es: 523.5987755982989\n"
     ]
    }
   ],
   "source": [
    "import math\n",
    "\n",
    "rad_esf = 5\n",
    "\n",
    "vol_esf = (4/3) * math.pi * (rad_esf ** 3)\n",
    "\n",
    "print(f'El volumen de una esfera de radio {rad_esf} es: {vol_esf}')"
   ]
  },
  {
   "cell_type": "code",
   "execution_count": 5,
   "metadata": {},
   "outputs": [
    {
     "name": "stdout",
     "output_type": "stream",
     "text": [
      "El volumen de una esfera de radio 5.0 es: 523.5987755982989\n"
     ]
    }
   ],
   "source": [
    "import math\n",
    "\n",
    "rad_esf1 = float(input('Ingrese el radio de la esfera: ')) \n",
    "\n",
    "vol_esf1 = (4 / 3) * math.pi * rad_esf1 ** 3\n",
    "\n",
    "print(f'El volumen de una esfera de radio {rad_esf1} es: {vol_esf1}')"
   ]
  },
  {
   "cell_type": "code",
   "execution_count": 1,
   "metadata": {},
   "outputs": [
    {
     "name": "stdout",
     "output_type": "stream",
     "text": [
      "El volumen de la esfera con radio2 = 5.0 es: 523.5987755982989\n"
     ]
    }
   ],
   "source": [
    "#Respuesta por chatGPT\n",
    "import math\n",
    "\n",
    "# Solicitar al usuario que ingrese el radio de la esfera\n",
    "radio2 = float(input(\"Ingrese el radio de la esfera: \"))\n",
    "\n",
    "# Calcular el volumen de la esfera\n",
    "volumen2 = (4 / 3) * math.pi * radio2 ** 3\n",
    "\n",
    "# Imprimir el resultado\n",
    "print(f\"El volumen de la esfera con {radio2 = } es: {volumen2}\")"
   ]
  },
  {
   "cell_type": "markdown",
   "metadata": {},
   "source": [
    "Escriba un programa en Python que acepte la base y la altura de un triángulo y compute su área\n",
    "* Entrada: base = 4; altura = 5\n",
    "* Salida: 10.0"
   ]
  },
  {
   "cell_type": "code",
   "execution_count": 2,
   "metadata": {},
   "outputs": [
    {
     "name": "stdout",
     "output_type": "stream",
     "text": [
      "La area de un triángulo cuya base = 4 y altura = 5 es: 10.0\n"
     ]
    }
   ],
   "source": [
    "base = 4\n",
    "altura = 5\n",
    "\n",
    "print(f'La area de un triángulo cuya {base = } y {altura = } es: {(base * altura) / 2}')"
   ]
  },
  {
   "cell_type": "code",
   "execution_count": 3,
   "metadata": {},
   "outputs": [
    {
     "name": "stdout",
     "output_type": "stream",
     "text": [
      "El área del triángulo con base = 4.0 y altura = 5.0 es: 10.0\n"
     ]
    }
   ],
   "source": [
    "# Respuesta de ChatGPT\n",
    "\n",
    "#Solicitar al usuario que ingrese la base y la altura del triángulo\n",
    "base = float(input('Ingrese la base del triángulo: '))\n",
    "altura = float(input('Ingrese la altura del triángulo: '))\n",
    "\n",
    "area = 0.5 * base * altura  #Calcular el área del triángulo\n",
    "\n",
    "#Imprimir el resultado\n",
    "print(f'El área del triángulo con {base = } y {altura = } es: {area}')"
   ]
  },
  {
   "cell_type": "markdown",
   "metadata": {},
   "source": [
    "Escriba un programa en Python que compute el futuro valor de una cantidad de dinero, a partir del capital inicial, el tipo de interés y el número de años\n",
    "* Entrada: capital = 10000; interés = 3.5; años = 7\n",
    "* Salida: 12722.792627665729\n",
    "\n",
    "$$ Valor futuro = Capital * (1 + \\frac{Interés}{100})^{años}$$"
   ]
  },
  {
   "cell_type": "code",
   "execution_count": 4,
   "metadata": {},
   "outputs": [
    {
     "name": "stdout",
     "output_type": "stream",
     "text": [
      "12722.792627665729\n"
     ]
    }
   ],
   "source": [
    "capital = 10000\n",
    "\n",
    "interes = 3.5\n",
    "\n",
    "años = 7\n",
    "\n",
    "valor_futuro = capital * (1 + (interes / 100)) ** años\n",
    "\n",
    "print(valor_futuro)"
   ]
  },
  {
   "cell_type": "code",
   "execution_count": 5,
   "metadata": {},
   "outputs": [
    {
     "name": "stdout",
     "output_type": "stream",
     "text": [
      "El futuro valor de 10000.0 con un interes de 3.5 en 7 años es: 12722.792627665729\n"
     ]
    }
   ],
   "source": [
    "capital = float(input('Ingrese monto total de capital: '))\n",
    "interes = float(input('Ingrese el porcentaje de intereses: '))\n",
    "años = int(input(f'Ingrese la cantidad de años: '))\n",
    "\n",
    "val_fut = capital * (1 + interes / 100) ** años \n",
    "\n",
    "print(f'El futuro valor de {capital} con un interes de {interes} en {años} años es: {val_fut}')"
   ]
  },
  {
   "cell_type": "code",
   "execution_count": 6,
   "metadata": {},
   "outputs": [
    {
     "name": "stdout",
     "output_type": "stream",
     "text": [
      "El valor futuro del capital 10000.0 con un interés de 3.5% durante 7 años es: 12722.792627665729\n"
     ]
    }
   ],
   "source": [
    "#Respuesta de ChatGPT\n",
    "# Solicitar al usuario que ingrese el capital inicial, la tasa de interés y el número de años\n",
    "capital = float(input(\"Ingrese el capital inicial: \"))\n",
    "interes = float(input(\"Ingrese la tasa de interés (en %): \"))\n",
    "años = int(input(\"Ingrese el número de años: \"))\n",
    "\n",
    "# Calcular el valor futuro\n",
    "valor_futuro1 = capital * (1 + interes / 100) ** años\n",
    "\n",
    "# Imprimir el resultado\n",
    "print(f\"El valor futuro del capital {capital} con un interés de {interes}% durante {años} años es: {valor_futuro1}\")"
   ]
  },
  {
   "cell_type": "markdown",
   "metadata": {},
   "source": [
    "Escriba un programa en Python que calcule la distancia euclídea entre dos puntos ($x_1, y_1$) y ($x_2, y_2$)\n",
    "* Entrada: ($x_1 = 3, y_1 = 5$); ($x_2 = -7, y_2 = -4$)\n",
    "* Salida: 13.45362404707371\n",
    "\n",
    "$$d = \\sqrt{(x_2 - x_1) ^ {2} + (y_2 - y_1) ^ {2}}$$"
   ]
  },
  {
   "cell_type": "code",
   "execution_count": 7,
   "metadata": {},
   "outputs": [
    {
     "name": "stdout",
     "output_type": "stream",
     "text": [
      "La distancia euclídea entre los puntos (3,5) y (-7,-4) es: 13.45362404707371\n"
     ]
    }
   ],
   "source": [
    "x1 = 3\n",
    "y1 = 5\n",
    "x2 = -7\n",
    "y2 = -4\n",
    "\n",
    "dis_euc = (((x2 - x1) ** 2) + ((y2 - y1) ** 2)) ** 0.5\n",
    "\n",
    "print(f'La distancia euclídea entre los puntos ({x1},{y1}) y ({x2},{y2}) es: {dis_euc}')"
   ]
  },
  {
   "cell_type": "code",
   "execution_count": 8,
   "metadata": {},
   "outputs": [
    {
     "name": "stdout",
     "output_type": "stream",
     "text": [
      "La distancia euclídea entre los puntos (3.0, 5.0) y (-7.0, -4.0) es: 13.45362404707371\n"
     ]
    }
   ],
   "source": [
    "x1 = float(input('Ingrese x1: '))\n",
    "y1 = float(input('Ingrese y1: '))\n",
    "x2 = float(input('Ingrese x2: '))\n",
    "y2 = float(input('Ingrese y2: '))\n",
    "\n",
    "dis_euc = (((x2 - x1) ** 2) + ((y2 - y1) ** 2)) ** 0.5\n",
    "\n",
    "print(f'La distancia euclídea entre los puntos ({x1}, {y1}) y ({x2}, {y2}) es: {dis_euc}')"
   ]
  },
  {
   "cell_type": "code",
   "execution_count": 9,
   "metadata": {},
   "outputs": [
    {
     "name": "stdout",
     "output_type": "stream",
     "text": [
      "La distancia euclídea entre los puntos (3, 5) y (-7, -4) es: 13.45362404707371\n"
     ]
    }
   ],
   "source": [
    "#Respuesta de ChatGPT\n",
    "import math\n",
    "\n",
    "# Coordenadas de los puntos\n",
    "x1, y1 = 3, 5\n",
    "x2, y2 = -7, -4\n",
    "\n",
    "# Calcular la distancia euclídea\n",
    "distancia = math.sqrt((x2 - x1) ** 2 + (y2 - y1) ** 2)\n",
    "\n",
    "# Imprimir el resultado\n",
    "print(f\"La distancia euclídea entre los puntos ({x1}, {y1}) y ({x2}, {y2}) es: {distancia}\")"
   ]
  },
  {
   "cell_type": "code",
   "execution_count": 9,
   "metadata": {},
   "outputs": [
    {
     "name": "stdout",
     "output_type": "stream",
     "text": [
      "La distancia euclídea entre los puntos (3.0, 5.0) y (-7.0, -4.0) es: 13.45362404707371\n"
     ]
    }
   ],
   "source": [
    "#Respuesta de ChatGPT\n",
    "import math\n",
    "\n",
    "# Solicitar al usuario que ingrese las coordenadas de los puntos\n",
    "x1 = float(input(\"Ingrese la coordenada x1: \"))\n",
    "y1 = float(input(\"Ingrese la coordenada y1: \"))\n",
    "x2 = float(input(\"Ingrese la coordenada x2: \"))\n",
    "y2 = float(input(\"Ingrese la coordenada y2: \"))\n",
    "\n",
    "# Calcular la distancia euclídea\n",
    "distancia = math.sqrt((x2 - x1) ** 2 + (y2 - y1) ** 2)\n",
    "\n",
    "# Imprimir el resultado\n",
    "print(f\"La distancia euclídea entre los puntos ({x1}, {y1}) y ({x2}, {y2}) es: {distancia}\")"
   ]
  },
  {
   "cell_type": "markdown",
   "metadata": {},
   "source": [
    "Escribir un programa en Python que lea por teclado dos números enteros y muestre \n",
    "por pantalla el resultado de realizar las operaciones básicas entre ellos.\n",
    "* Valores de entrada: 7 y 4 \n",
    "* Salida esperada:\n",
    "  * 7+4=11\n",
    "  * 7-4=3 \n",
    "  * 7*4=28 \n",
    "  * 7/4=1.75 "
   ]
  },
  {
   "cell_type": "code",
   "execution_count": 12,
   "metadata": {},
   "outputs": [
    {
     "name": "stdout",
     "output_type": "stream",
     "text": [
      "La suma entre 7 y 4 es igual a 11\n",
      "La resta entre 7 y 4 es igual a 3\n",
      "La multiplicación entre 7 y 4 es igual a 28\n",
      "La división entre 7 y 4 es igual a 1.75\n"
     ]
    }
   ],
   "source": [
    "num1 = int(input('Introduzca un número entero: '))\n",
    "num2 = int(input('Introduzca otro número entero: '))\n",
    "\n",
    "print(f'La suma entre {num1} y {num2} es igual a {num1 + num2}')\n",
    "print(f'La resta entre {num1} y {num2} es igual a {num1 - num2}')\n",
    "print(f'La multiplicación entre {num1} y {num2} es igual a {num1 * num2}')\n",
    "print(f'La división entre {num1} y {num2} es igual a {num1 / num2}')"
   ]
  },
  {
   "cell_type": "markdown",
   "metadata": {},
   "source": [
    "Sabiendo que la longitud de una lista se calcula igual que la longitud de una cadena de texto,\n",
    "obtenga en número de palabras que contiene la siguiente cadena de texto"
   ]
  },
  {
   "cell_type": "code",
   "execution_count": 16,
   "metadata": {},
   "outputs": [
    {
     "name": "stdout",
     "output_type": "stream",
     "text": [
      "La frase \"Before software can be reusable, it first has to be usable\" tiene 11 palabras en total.\n"
     ]
    }
   ],
   "source": [
    "quote = 'Before software can be reusable, it first has to be usable'\n",
    "\n",
    "print(f'La frase \"{quote}\" tiene {len(quote.split())} palabras en total.')"
   ]
  },
  {
   "cell_type": "markdown",
   "metadata": {},
   "source": [
    "Dada la siguiente letra, obtenga la misma pero sustituyendo la palabra ***voices*** por ***sounds***."
   ]
  },
  {
   "cell_type": "code",
   "execution_count": 29,
   "metadata": {},
   "outputs": [
    {
     "name": "stdout",
     "output_type": "stream",
     "text": [
      "You look so beautiful in this light\n",
      "Your silhouette over me\n",
      "The way it brings out the blue in your eyes\n",
      "Is the Tenerife sea\n",
      "And all of the voices surrounding us here\n",
      "They just fade out when you take a breath\n",
      "Just say the word and I will disappear\n",
      "Into the wilderness\n",
      "\n",
      "Paso la canción a lista, tiene 53 elementos y la palabra voices aparece 1 vez en el indice 29.\n",
      "Reemplazo con la plabra sounds y se encuentra en el indice 29.\n",
      "\n",
      "Vuelvo a transformar la lista en string:\n",
      "You look so beautiful in this light Your silhouette over me The way it brings out the blue in your eyes Is the Tenerife sea And all of the sounds surrounding us here They just fade out when you take a breath Just say the word and I will disappear Into the wilderness\n"
     ]
    }
   ],
   "source": [
    "song = '''You look so beautiful in this light\n",
    "Your silhouette over me\n",
    "The way it brings out the blue in your eyes\n",
    "Is the Tenerife sea\n",
    "And all of the voices surrounding us here\n",
    "They just fade out when you take a breath\n",
    "Just say the word and I will disappear\n",
    "Into the wilderness'''\n",
    "\n",
    "print(song)\n",
    "\n",
    "song_list = song.split() #Creo un lista con la canción\n",
    "\n",
    "print(f'\\nPaso la canción a lista, tiene {len(song_list)} elementos y la palabra voices aparece {song_list.count(\"voices\")} vez en el indice {song_list.index(\"voices\")}.')\n",
    "\n",
    "song_list[song_list.index('voices')] = 'sounds' #Reemplazo la palabra por sounds\n",
    "\n",
    "print(f'Reemplazo con la plabra {song_list[song_list.index(\"sounds\")]} y se encuentra en el indice {song_list.index(\"sounds\")}.')\n",
    "\n",
    "song = \" \".join(song_list) #Transformo la lista en string.\n",
    "\n",
    "print(f'\\nVuelvo a transformar la lista en string:\\n{song}') \n",
    "#Pero no quedó como estaba originalmente."
   ]
  },
  {
   "cell_type": "code",
   "execution_count": 30,
   "metadata": {},
   "outputs": [
    {
     "name": "stdout",
     "output_type": "stream",
     "text": [
      "You look so beautiful in this light\n",
      "Your silhouette over me\n",
      "The way it brings out the blue in your eyes\n",
      "Is the Tenerife sea\n",
      "And all of the sounds surrounding us here\n",
      "They just fade out when you take a breath\n",
      "Just say the word and I will disappear\n",
      "Into the wilderness\n"
     ]
    }
   ],
   "source": [
    "#Respuesto de ChatGPT\n",
    "#Letra de la canción\n",
    "song = '''You look so beautiful in this light\n",
    "Your silhouette over me\n",
    "The way it brings out the blue in your eyes\n",
    "Is the Tenerife sea\n",
    "And all of the voices surrounding us here\n",
    "They just fade out when you take a breath\n",
    "Just say the word and I will disappear\n",
    "Into the wilderness'''\n",
    "\n",
    "#Encontrar la posición de la palabra \"voices\"\n",
    "start_index = song.find('voices')\n",
    "\n",
    "#Si \"voices\" se encuentra en la cadena\n",
    "if start_index != -1:\n",
    "    #Longitud de la palabra voices\n",
    "    len_voices = len('voices')\n",
    "\n",
    "    #Trocear la cadena\n",
    "    before_voices = song[:start_index]\n",
    "    after_voices = song[start_index + len_voices:]\n",
    "\n",
    "    #Concatenar las partes con \"sounds\" en lugar de \"voices\"\n",
    "    new_song = before_voices + 'sounds' + after_voices\n",
    "\n",
    "    #Imprimir el resultado\n",
    "    print(new_song)\n",
    "\n",
    "else:\n",
    "    print('La palabra \"voices\" no se encuentra en la canción.') #Quedó como estaba originalmente."
   ]
  },
  {
   "cell_type": "markdown",
   "metadata": {},
   "source": [
    "Dada la variable $e=2.71828$, obtener los siguientes resultados utilizando \\<f-strings>:\n",
    "*   '2.718'\n",
    "*   '2.718280'\n",
    "*   '____2.72'  (4 espacios en blanco)\n",
    "*   '2.718280e+00'\n",
    "*   '00002.7183'\n",
    "*   '____________2.71828'   (12 espacios en blanco)"
   ]
  },
  {
   "cell_type": "code",
   "execution_count": 65,
   "metadata": {},
   "outputs": [
    {
     "name": "stdout",
     "output_type": "stream",
     "text": [
      "e = 2.71828 y se muestran 3 decimales: 2.718\n",
      "e = 2.71828 y se muestra: 2.718280\n",
      "e = 2.71828 y se muestra:    2.72\n",
      "e = 2.71828 y se muestra: 2.718280e+00\n",
      "e = 2.71828 y se muestra: 00002.7183\n",
      "e = 2.71828 y se muestra:             2.71828\n"
     ]
    }
   ],
   "source": [
    "e = 2.71828\n",
    "\n",
    "print(f'{e = } y se muestran 3 decimales: {e:.3f}')\n",
    "print(f'{e = } y se muestra: {e:4f}')  \n",
    "print(f'{e = } y se muestra:{e:8.2f}')\n",
    "print(f'{e = } y se muestra: {e:e}')\n",
    "print(f'{e = } y se muestra: {e:010.4f}')  \n",
    "print(f'{e = } y se muestra:{e:20.5f}')"
   ]
  },
  {
   "cell_type": "markdown",
   "metadata": {},
   "source": [
    "Escribir un programa que acepte el nombre y los apellidos de una persona y los imprima en orden inverso separados por una coma. Utilice f-strings para implementarlos\n",
    "* Entrada: nombre = Sergio; apellidos = Delgado Quintero\n",
    "* Salida: Delgado Quintero, Sergio"
   ]
  },
  {
   "cell_type": "code",
   "execution_count": 66,
   "metadata": {},
   "outputs": [
    {
     "name": "stdout",
     "output_type": "stream",
     "text": [
      "El nombre completo es: Delgado Quintero, Sergio\n"
     ]
    }
   ],
   "source": [
    "nombre = input('Introduzca su nombre:')\n",
    "apellido = input('Introduzca su apellido:')\n",
    "print(f'El nombre completo es: {apellido}, {nombre}')"
   ]
  },
  {
   "cell_type": "markdown",
   "metadata": {},
   "source": [
    "Escriba un programa que acepte una ruta remota de recurso samba, y lo separe en nombre(IP)\n",
    "del equipo y ruta.\n",
    "* Entrada: //1.1.1.1/eoi/python\n",
    "* Salida: equipo=1.1.1.1; ruta=/eoi/python"
   ]
  },
  {
   "cell_type": "code",
   "execution_count": 71,
   "metadata": {},
   "outputs": [
    {
     "name": "stdout",
     "output_type": "stream",
     "text": [
      "equipo = 1.1.1.1; ruta = /eoi/python\n"
     ]
    }
   ],
   "source": [
    "ruta_remota = input('Ingrese una ruta remota: ')\n",
    "\n",
    "lista_partes = ruta_remota.split('/') #Especifico separarlo por '/'\n",
    "\n",
    "equipo = lista_partes[2] # La dirección IP o nombre del equipo se encuentra en el indice 2\n",
    "\n",
    "#Agrego una barra al principio + uno la lista con la barra de por medio\n",
    "ruta = '/' + '/'.join(lista_partes[3:]) # La ruta comienza desde el indice 3 \n",
    "\n",
    "print(f'equipo = {equipo}; ruta = {ruta}')"
   ]
  },
  {
   "cell_type": "markdown",
   "metadata": {},
   "source": [
    "Escriba un programa que acepte un \"string\" con los 8 dígitos de un NIF,y calcule su dígito de control.\n",
    "* Entrada: 12345678\n",
    "* Salida: 12345678Z"
   ]
  },
  {
   "cell_type": "code",
   "execution_count": null,
   "metadata": {},
   "outputs": [],
   "source": [
    "NIF = input('Ingrese un número: ')\n",
    "\n",
    "letras = 'T,R,W,A,G,M,Y,F,P,D,X,B,N,J,Z,S,Q,V,H,L,C,K,E'\n",
    "\n",
    "lista_letras = letras.split(',') #Convierto el string en lista \n",
    "\n",
    "resto = int(NIF) % 23 #Obtengo el resto y lo útilizo como índice para obtener la letra\n",
    "\n",
    "print(f'{NIF+lista_letras[resto]}') #Adihero la letra al final"
   ]
  },
  {
   "cell_type": "markdown",
   "metadata": {},
   "source": [
    "Escriba un programa en Python que acepte un entero n y compute el valor de n + nn + nnn \n",
    "*   Entrada: 5\n",
    "*   Salida: 615"
   ]
  },
  {
   "cell_type": "code",
   "execution_count": 86,
   "metadata": {},
   "outputs": [
    {
     "name": "stdout",
     "output_type": "stream",
     "text": [
      "5 + 55 + 555 = 615\n"
     ]
    }
   ],
   "source": [
    "n = input('Ingresar número entero: ')\n",
    "\n",
    "print(f'{n} + {n*2} + {n*3} = {int(n) + int(n*2) + int(n*3)}')"
   ]
  },
  {
   "cell_type": "code",
   "execution_count": 87,
   "metadata": {},
   "outputs": [
    {
     "name": "stdout",
     "output_type": "stream",
     "text": [
      "El resultado de 5 + 55 + 555 es: 615\n"
     ]
    }
   ],
   "source": [
    "#Respuesta de ChatGPT\n",
    "n = input('Ingrese un número entero: ')\n",
    "\n",
    "#Calcular n,nn, y nnn como enteros\n",
    "n1 = int(n)\n",
    "n2 = int(n * 2)\n",
    "n3 = int(n * 3)\n",
    "\n",
    "#Sumar valores\n",
    "resultado = n1 + n2 + n3\n",
    "\n",
    "#Imprimir el resultado\n",
    "print(f'El resultado de {n} + {n}{n} + {n}{n}{n} es: {resultado}')"
   ]
  },
  {
   "cell_type": "markdown",
   "metadata": {},
   "source": [
    "Escriba un programa en Python que acepte una palabra en castellano y calcule una métrica que sea el número total de caracteres de la palabra multiplicado por el número total de vocales que contiene la palabra.\n",
    "* Entrada: ordenador\n",
    "* Salida: 36"
   ]
  },
  {
   "cell_type": "code",
   "execution_count": 97,
   "metadata": {},
   "outputs": [
    {
     "name": "stdout",
     "output_type": "stream",
     "text": [
      "La palabra = 'ordenador' tiene 9 letras y 4 vocales: 36\n"
     ]
    }
   ],
   "source": [
    "palabra = input('Ingrese una palabra: ')\n",
    "\n",
    "total_le = len(palabra)\n",
    "total_voc = palabra.count('a') + palabra.count('e') + palabra.count('i') + palabra.count('o') + palabra.count('u')\n",
    "\n",
    "print(f'La {palabra = } tiene {total_le} letras y {total_voc} vocales: {total_le * total_voc}')"
   ]
  },
  {
   "cell_type": "code",
   "execution_count": 98,
   "metadata": {},
   "outputs": [
    {
     "name": "stdout",
     "output_type": "stream",
     "text": [
      "La métrica de la palabra ordenador es: 36\n"
     ]
    }
   ],
   "source": [
    "#Respuesta de ChatGPT\n",
    "palabra1 = input('Ingrese una palabra en castellano: ')\n",
    "\n",
    "#Contar el número total de caracteres\n",
    "total_caracteres = len(palabra1)\n",
    "\n",
    "#Definir las vocales en castellano\n",
    "vocales = 'aeiouáéíóúü'\n",
    "\n",
    "#Contar el número de vocales en la palabra\n",
    "total_vocales = sum(1 for char in palabra1.lower() if char in vocales)\n",
    "\n",
    "#Calcular métrica\n",
    "metrica = total_caracteres * total_vocales\n",
    "\n",
    "print(f'La métrica de la palabra {palabra1} es: {metrica}')"
   ]
  }
 ],
 "metadata": {
  "kernelspec": {
   "display_name": "Python 3",
   "language": "python",
   "name": "python3"
  },
  "language_info": {
   "codemirror_mode": {
    "name": "ipython",
    "version": 3
   },
   "file_extension": ".py",
   "mimetype": "text/x-python",
   "name": "python",
   "nbconvert_exporter": "python",
   "pygments_lexer": "ipython3",
   "version": "3.11.9"
  }
 },
 "nbformat": 4,
 "nbformat_minor": 2
}
