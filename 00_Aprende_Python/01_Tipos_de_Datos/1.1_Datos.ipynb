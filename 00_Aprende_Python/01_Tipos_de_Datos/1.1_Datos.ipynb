{
 "cells": [
  {
   "cell_type": "markdown",
   "metadata": {},
   "source": [
    "# Tipo de datos"
   ]
  },
  {
   "cell_type": "markdown",
   "metadata": {},
   "source": [
    "En programación manejamos objetos que tienen asociado un tipo determinado. Acá se verán los tipos de datos básicos con los que podemos trabajar en python."
   ]
  },
  {
   "cell_type": "code",
   "execution_count": 3,
   "metadata": {},
   "outputs": [
    {
     "name": "stdout",
     "output_type": "stream",
     "text": [
      "Hello, World\n"
     ]
    }
   ],
   "source": [
    "print('Hello, World')"
   ]
  },
  {
   "cell_type": "code",
   "execution_count": 4,
   "metadata": {},
   "outputs": [],
   "source": [
    "import this"
   ]
  },
  {
   "cell_type": "markdown",
   "metadata": {},
   "source": [
    "## Datos"
   ]
  },
  {
   "cell_type": "markdown",
   "metadata": {},
   "source": [
    ">Los programas están formados por **Código** y **Dato** ( sequencia de *bits*). Cada \"trozo\" de memoria contiene un objeto, por eso se dice que en Python **todos son objetos**.\n",
    "\n",
    "Cada objetos tiene, al menos, los siguientes campos:\n",
    "\n",
    "* *Tipo* de dato almacenado.\n",
    "* *Identificador* único para distingirlo de otros objetos.\n",
    "* *Valor* consistente con su tipo."
   ]
  },
  {
   "cell_type": "markdown",
   "metadata": {},
   "source": [
    "### Tipos de datos"
   ]
  },
  {
   "cell_type": "markdown",
   "metadata": {},
   "source": [
    "Nombre|Tipo|Ejemplos\n",
    ":-:|:-:|:-:\n",
    "Booleano|bool|True, False\n",
    "Entero|int|21, 234, 34_500\n",
    "Flotante|float|3.14, 1.5e3\n",
    "Complejo|complex|2j, 3+5j\n",
    "Cadena|str|'hola', '''lluvia - sol'''\n",
    "Tupla|tuple|(1,3,5)\n",
    "Lista|list|['cosas','pez']\n",
    "Conjunto|set|set([2,4,6])\n",
    "Diccionario|dict|{'key':'value','key2':'value2'}"
   ]
  },
  {
   "cell_type": "markdown",
   "metadata": {},
   "source": [
    "### Variable"
   ]
  },
  {
   "cell_type": "markdown",
   "metadata": {},
   "source": [
    "> Son fundamentales, ya que permiten definir **nombres** para los *valores* que tenemos en memoria y que vamos a usar en nuestro programa.\n",
    "\n",
    "|**nombre** = *valor*|\n",
    "|:-:|\n",
    "Uso de un *nombre* de variable|"
   ]
  },
  {
   "cell_type": "markdown",
   "metadata": {},
   "source": [
    "#### Reglas para nombrar variables"
   ]
  },
  {
   "cell_type": "markdown",
   "metadata": {},
   "source": [
    "1. Sólo pueden contener: \n",
    "   1. *minúsculas*  \n",
    "   2. *MAYÚSCULAS*\n",
    "   3. *dígitos*\n",
    "   4. *guiones bajos (_)*\n",
    "2. **No** puede empezar con un dígito\n",
    "3. **No** puede ser una palabra reservada del lenguaje (keywords ej:\"*print*\")\n",
    "\n",
    ">**Consejo**: por lo general se prefiere dar nombres en Inglés a las variables para hacer el código más internacional."
   ]
  },
  {
   "cell_type": "code",
   "execution_count": 5,
   "metadata": {},
   "outputs": [
    {
     "name": "stdout",
     "output_type": "stream",
     "text": [
      "\n",
      "Here is a list of the Python keywords.  Enter any keyword to get more help.\n",
      "\n",
      "False               class               from                or\n",
      "None                continue            global              pass\n",
      "True                def                 if                  raise\n",
      "and                 del                 import              return\n",
      "as                  elif                in                  try\n",
      "assert              else                is                  while\n",
      "async               except              lambda              with\n",
      "await               finally             nonlocal            yield\n",
      "break               for                 not                 \n",
      "\n"
     ]
    }
   ],
   "source": [
    "#Listado de las palabras reservadas del lenguaje\n",
    "help('keywords')"
   ]
  },
  {
   "cell_type": "markdown",
   "metadata": {},
   "source": [
    "#### Ejemplos de nombres de variables "
   ]
  },
  {
   "cell_type": "markdown",
   "metadata": {},
   "source": [
    "Válido|Inválido|Razón\n",
    ":-:|:-:|:-:\n",
    "a|3|Empieza por un dígito\n",
    "a3|3a|Empieza por un dígito\n",
    "a_b_c___95|another-name|Contiene un caracter no permitido\n",
    "_abc|with|Es una *keyword*\n",
    "_3a|3_a|Empieza por un dígito"
   ]
  },
  {
   "cell_type": "markdown",
   "metadata": {},
   "source": [
    ">Los nombres de las variables son **\"case-sensitive\"**. *Stuff* y *stuff* son nombres diferentes."
   ]
  },
  {
   "cell_type": "markdown",
   "metadata": {},
   "source": [
    "#### Convenciones para nombres"
   ]
  },
  {
   "cell_type": "markdown",
   "metadata": {},
   "source": [
    " >Es un acuerdo general para la nomenclatura de las variables\n",
    "\n",
    " * **Snake_case**: utilizamos caracteres en *minúsculas* (dígitos si procede) junto con *guiones bajos* (_) para su legibilidad.\n",
    "* **Constantes**: su valor no cambia (ej. velocidad de la luz es 300.000 km/s.), por lo tanto se utilizan *MAYÚSCULAS* para nombrarlas.\n",
    "* **Autoexplicativos**: Es fundamental que los nombres lo sean, al mismo tiempo deben ser concisos y claros.\n",
    "    * *nombres* para variables (article/articulo)\n",
    "    * *verbos* para funciones (get_article()/obtener_articulo())\n",
    "    * *adjetivos* para booleanos (available/disponible)"
   ]
  },
  {
   "cell_type": "markdown",
   "metadata": {},
   "source": [
    "### Asignación"
   ]
  },
  {
   "cell_type": "markdown",
   "metadata": {},
   "source": [
    ">En Python se usa el símbolo **\"=\"** para **asignar** un valor a una variable\n",
    "\n",
    "|**nombre** = *valor*|\n",
    "|:-:|\n",
    "Asignación de *valor* a **nombre** de variable|"
   ]
  },
  {
   "cell_type": "code",
   "execution_count": 6,
   "metadata": {},
   "outputs": [],
   "source": [
    "#Asignaciones a variables\n",
    "total_population = 157503\n",
    "avg_temperature = 16.8\n",
    "city_name = 'Buenos Aires'\n",
    "\n",
    "#Asignaciones a constantes\n",
    "SOUND_SPEED = 343.2\n",
    "WATER_DENSITY = 997\n",
    "EARTH_NAME = 'La tierra'\n",
    "\n",
    "#Asignación múltiple\n",
    "tres = three = drei = 3\n",
    "\n",
    "#Asignación de una variable a otra (debe existir previamente)\n",
    "dogs = 5346677\n",
    "total_dogs = dogs"
   ]
  },
  {
   "cell_type": "code",
   "execution_count": 7,
   "metadata": {},
   "outputs": [
    {
     "data": {
      "text/plain": [
       "157503"
      ]
     },
     "execution_count": 7,
     "metadata": {},
     "output_type": "execute_result"
    }
   ],
   "source": [
    "total_population #Conocer el valor de la variable"
   ]
  },
  {
   "cell_type": "code",
   "execution_count": 8,
   "metadata": {},
   "outputs": [
    {
     "data": {
      "text/plain": [
       "int"
      ]
     },
     "execution_count": 8,
     "metadata": {},
     "output_type": "execute_result"
    }
   ],
   "source": [
    "type(total_population) #Conocer el tipo de valor de la variable"
   ]
  },
  {
   "cell_type": "code",
   "execution_count": 9,
   "metadata": {},
   "outputs": [
    {
     "name": "stdout",
     "output_type": "stream",
     "text": [
      "157503\n",
      "<class 'int'>\n"
     ]
    }
   ],
   "source": [
    "#Imprimo por pantalla el valor y el tipo\n",
    "print(total_population)\n",
    "print(type(total_population))"
   ]
  },
  {
   "cell_type": "code",
   "execution_count": 10,
   "metadata": {},
   "outputs": [
    {
     "name": "stdout",
     "output_type": "stream",
     "text": [
      "La variable total_population = 157503 es del tipo <class 'int'>\n",
      "La variable avg_temperature = 16.8 es del tipo <class 'float'>\n",
      "La variable city_name = 'Buenos Aires' y es del tipo <class 'str'>\n",
      "La variable SOUND_SPEED = 343.2 y es del tipo <class 'float'>\n",
      "La variable WATER_DENSITY = 997 y es del tipo <class 'int'>\n",
      "La variable EARTH_NAME = 'La tierra' y es del tipo <class 'str'>\n",
      "La variable tres = 3 y es del tipo <class 'int'>\n",
      "La variable three = 3 y es del tipo <class 'int'>\n",
      "La variable drei = 3 y es del tipo <class 'int'>\n",
      "La variable dogs = 5346677 y es del tipo <class 'int'>\n",
      "La variable total_dogs = 5346677 y es del tipo <class 'int'>\n"
     ]
    }
   ],
   "source": [
    "#Conocer: nombre de la variable, su valor y el tipo de dato.\n",
    "print(f'La variable {total_population = } es del tipo {type(total_population)}')\n",
    "print(f'La variable {avg_temperature = } es del tipo {type(avg_temperature)}')\n",
    "print(f'La variable {city_name = } y es del tipo {type(city_name)}')\n",
    "print(f'La variable {SOUND_SPEED = } y es del tipo {type(SOUND_SPEED)}')\n",
    "print(f'La variable {WATER_DENSITY = } y es del tipo {type(WATER_DENSITY)}')\n",
    "print(f'La variable {EARTH_NAME = } y es del tipo {type(EARTH_NAME)}')\n",
    "print(f'La variable {tres = } y es del tipo {type(tres)}')\n",
    "print(f'La variable {three = } y es del tipo {type(three)}')\n",
    "print(f'La variable {drei = } y es del tipo {type(drei)}')\n",
    "print(f'La variable {dogs = } y es del tipo {type(dogs)}')\n",
    "print(f'La variable {total_dogs = } y es del tipo {type(total_dogs)}')"
   ]
  },
  {
   "cell_type": "markdown",
   "metadata": {},
   "source": [
    "### Mutabilidad"
   ]
  },
  {
   "cell_type": "markdown",
   "metadata": {},
   "source": [
    "Las variables son nombres no lugares. Detrás de esta frase se esconde la reflexión de que cuando asignamos un valor a una variable, lo que realmente está ocurriendo es que se hace **apuntar** el nombre de la variable a una zona de memoria en el que representa el objeto (con su valor). El nombre de la variable es una referencia al valor, no al valor en sí mismo."
   ]
  },
  {
   "cell_type": "code",
   "execution_count": 11,
   "metadata": {},
   "outputs": [
    {
     "name": "stdout",
     "output_type": "stream",
     "text": [
      "La variable a = 45 apunta a la zona de memoria: 140712044134200\n",
      "La variable b = 45 apunta a la zona de memoria: 140712044134200\n"
     ]
    }
   ],
   "source": [
    "a = 45\n",
    "b = 45\n",
    "# id() función que permite conocer la dirección de memoria de un objeto en Python.\n",
    "print(f'La variable {a = } apunta a la zona de memoria: {id(a)}')\n",
    "print(f'La variable {b = } apunta a la zona de memoria: {id(b)}')"
   ]
  },
  {
   "cell_type": "markdown",
   "metadata": {},
   "source": [
    "Si tratamos con listas podemos ver que la modificación de alguno de sus valores no implica un cambio en la posición de memoria de la variable. Es un objeto **mutable**.\n",
    "\n",
    "![alt text](Imágenes/Mutable_and_Immutable.webp)"
   ]
  },
  {
   "cell_type": "markdown",
   "metadata": {},
   "source": [
    "Importante: **Inmutable** significa que no podemos modificar su valor 'in-situ', pero siempre podemos asignarle un nuevo valor.|\n",
    ":-:|"
   ]
  },
  {
   "cell_type": "code",
   "execution_count": 12,
   "metadata": {},
   "outputs": [
    {
     "name": "stdout",
     "output_type": "stream",
     "text": [
      "La variable list_1 = ['Micaela', 'Franco'] apunta a la zona de memoria: 1817793843264\n",
      "La variable list_2 = ['Micaela', 'Franco'] apunta a la zona de memoria: 1817793850112\n"
     ]
    }
   ],
   "source": [
    "list_1 = ['Micaela','Franco']\n",
    "list_2 = ['Micaela','Franco']\n",
    "\n",
    "print(f'La variable {list_1 = } apunta a la zona de memoria: {id(list_1)}')\n",
    "print(f'La variable {list_2 = } apunta a la zona de memoria: {id(list_2)}')"
   ]
  },
  {
   "cell_type": "code",
   "execution_count": 13,
   "metadata": {},
   "outputs": [
    {
     "name": "stdout",
     "output_type": "stream",
     "text": [
      "La variable list_3 = ['Fulanito', 'Fulanita'] apunta a la zona de memoria: 1817793909056\n",
      "La variable list_4 = ['Fulanito', 'Fulanita'] apunta a la zona de memoria: 1817793909056\n",
      "La variable list_3 = ['Fulanito', 'Fulanita', 'Nuevo'] apunta a la zona de memoria: 1817793909056\n",
      "La variable list_4 = ['Fulanito', 'Fulanita', 'Nuevo'] apunta a la zona de memoria: 1817793909056\n"
     ]
    }
   ],
   "source": [
    "list_3 = ['Fulanito','Fulanita']\n",
    "list_4 = list_3\n",
    "\n",
    "print(f'La variable {list_3 = } apunta a la zona de memoria: {id(list_3)}')\n",
    "print(f'La variable {list_4 = } apunta a la zona de memoria: {id(list_4)}')\n",
    "\n",
    "list_4.append('Nuevo')\n",
    "\n",
    "print(f'La variable {list_3 = } apunta a la zona de memoria: {id(list_3)}')\n",
    "print(f'La variable {list_4 = } apunta a la zona de memoria: {id(list_4)}')\n"
   ]
  },
  {
   "cell_type": "markdown",
   "metadata": {},
   "source": [
    "### Funciones \"Built-in\""
   ]
  },
  {
   "cell_type": "markdown",
   "metadata": {},
   "source": [
    "\n",
    ">Funciones incorporadas por defecto en el propio lenguaje Python.\n",
    "\n",
    "Examples|\n",
    ":-:|\n",
    "print()|\n",
    "help()|\n",
    "id()|\n",
    "append()|\n",
    "...y muchos más!|"
   ]
  }
 ],
 "metadata": {
  "kernelspec": {
   "display_name": "Python 3",
   "language": "python",
   "name": "python3"
  },
  "language_info": {
   "codemirror_mode": {
    "name": "ipython",
    "version": 3
   },
   "file_extension": ".py",
   "mimetype": "text/x-python",
   "name": "python",
   "nbconvert_exporter": "python",
   "pygments_lexer": "ipython3",
   "version": "3.12.4"
  },
  "orig_nbformat": 4
 },
 "nbformat": 4,
 "nbformat_minor": 2
}
