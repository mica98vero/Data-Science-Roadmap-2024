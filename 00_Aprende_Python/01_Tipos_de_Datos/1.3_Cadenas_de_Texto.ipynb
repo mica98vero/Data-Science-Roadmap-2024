{
 "cells": [
  {
   "cell_type": "markdown",
   "metadata": {},
   "source": [
    "# Tipo de Datos"
   ]
  },
  {
   "cell_type": "markdown",
   "metadata": {},
   "source": [
    "En programación manejamos objetos que tienen asociado un tipo determinado. Acá se verán los tipos de datos básicos con los que podemos trabajar en python."
   ]
  },
  {
   "cell_type": "markdown",
   "metadata": {},
   "source": [
    "## Cadenas de texto"
   ]
  },
  {
   "cell_type": "markdown",
   "metadata": {},
   "source": [
    "> Son secuencias de **caracteres**. También se les conoce como *«strings»* y nos permiten almacenar información textual de forma muy cómoda. Además permite representar una cantidad ingente de símbolos incluyendo los famosos emojis.\n",
    "\n",
    ":sunglasses: 😎"
   ]
  },
  {
   "cell_type": "markdown",
   "metadata": {},
   "source": [
    "### Creando «strings»"
   ]
  },
  {
   "cell_type": "markdown",
   "metadata": {},
   "source": [
    ">Para escribir una cadena de texto en Python basta con rodear los caracteres con **comillas simples**."
   ]
  },
  {
   "cell_type": "code",
   "execution_count": 1,
   "metadata": {},
   "outputs": [
    {
     "data": {
      "text/plain": [
       "'Mi primera cadena de Python'"
      ]
     },
     "execution_count": 1,
     "metadata": {},
     "output_type": "execute_result"
    }
   ],
   "source": [
    "'Mi primera cadena de Python' #Comillas simples"
   ]
  },
  {
   "cell_type": "code",
   "execution_count": 2,
   "metadata": {},
   "outputs": [
    {
     "data": {
      "text/plain": [
       "'Los llamados \"strings\" son secuencias de caracteres'"
      ]
     },
     "execution_count": 2,
     "metadata": {},
     "output_type": "execute_result"
    }
   ],
   "source": [
    "'Los llamados \"strings\" son secuencias de caracteres' #Comillas dobles dentro de comillas simples."
   ]
  },
  {
   "cell_type": "code",
   "execution_count": 3,
   "metadata": {},
   "outputs": [
    {
     "data": {
      "text/plain": [
       "\"Los llamados 'strings' son secuencias de caracteres\""
      ]
     },
     "execution_count": 3,
     "metadata": {},
     "output_type": "execute_result"
    }
   ],
   "source": [
    "'Los llamados \\'strings\\' son secuencias de caracteres' #Comillas simples escapadas."
   ]
  },
  {
   "cell_type": "code",
   "execution_count": 4,
   "metadata": {},
   "outputs": [
    {
     "data": {
      "text/plain": [
       "\"Los llamados 'strings' son secuencias de caracteres\""
      ]
     },
     "execution_count": 4,
     "metadata": {},
     "output_type": "execute_result"
    }
   ],
   "source": [
    "\"Los llamados 'strings' son secuencias de caracteres\" #Comillas simples dentro de comillas dobles"
   ]
  },
  {
   "cell_type": "markdown",
   "metadata": {},
   "source": [
    "#### Comillas triples"
   ]
  },
  {
   "cell_type": "markdown",
   "metadata": {},
   "source": [
    ">Forma alternativa de crear cadenas de texto. Su uso está pensado principalmente para **cadenas multilínea**"
   ]
  },
  {
   "cell_type": "code",
   "execution_count": 5,
   "metadata": {},
   "outputs": [
    {
     "data": {
      "text/plain": [
       "\"To be, or not to be, that is the question:\\n    Whether 'tis nobler in the mind to suffer\\n    The slings and arrows of outrageous fortune,\\n    Or to take arms against a sea of troubles\""
      ]
     },
     "execution_count": 5,
     "metadata": {},
     "output_type": "execute_result"
    }
   ],
   "source": [
    "poem = '''To be, or not to be, that is the question:\n",
    "    Whether 'tis nobler in the mind to suffer\n",
    "    The slings and arrows of outrageous fortune,\n",
    "    Or to take arms against a sea of troubles'''\n",
    "\n",
    "poem"
   ]
  },
  {
   "cell_type": "markdown",
   "metadata": {},
   "source": [
    "#### Cadena vacía"
   ]
  },
  {
   "cell_type": "markdown",
   "metadata": {},
   "source": [
    ">Es aquella que no contiene ningún caracter."
   ]
  },
  {
   "cell_type": "code",
   "execution_count": 6,
   "metadata": {},
   "outputs": [
    {
     "data": {
      "text/plain": [
       "''"
      ]
     },
     "execution_count": 6,
     "metadata": {},
     "output_type": "execute_result"
    }
   ],
   "source": [
    "''"
   ]
  },
  {
   "cell_type": "markdown",
   "metadata": {},
   "source": [
    "### Conversión"
   ]
  },
  {
   "cell_type": "markdown",
   "metadata": {},
   "source": [
    ">Crear «strings» a partir de otros tipos de datos usando la función **str()**."
   ]
  },
  {
   "cell_type": "code",
   "execution_count": 7,
   "metadata": {},
   "outputs": [
    {
     "name": "stdout",
     "output_type": "stream",
     "text": [
      "True es del tipo: <class 'str'>\n",
      "10 es del tipo: <class 'str'>\n",
      "21.7 es del tipo: <class 'str'>\n"
     ]
    }
   ],
   "source": [
    "print(f'{str(True)} es del tipo: {type(str(True))}')\n",
    "print(f'{str(10)} es del tipo: {type(str(10))}')\n",
    "print(f'{str(21.7)} es del tipo: {type(str(21.7))}')"
   ]
  },
  {
   "cell_type": "markdown",
   "metadata": {},
   "source": [
    "### Secuencias de escape"
   ]
  },
  {
   "cell_type": "markdown",
   "metadata": {},
   "source": [
    ">Python permite **escapar** el significado de algunos caracteres para conseguir otros resultados.\n",
    "\n",
    "**\" \\ \"** | *barra invertida* antes del caracter en cuestión.\n",
    ":-:|:-:\n",
    "**\\n**|que representa un *salto de línea*\n",
    "**\\t**|representa *Tabulador*"
   ]
  },
  {
   "cell_type": "code",
   "execution_count": 8,
   "metadata": {},
   "outputs": [
    {
     "name": "stdout",
     "output_type": "stream",
     "text": [
      "Primera línea\n",
      "Segunda línea\n",
      "Tercera línea\n",
      "Valor=\t40\n",
      "Necesitamos 'escapar' la comilla simple\n",
      "Capítulo \\ Sección \\ Encabezado\n"
     ]
    }
   ],
   "source": [
    "print(f'Primera línea\\nSegunda línea\\nTercera línea')   #Salto de línea\n",
    "\n",
    "print(f'Valor=\\t40')  #Tabulador\n",
    "\n",
    "print(f'Necesitamos \\'escapar\\' la comilla simple') #Comilla simple\n",
    "\n",
    "print(f'Capítulo \\\\ Sección \\\\ Encabezado') # Barra invertida"
   ]
  },
  {
   "cell_type": "markdown",
   "metadata": {},
   "source": [
    "#### Expresiones literales"
   ]
  },
  {
   "cell_type": "markdown",
   "metadata": {},
   "source": [
    ">Existe un modificar de cadena para tratar el texto *en bruto*.\n",
    "\n",
    "**\\r**|**«raw data»** se aplica anteponiendo una **r** a la cadena de texto.\n",
    ":-:|:-:"
   ]
  },
  {
   "cell_type": "code",
   "execution_count": 9,
   "metadata": {},
   "outputs": [
    {
     "name": "stdout",
     "output_type": "stream",
     "text": [
      "abc\n",
      "def no es lo mismo que: abc\\ndef\n",
      "a\tb\tc no es lo mismo que: a\\tb\\tc\n"
     ]
    }
   ],
   "source": [
    "print(f'abc\\ndef no es lo mismo que:', r'abc\\ndef')\n",
    "\n",
    "print(f'a\\tb\\tc no es lo mismo que:', r'a\\tb\\tc')"
   ]
  },
  {
   "cell_type": "markdown",
   "metadata": {},
   "source": [
    "### Más sobre print()"
   ]
  },
  {
   "cell_type": "markdown",
   "metadata": {},
   "source": [
    "> La función admite algunos parámetros interesantes."
   ]
  },
  {
   "cell_type": "code",
   "execution_count": 10,
   "metadata": {},
   "outputs": [
    {
     "name": "stdout",
     "output_type": "stream",
     "text": [
      "¿Sabes porque estoy acá? Porque me apasiona\n",
      "¿Sabes porque estoy acá?|Porque me apasiona\n",
      "Porque me apasiona...\n",
      "¿Sabes porque estoy acá?_Porque me apasiona!!!"
     ]
    }
   ],
   "source": [
    "print(f'¿Sabes porque estoy acá?', f'Porque me apasiona') #Imprimimos 2 mensajes.\n",
    "\n",
    "print(f'¿Sabes porque estoy acá?', f'Porque me apasiona', sep='|') #Los separamos por '|'\n",
    "\n",
    "print(f'Porque me apasiona', end='...\\n')  #Agrego '...' al final de texto y salto de linea\n",
    "\n",
    "print(f'¿Sabes porque estoy acá?', f'Porque me apasiona', sep='_', end='!!!')"
   ]
  },
  {
   "cell_type": "markdown",
   "metadata": {},
   "source": [
    "### Leer datos desde teclado"
   ]
  },
  {
   "cell_type": "markdown",
   "metadata": {},
   "source": [
    "Función|¿Que hace?\n",
    ":-:|:-:\n",
    " **input()**|Solicita la entrada de datos por teclado y nos devuelve un objeto tipo **str**.\n",
    "\n",
    "* Para trabajar con números debemos realizar una conversión explícita."
   ]
  },
  {
   "cell_type": "code",
   "execution_count": 11,
   "metadata": {},
   "outputs": [
    {
     "name": "stdout",
     "output_type": "stream",
     "text": [
      "El nombre introducido es: Micaela y su tipo es <class 'str'>\n",
      "La edad introducida es: 26 y su tipo es <class 'int'>\n"
     ]
    }
   ],
   "source": [
    "name = input('Introduzca su nombre: ') #Introduzco el nombre\n",
    "\n",
    "age = int(input('Introduzca su edad: ')) #Introduzco la edad y la transformo en entero con la función int()\n",
    "\n",
    "print(f'El nombre introducido es: {name} y su tipo es {type(name)}')\n",
    "print(f'La edad introducida es: {age} y su tipo es {type(age)}')"
   ]
  },
  {
   "cell_type": "markdown",
   "metadata": {},
   "source": [
    "### Operaciones con \"strings\""
   ]
  },
  {
   "cell_type": "markdown",
   "metadata": {},
   "source": [
    "#### Combinar cadenas"
   ]
  },
  {
   "cell_type": "markdown",
   "metadata": {},
   "source": [
    "> Combinar dos o más cadenas de texto utilizando **'+'**"
   ]
  },
  {
   "cell_type": "code",
   "execution_count": 12,
   "metadata": {},
   "outputs": [
    {
     "name": "stdout",
     "output_type": "stream",
     "text": [
      "Ejemplo 1: Cuando el río suenaagua lleva\n",
      "Ejemplo 2: Cuando el río suena,agua lleva\n",
      "Ejemplo 3: Cuando el río suena, agua lleva\n"
     ]
    }
   ],
   "source": [
    "proverb1 = 'Cuando el río suena'\n",
    "proverb2 = 'agua lleva'\n",
    "\n",
    "print(f'Ejemplo 1: {proverb1 + proverb2}')\n",
    "print(f'Ejemplo 2: {proverb1 + \",\" + proverb2}')\n",
    "print(f'Ejemplo 3: {proverb1 + \", \" + proverb2}')"
   ]
  },
  {
   "cell_type": "markdown",
   "metadata": {},
   "source": [
    "#### Repetir cadenas"
   ]
  },
  {
   "cell_type": "markdown",
   "metadata": {},
   "source": [
    "> Repetir dos o más cadenas de texto utilizano *\" * \"*"
   ]
  },
  {
   "cell_type": "code",
   "execution_count": 13,
   "metadata": {},
   "outputs": [
    {
     "name": "stdout",
     "output_type": "stream",
     "text": [
      "WowWowWowWow\n"
     ]
    }
   ],
   "source": [
    "reaction = 'Wow'\n",
    "\n",
    "print(f'{reaction * 4}')"
   ]
  },
  {
   "cell_type": "markdown",
   "metadata": {},
   "source": [
    "#### Obtener un caracter"
   ]
  },
  {
   "cell_type": "markdown",
   "metadata": {},
   "source": [
    ">Los **'strings'** están *indexados (index significa índice)*, es decir que cada caracter tiene su propia posición. Para obtener un caracter determinado, es necesario especificar su índice dentro de corchetes ej. [0].\n",
    "\n",
    "![alt text](Imágenes/String_Hola_Mundo.png)\n",
    "\n",
    "* *Si su indice no existe, obtendremos un error.*\n",
    "* Existen índices **positivos** y **negativos** para acceder a cada caracter de la cadena de texto.\n",
    "* El indexado siempre empieza en 0 y termina en una unidad menos de la longitud de la cadena.\n",
    "* No podemos modificar un caracter directamente (objeto **Inmutable**)"
   ]
  },
  {
   "cell_type": "code",
   "execution_count": 14,
   "metadata": {},
   "outputs": [
    {
     "name": "stdout",
     "output_type": "stream",
     "text": [
      "En el indice 0 del string \"Hola, Mundo\" se encuentra el caracter: H\n",
      "En el indice -1 del string \"Hola, Mundo\" se encuentra el caracter: o\n",
      "En el indice 8 de la string \"Hola, Mundo\" se encuentra el caracter: n\n",
      "En el indice -5 de la string \"Hola, Mundo\" se encuentra el caracter: M\n"
     ]
    }
   ],
   "source": [
    "sentence = 'Hola, Mundo'\n",
    "\n",
    "print(f'En el indice 0 del string \"{sentence}\" se encuentra el caracter: {sentence[0]}')\n",
    "print(f'En el indice -1 del string \"{sentence}\" se encuentra el caracter: {sentence[-1]}')\n",
    "print(f'En el indice 8 de la string \"{sentence}\" se encuentra el caracter: {sentence[8]}')\n",
    "print(f'En el indice -5 de la string \"{sentence}\" se encuentra el caracter: {sentence[-5]}')"
   ]
  },
  {
   "cell_type": "code",
   "execution_count": 15,
   "metadata": {},
   "outputs": [],
   "source": [
    "#sentence[5] = 'M' #No se puede modificar directamente, por eso nos da error"
   ]
  },
  {
   "cell_type": "markdown",
   "metadata": {},
   "source": [
    "#### Trocear una cadena"
   ]
  },
  {
   "cell_type": "markdown",
   "metadata": {},
   "source": [
    ">Es posible extraer **\"trozos\"** de una cadena de texto. (**\"slice\"** en Inglés)\n",
    "* Recordar que el troceado siempre llega a una unidad menos del índice final"
   ]
  },
  {
   "cell_type": "code",
   "execution_count": 16,
   "metadata": {},
   "outputs": [
    {
     "name": "stdout",
     "output_type": "stream",
     "text": [
      "Agua pasada no mueve molino\n",
      "Extrae desde el índice 12: no mueve molino\n",
      "Extrae hasta el índice 11-1: Agua pasada\n",
      "Extrae desde el índice 5 hasta el 11-1: pasada\n",
      "Extrae desde el índice 1 hasta el 11-1 haciendo saltos de a 2: gapsd\n"
     ]
    }
   ],
   "source": [
    "proverb3 = 'Agua pasada no mueve molino'\n",
    "\n",
    "print(f'{proverb3[:]}') #Extrae desde el comienzo hasta el final\n",
    "\n",
    "print(f'Extrae desde el índice 12: {proverb3[12:]}')\n",
    "\n",
    "print(f'Extrae hasta el índice 11-1: {proverb3[:11]}')\n",
    "\n",
    "print(f'Extrae desde el índice 5 hasta el 11-1: {proverb3[5:11]}')\n",
    "\n",
    "print(f'Extrae desde el índice 1 hasta el 11-1 haciendo saltos de a 2: {proverb3[1:11:2]}')"
   ]
  },
  {
   "cell_type": "markdown",
   "metadata": {},
   "source": [
    "#### Longitud de una cadena"
   ]
  },
  {
   "cell_type": "markdown",
   "metadata": {},
   "source": [
    ">Con la función **len()** obtenemos la longitud de la cadena. Se utiliza con prácticamente todos los ***tipos*** y ***estructuras*** de datos"
   ]
  },
  {
   "cell_type": "code",
   "execution_count": 17,
   "metadata": {},
   "outputs": [
    {
     "name": "stdout",
     "output_type": "stream",
     "text": [
      "La longitud de proverb4 = 'Lo cortés no quita lo valiente' es igual a: 30\n",
      "La longitud de empty = '' es igual a: 0\n"
     ]
    }
   ],
   "source": [
    "proverb4 = 'Lo cortés no quita lo valiente'\n",
    "empty = ''\n",
    "\n",
    "print(f'La longitud de {proverb4 = } es igual a: {len(proverb4)}')\n",
    "print(f'La longitud de {empty = } es igual a: {len(empty)}')"
   ]
  },
  {
   "cell_type": "markdown",
   "metadata": {},
   "source": [
    "#### Pertenencia de un elemento"
   ]
  },
  {
   "cell_type": "markdown",
   "metadata": {},
   "source": [
    "**in**|**not( _ in _ )** o **not in**\n",
    ":-:|:-:\n",
    "Comprueba que una determinada subcadena se encuentra en una cadena de texto|Comprueba que una determinada subcadena no está en una cadena de texto\n",
    "Resultado un valor *«booleano»*: *True* o *False* |Resultado un valor *«booleano»*: *True* o *False* "
   ]
  },
  {
   "cell_type": "code",
   "execution_count": 18,
   "metadata": {},
   "outputs": [
    {
     "name": "stdout",
     "output_type": "stream",
     "text": [
      "\"malo\" está en \"Más vale malo conocido que bueno por conocer\": True\n",
      "\"regular\" está en \"Más vale malo conocido que bueno por conocer\": False\n"
     ]
    }
   ],
   "source": [
    "proverb5 = 'Más vale malo conocido que bueno por conocer'\n",
    "\n",
    "print(f'\"malo\" está en \"{proverb5}\": {\"malo\" in proverb5}')\n",
    "print(f'\"regular\" está en \"{proverb5}\": {\"regular\" in proverb5}')\n"
   ]
  },
  {
   "cell_type": "code",
   "execution_count": 19,
   "metadata": {},
   "outputs": [
    {
     "name": "stdout",
     "output_type": "stream",
     "text": [
      "\"C\" no está en la cadena \"ATGAAATTGAAATGGGA\". True\n",
      "\"C\" no está en la cadena \"ATGAAATTGAAATGGGA\". True\n"
     ]
    }
   ],
   "source": [
    "dna_sequence = 'ATGAAATTGAAATGGGA'\n",
    "\n",
    "#Primera aproximación\n",
    "print(f'\"C\" no está en la cadena \"{dna_sequence}\". {not(\"C\" in dna_sequence)}')\n",
    "\n",
    "#Forma pitónica\n",
    "print(f'\"C\" no está en la cadena \"{dna_sequence}\". {\"C\" not in dna_sequence}')"
   ]
  },
  {
   "cell_type": "markdown",
   "metadata": {},
   "source": [
    "#### Dividir una cadena"
   ]
  },
  {
   "cell_type": "markdown",
   "metadata": {},
   "source": [
    "**split()**|**partition()**\n",
    ":-:|:-:\n",
    "Se coloca al final de *\"string\"* y devuelve una *lista*.|Toma un argumento como separador, y divide la cadena de texto en 3 partes.\n",
    "Si no se especifica un *separador*, usa por defecto cualquier secuencia de espacios en blanco, tabuladores y saltos de línea.|'lo que está a la izq del separador', 'el separador', 'lo que está a la derecha del separador'."
   ]
  },
  {
   "cell_type": "code",
   "execution_count": 20,
   "metadata": {},
   "outputs": [
    {
     "name": "stdout",
     "output_type": "stream",
     "text": [
      "La cadena \"No hay mal que por bien no venga\", si la divido queda:\n",
      "['No', 'hay', 'mal', 'que', 'por', 'bien', 'no', 'venga'] y su tipo es <class 'list'>\n",
      "\n",
      "La cadena \"Martillo,Sierra,Destornillador\", si la divido por \",\" queda:\n",
      "['Martillo', 'Sierra', 'Destornillador']\n",
      "\n",
      "La cadena \"piedra-papel-tijera\", si la divido por \"-\" queda:\n",
      "['piedra', 'papel', 'tijera']\n",
      "\n",
      "La cadena \"3+4+5\", si la particiono en tres queda:\n",
      "('3', '+', '4+5')\n"
     ]
    }
   ],
   "source": [
    "#Cadenas/Strings\n",
    "proverb6 = 'No hay mal que por bien no venga'\n",
    "tools = 'Martillo,Sierra,Destornillador'\n",
    "game = 'piedra-papel-tijera'\n",
    "text = '3+4+5'\n",
    "\n",
    "print(f'La cadena \"{proverb6}\", si la divido queda:\\n{proverb6.split()} y su tipo es {type(proverb6.split())}')\n",
    "\n",
    "#En este ejemplo la función busca la ',' en la cadena y la divide.\n",
    "print(f'\\nLa cadena \"{tools}\", si la divido por \",\" queda:\\n{tools.split(\",\")}')\n",
    "\n",
    "#En este ejemplo la función busca la '-' en la cadena y la divide.\n",
    "print(f'\\nLa cadena \"{game}\", si la divido por \"-\" queda:\\n{game.split(\"-\")}')\n",
    "\n",
    "#En este ejemplo la función busca el primer '+' y lo divide en exactamente 3 partes.\n",
    "print(f'\\nLa cadena \"{text}\", si la particiono en tres queda:\\n{text.partition(\"+\")}')"
   ]
  },
  {
   "cell_type": "markdown",
   "metadata": {},
   "source": [
    "#### Limpiar cadenas"
   ]
  },
  {
   "cell_type": "markdown",
   "metadata": {},
   "source": [
    ">Es bastante probable que se incluyan en esas cadenas de texto, *caracteres de relleno* al comienzo y al final.\n",
    "\n",
    "Función|Lo que hace\n",
    ":-:|:-:\n",
    "**strip()**|Elimina caracteres del principio y del final. Si no se especifican, por defecto elimina cualquier combinación de *espacios en blanco*, **\\n** y **\\t**. Devuelve una nueva cadena de texto con las modificaciones pertinentes.\n",
    "**lstrip()**|*«limpieza»* por la izquierda (comienzo)\n",
    "**rstrip()**|*«limpieza»* por la derecha (final)"
   ]
  },
  {
   "cell_type": "code",
   "execution_count": 21,
   "metadata": {},
   "outputs": [
    {
     "name": "stdout",
     "output_type": "stream",
     "text": [
      "serial_number = '\\n\\t \\n 48374983274832 \\n\\n\\t \\t \\n'. Si utilizamos la función queda: 48374983274832\n"
     ]
    }
   ],
   "source": [
    "serial_number = '\\n\\t \\n 48374983274832 \\n\\n\\t \\t \\n'\n",
    "\n",
    "print(f'{serial_number = }. Si utilizamos la función queda: {serial_number.strip()}')"
   ]
  },
  {
   "cell_type": "code",
   "execution_count": 22,
   "metadata": {},
   "outputs": [
    {
     "data": {
      "text/plain": [
       "'48374983274832 \\n\\n\\t \\t \\n'"
      ]
     },
     "execution_count": 22,
     "metadata": {},
     "output_type": "execute_result"
    }
   ],
   "source": [
    "serial_number.lstrip()  #Limpieza por izquierda"
   ]
  },
  {
   "cell_type": "code",
   "execution_count": 23,
   "metadata": {},
   "outputs": [
    {
     "data": {
      "text/plain": [
       "'\\n\\t \\n 48374983274832'"
      ]
     },
     "execution_count": 23,
     "metadata": {},
     "output_type": "execute_result"
    }
   ],
   "source": [
    "serial_number.rstrip()   #Limpieza por derecha"
   ]
  },
  {
   "cell_type": "code",
   "execution_count": 24,
   "metadata": {},
   "outputs": [
    {
     "data": {
      "text/plain": [
       "'\\t \\n 48374983274832 \\n\\n\\t \\t'"
      ]
     },
     "execution_count": 24,
     "metadata": {},
     "output_type": "execute_result"
    }
   ],
   "source": [
    "serial_number.strip(\" \\n \") #Solo elimina el primer y último caracter que se especifíca(No todos)."
   ]
  },
  {
   "cell_type": "code",
   "execution_count": 25,
   "metadata": {},
   "outputs": [
    {
     "name": "stdout",
     "output_type": "stream",
     "text": [
      "Of all fruits      banana      is my favorite\n",
      "Of all fruits banana is my favorite\n"
     ]
    }
   ],
   "source": [
    "txt = \"     banana     \"\n",
    "\n",
    "print(f\"Of all fruits {txt} is my favorite\")    #Sin eliminar nada\n",
    "\n",
    "print(f\"Of all fruits {txt.strip()} is my favorite\") #Eliminando caracteres"
   ]
  },
  {
   "cell_type": "code",
   "execution_count": 26,
   "metadata": {},
   "outputs": [
    {
     "name": "stdout",
     "output_type": "stream",
     "text": [
      "banana\n"
     ]
    }
   ],
   "source": [
    "txt1 = \",,,,,rrttgg.....banana....rrr\"\n",
    "\n",
    "print(f'{txt1.strip(\",.tgr\")}')"
   ]
  },
  {
   "cell_type": "markdown",
   "metadata": {},
   "source": [
    "#### Realizar búsquedas"
   ]
  },
  {
   "cell_type": "markdown",
   "metadata": {},
   "source": [
    "> Python nos ofrece distintas alternativas para realizar búsquedas en cadenas de texto.\n",
    "\n",
    "Función|Lo que hace\n",
    ":-:|:-:\n",
    "**startswith()**|Comprobar si **empieza** por alguna subcadena\n",
    "**endswith()**|Comprobar si **termina** por alguna subcadena"
   ]
  },
  {
   "cell_type": "code",
   "execution_count": 27,
   "metadata": {},
   "outputs": [
    {
     "name": "stdout",
     "output_type": "stream",
     "text": [
      "Quizás porque mi niñez \n",
      "Sigue jugando en tu playa\n",
      "Y escondido tras las cañas\n",
      "Duerme mi primer amor\n",
      "Llevo tu luz y tu olor\n",
      "Por dondequiera que vaya\n",
      "\n",
      "La canción comienza con \"Quizás\": True\n",
      "\n",
      "La canción termina con \"Final\": False\n"
     ]
    }
   ],
   "source": [
    "#Lyrics en Inglés también puede significar canción.\n",
    "lyrics = '''Quizás porque mi niñez \n",
    "Sigue jugando en tu playa\n",
    "Y escondido tras las cañas\n",
    "Duerme mi primer amor\n",
    "Llevo tu luz y tu olor\n",
    "Por dondequiera que vaya'''\n",
    "\n",
    "print(f'{lyrics}')\n",
    "\n",
    "print(f'\\nLa canción comienza con \"Quizás\": {lyrics.startswith(\"Quizás\")}')\n",
    "\n",
    "print(f'\\nLa canción termina con \"Final\": {lyrics.endswith(\"Final\")}')"
   ]
  },
  {
   "cell_type": "markdown",
   "metadata": {},
   "source": [
    "> Encontrar la **primera ocurrencia** de alguna subcadena.\n",
    "\n",
    "Función|Lo que hace\n",
    ":-:|:-:\n",
    "**find()** |devuelve el **índice** de la primera ocurrencia estemos buscando. Si no está devuelve -1.\n",
    "**index()**|devuelve el **índice** de la primera ocurrencia que estemos buscando. Si no está devuelve error."
   ]
  },
  {
   "cell_type": "code",
   "execution_count": 28,
   "metadata": {},
   "outputs": [
    {
     "name": "stdout",
     "output_type": "stream",
     "text": [
      "La palabra \"amor\" se encuentra en el indice: 94\n",
      "\n",
      "La palabra \"amor\" se encuentra en el indice: 94\n",
      "\n",
      "La palabra \"universo\" se encuentra en el indice: -1\n"
     ]
    }
   ],
   "source": [
    "print(f'La palabra \"amor\" se encuentra en el indice: {lyrics.find(\"amor\")}') #Función find()\n",
    "\n",
    "print(f'\\nLa palabra \"amor\" se encuentra en el indice: {lyrics.index(\"amor\")}') #Función index()\n",
    "\n",
    "#find() devuelve -1 porque no se encuentra la palabra\n",
    "print(f'\\nLa palabra \"universo\" se encuentra en el indice: {lyrics.find(\"universo\")}')\n",
    "\n",
    "#index() da error porque no se encuentra\n",
    "#print(f'\\nLa palabra \"universo\" se encuentra en el indice: {lyrics.index(\"universo\")}') "
   ]
  },
  {
   "cell_type": "markdown",
   "metadata": {},
   "source": [
    "Función|Lo que hace\n",
    ":-:|:-:\n",
    "**count()** |Contabiliza el número de veces que aparece una subcadena."
   ]
  },
  {
   "cell_type": "code",
   "execution_count": 29,
   "metadata": {},
   "outputs": [
    {
     "name": "stdout",
     "output_type": "stream",
     "text": [
      "¿Cuántos \"mi\" hay en la canción? 2\n",
      "¿Cuántos \"tu\" hay en la canción? 3\n",
      "¿Cuántos \"él\" hay en la canción? 0\n"
     ]
    }
   ],
   "source": [
    "print(f'¿Cuántos \"mi\" hay en la canción? {lyrics.count(\"mi\")}')\n",
    "print(f'¿Cuántos \"tu\" hay en la canción? {lyrics.count(\"tu\")}')\n",
    "print(f'¿Cuántos \"él\" hay en la canción? {lyrics.count(\"él\")}')"
   ]
  },
  {
   "cell_type": "markdown",
   "metadata": {},
   "source": [
    "#### Reemplazar elementos"
   ]
  },
  {
   "cell_type": "markdown",
   "metadata": {},
   "source": [
    "Función|Lo que hace\n",
    ":-:|:-:\n",
    "**replace()**|Remplaza elementos\n",
    "\n",
    "* indicando la *subcadena* a ***reemplazar***, la *subcadena* de ***reemplazo*** y ***cuántas instancias*** se deben reemplazar."
   ]
  },
  {
   "cell_type": "code",
   "execution_count": 30,
   "metadata": {},
   "outputs": [
    {
     "name": "stdout",
     "output_type": "stream",
     "text": [
      "La frase es \"Quien mal anda mal acaba\"\n",
      "Remplazo la palabra \"mal\" con la palabra \"bien\": \"Quien bien anda bien acaba\"\n",
      "Remplazo la palabra \"mal\" con la palabra \"bien\" solo una vez: \"Quien bien anda mal acaba\"\n"
     ]
    }
   ],
   "source": [
    "proverb7 = 'Quien mal anda mal acaba'\n",
    "\n",
    "print(f'La frase es \"{proverb7}\"')\n",
    "print(f'Remplazo la palabra \"mal\" con la palabra \"bien\": \"{proverb7.replace(\"mal\",\"bien\")}\"')\n",
    "print(f'Remplazo la palabra \"mal\" con la palabra \"bien\" solo una vez: \"{proverb7.replace(\"mal\",\"bien\", 1)}\"')"
   ]
  },
  {
   "cell_type": "markdown",
   "metadata": {},
   "source": [
    "#### Mayúsculas y minúsculas"
   ]
  },
  {
   "cell_type": "markdown",
   "metadata": {},
   "source": [
    ">Realizar variaciones en los caracteres de una cadena de texto para pasarlos a mayúsculas y/o minúsculas.\n",
    "\n",
    "Función|Lo que hace\n",
    ":-:|:-:\n",
    "**capitalize()**|Mayúscula solo a la primera letra.\n",
    "**title()**|Mayúscula En La Primera Letra De Cada Palabra\n",
    "**upper()**|TODAS MAYÚSCULAS.\n",
    "**lower()**|todas minúsculas.\n",
    "**swapcase()**|iNVERTIDO."
   ]
  },
  {
   "cell_type": "code",
   "execution_count": 31,
   "metadata": {},
   "outputs": [
    {
     "name": "stdout",
     "output_type": "stream",
     "text": [
      "La frase es \"quien a buen árbol se arrima Buena Sombra le cobija\"\n",
      "\n",
      "Usando \"capitalize()\" queda: \"Quien a buen árbol se arrima buena sombra le cobija\n",
      "\n",
      "Usando \"title()\" queda: \"Quien A Buen Árbol Se Arrima Buena Sombra Le Cobija\n",
      "\n",
      "Usando \"upper()\" queda: \"QUIEN A BUEN ÁRBOL SE ARRIMA BUENA SOMBRA LE COBIJA\n",
      "\n",
      "Usando \"lower()\" queda: \"quien a buen árbol se arrima buena sombra le cobija\n",
      "\n",
      "Usando \"swapcase()\" queda: \"QUIEN A BUEN ÁRBOL SE ARRIMA bUENA sOMBRA LE COBIJA\n"
     ]
    }
   ],
   "source": [
    "proverb8 = 'quien a buen árbol se arrima Buena Sombra le cobija'\n",
    "\n",
    "print(f'La frase es \"{proverb8}\"')\n",
    "\n",
    "print(f'\\nUsando \"capitalize()\" queda: \"{proverb8.capitalize()}') #Mayúscula solo la primera letra.\n",
    "\n",
    "print(f'\\nUsando \"title()\" queda: \"{proverb8.title()}') #Mayúscula en la primera letra de cada palabra.\n",
    "\n",
    "print(f'\\nUsando \"upper()\" queda: \"{proverb8.upper()}') #TODAS MAYÚSCULAS.\n",
    "\n",
    "print(f'\\nUsando \"lower()\" queda: \"{proverb8.lower()}') #todas minúsculas.\n",
    "\n",
    "print(f'\\nUsando \"swapcase()\" queda: \"{proverb8.swapcase()}') #Invertido\n"
   ]
  },
  {
   "cell_type": "markdown",
   "metadata": {},
   "source": [
    "#### Identificando caracteres"
   ]
  },
  {
   "cell_type": "markdown",
   "metadata": {},
   "source": [
    ">Hay veces que necesitamos identificar que tipos de caracteres contiene la información que recibimos.\n",
    "\n",
    "Función|Lo que hace\n",
    ":-:|:-:\n",
    "**isalnum()**|Detecta si todos los caracteres son letras o números.\n",
    "**isnumeric()**|Detecta si todos los caracteres son números.\n",
    "**isalpha()**|Detecta si todos los caracteres son letras.\n",
    "**isupper() / islower() / istitle()**|Detecta mayúsculas/minúsculas.\n"
   ]
  },
  {
   "cell_type": "code",
   "execution_count": 32,
   "metadata": {},
   "outputs": [
    {
     "name": "stdout",
     "output_type": "stream",
     "text": [
      "'R2D20' tiene solo letras y números: True\n",
      "'C3-PO' tiene solo letras y números: False\n"
     ]
    }
   ],
   "source": [
    "print(f'\\'R2D20\\' tiene solo letras y números: {\"R2D20\".isalnum()}')\n",
    "print(f'\\'C3-PO\\' tiene solo letras y números: {\"C3-PO\".isalnum()}')"
   ]
  },
  {
   "cell_type": "code",
   "execution_count": 33,
   "metadata": {},
   "outputs": [
    {
     "name": "stdout",
     "output_type": "stream",
     "text": [
      "'314' solo tiene números: True\n",
      "'3.14' solo tiene números: False\n"
     ]
    }
   ],
   "source": [
    "print(f'\\'314\\' solo tiene números: {\"314\".isnumeric()}')\n",
    "print(f'\\'3.14\\' solo tiene números: {\"3.14\".isnumeric()}')"
   ]
  },
  {
   "cell_type": "code",
   "execution_count": 34,
   "metadata": {},
   "outputs": [
    {
     "name": "stdout",
     "output_type": "stream",
     "text": [
      "'abc' solo tiene letras: True\n",
      "'a-b-c' solo tiene letras: False\n"
     ]
    }
   ],
   "source": [
    "print(f'\\'abc\\' solo tiene letras: {\"abc\".isalpha()}')\n",
    "print(f'\\'a-b-c\\' solo tiene letras: {\"a-b-c\".isalpha()}')"
   ]
  },
  {
   "cell_type": "code",
   "execution_count": 35,
   "metadata": {},
   "outputs": [
    {
     "name": "stdout",
     "output_type": "stream",
     "text": [
      "'BIG' es todo MAYÚSCULAS: True\n",
      "'Big' es todo MAYÚSCULAS: False\n"
     ]
    }
   ],
   "source": [
    "print(f'\\'BIG\\' es todo MAYÚSCULAS: {\"BIG\".isupper()}')\n",
    "print(f'\\'Big\\' es todo MAYÚSCULAS: {\"Big\".isupper()}')"
   ]
  },
  {
   "cell_type": "code",
   "execution_count": 36,
   "metadata": {},
   "outputs": [
    {
     "name": "stdout",
     "output_type": "stream",
     "text": [
      "'small' es todo minúscula: True\n",
      "'sMall' es todo minúscula: False\n"
     ]
    }
   ],
   "source": [
    "print(f'\\'small\\' es todo minúscula: {\"small\".islower()}')\n",
    "print(f'\\'sMall\\' es todo minúscula: {\"sMalL\".islower()}')"
   ]
  },
  {
   "cell_type": "code",
   "execution_count": 37,
   "metadata": {},
   "outputs": [
    {
     "name": "stdout",
     "output_type": "stream",
     "text": [
      "'Frist Heading' es un título: True\n",
      "'frist heading' es un título: False\n"
     ]
    }
   ],
   "source": [
    "print(f'\\'Frist Heading\\' es un título: {\"First Heading\".istitle()}')\n",
    "print(f'\\'frist heading\\' es un título: {\"first heading\".istitle()}')"
   ]
  },
  {
   "cell_type": "markdown",
   "metadata": {},
   "source": [
    "### Interpolación de cadenas"
   ]
  },
  {
   "cell_type": "markdown",
   "metadata": {},
   "source": [
    ">**Interpolar:** sustituir una variable por su valor dentro de una cadena de texto. **Interpolación** hace referencia al hecho de sustituir los nombres de variables por sus valores cuando se construye un *«string»*.\n",
    "\n",
    "|Nombre|Símbolo|Soportado|\n",
    "|------|:--:|:------:|\n",
    "|«f-strings»|f''|>= Python3.6|"
   ]
  },
  {
   "cell_type": "markdown",
   "metadata": {},
   "source": [
    "#### «f-strings»"
   ]
  },
  {
   "cell_type": "markdown",
   "metadata": {},
   "source": [
    "> Es la forma más potente – y en muchas ocasiones más eficiente – de formar cadenas de texto incluyendo valores de otras variables.\n",
    "\n",
    "* Para indicar que una cadena es un *«f-string»* basta con colocar una **f** al comienzo y entre **{}** colocar las varibles o expresiones.\n"
   ]
  },
  {
   "cell_type": "code",
   "execution_count": 38,
   "metadata": {},
   "outputs": [
    {
     "data": {
      "text/plain": [
       "'Me llamo Elon Musk, tengo 49 años y una fortuna de 43300 millones'"
      ]
     },
     "execution_count": 38,
     "metadata": {},
     "output_type": "execute_result"
    }
   ],
   "source": [
    "name = 'Elon Musk'\n",
    "age = 49\n",
    "fortune = 43_300\n",
    "\n",
    "f'Me llamo {name}, tengo {age} años y una fortuna de {fortune} millones'"
   ]
  },
  {
   "cell_type": "code",
   "execution_count": 39,
   "metadata": {},
   "outputs": [
    {
     "data": {
      "text/plain": [
       "'The variable is x = 10 '"
      ]
     },
     "execution_count": 39,
     "metadata": {},
     "output_type": "execute_result"
    }
   ],
   "source": [
    "x = 10\n",
    "\n",
    "f'The variable is {x = } '"
   ]
  },
  {
   "cell_type": "markdown",
   "metadata": {},
   "source": [
    "#### Formateando cadenas"
   ]
  },
  {
   "cell_type": "markdown",
   "metadata": {},
   "source": [
    ">Hay una gran variedad de **opciones de formateado**"
   ]
  },
  {
   "cell_type": "markdown",
   "metadata": {},
   "source": [
    "##### Dando formato a valores enteros"
   ]
  },
  {
   "cell_type": "code",
   "execution_count": 40,
   "metadata": {},
   "outputs": [
    {
     "name": "stdout",
     "output_type": "stream",
     "text": [
      "mount_height = 3718 con diez decimales:       3718\n",
      "mount_height = 3718 con diez decimales y relleno con 0: 0000003718\n"
     ]
    }
   ],
   "source": [
    "mount_height = 3718\n",
    "\n",
    "print(f'{mount_height = } con diez decimales: {mount_height:10d}')\n",
    "print(f'{mount_height = } con diez decimales y relleno con 0: {mount_height:010d}')"
   ]
  },
  {
   "cell_type": "markdown",
   "metadata": {},
   "source": [
    "##### Dando formato a otras bases"
   ]
  },
  {
   "cell_type": "code",
   "execution_count": 41,
   "metadata": {},
   "outputs": [
    {
     "name": "stdout",
     "output_type": "stream",
     "text": [
      "El valor de 147 en binario es: 10010011\n",
      "El valor de 20370 en octal es: 47622\n",
      "El valor de 700951 en hexadecimal es: ab217\n"
     ]
    }
   ],
   "source": [
    "value = 0b10010011  #Valor en binario\n",
    "value1 = 0o47622 #Valor en octal\n",
    "value2 = 0xab217 #Valor en Hexadecimal\n",
    "\n",
    "print(f'El valor de {value} en binario es: {value:b}') #Muestro el valor en decimal y en binario\n",
    "print(f'El valor de {value1} en octal es: {value1:o}') #Muestro el valor en decimal y en octal\n",
    "print(f'El valor de {value2} en hexadecimal es: {value2:x}') #Muestro el valor en decimal y en hexadecimal"
   ]
  },
  {
   "cell_type": "markdown",
   "metadata": {},
   "source": [
    "##### Dando formato a valores flotantes:"
   ]
  },
  {
   "cell_type": "code",
   "execution_count": 42,
   "metadata": {},
   "outputs": [
    {
     "name": "stdout",
     "output_type": "stream",
     "text": [
      "pi = 3.141592653589793 y por defecto se muestra 6 decimales: 3.141593\n",
      "pi = 3.141592653589793 y se muestran 3 decimales: 3.142\n",
      "pi = 3.141592653589793 y se muestra:               3.141593\n",
      "pi = 3.141592653589793 y se muestra:    3.14\n",
      "pi = 3.141592653589793 y se muestra: 00000000000000000003.14\n",
      "pi = 3.141592653589793 y se muestra: 3.14159265358979311599796346854418516159057617187500000000000000000000000000000000\n",
      "pi = 3.141592653589793 y se muestra: 3.141593e+00\n"
     ]
    }
   ],
   "source": [
    "import math\n",
    "\n",
    "pi = math.pi\n",
    "\n",
    "print(f'{pi = } y por defecto se muestra 6 decimales: {pi:f}') \n",
    "print(f'{pi = } y se muestran 3 decimales: {pi:.3f}')\n",
    "print(f'{pi = } y se muestra:{pi:23f}')  #Se rellena con espacios si procede\n",
    "print(f'{pi = } y se muestra: {pi:7.2f}')\n",
    "print(f'{pi = } y se muestra: {pi:023.2f}')\n",
    "print(f'{pi = } y se muestra: {pi:.80f}')   # Se rellenan con ceros si procede\n",
    "print(f'{pi = } y se muestra: {pi:e}')"
   ]
  },
  {
   "cell_type": "markdown",
   "metadata": {},
   "source": [
    "##### Alineando valores"
   ]
  },
  {
   "cell_type": "code",
   "execution_count": 43,
   "metadata": {},
   "outputs": [
    {
     "name": "stdout",
     "output_type": "stream",
     "text": [
      "|how    |    are    |    you|\n",
      "\n",
      "|how----|....are....|____you|\n"
     ]
    }
   ],
   "source": [
    "text1 = 'how'\n",
    "text2 = 'are'\n",
    "text3 = 'you'\n",
    "\n",
    "print(f'|{text1:<7s}|{text2:^11s}|{text3:>7s}|\\n')  #Por defecto \n",
    "print(f'|{text1:-<7s}|{text2:.^11s}|{text3:_>7s}|') #Indico los caracteres a rellenar"
   ]
  },
  {
   "cell_type": "markdown",
   "metadata": {},
   "source": [
    "#### Modo «debug»"
   ]
  },
  {
   "cell_type": "markdown",
   "metadata": {},
   "source": [
    "> *«f-strings»* permiten imprimir el nombre de la variable y su valor. Sólo tenemos que incluir un símbolo = después del nombre de la variable."
   ]
  },
  {
   "cell_type": "code",
   "execution_count": 44,
   "metadata": {},
   "outputs": [
    {
     "name": "stdout",
     "output_type": "stream",
     "text": [
      "El valor de la variable serie = 'The Simpsons'\n",
      "El valor de la variable imdb_rating = 8.7\n",
      "El valor de la variable num_seasons = 30\n",
      "El valor de la variable serie[4:] = 'Simpsons'\n",
      "El valor de la variable imdb_rating / num_seasons = 0.29\n"
     ]
    }
   ],
   "source": [
    "serie = 'The Simpsons'\n",
    "imdb_rating = 8.7\n",
    "num_seasons = 30\n",
    "\n",
    "print(f'El valor de la variable {serie = }')\n",
    "print(f'El valor de la variable {imdb_rating = }')\n",
    "print(f'El valor de la variable {num_seasons = }')\n",
    "print(f'El valor de la variable {serie[4:] = }') #Podemos añadir expresiones.\n",
    "print(f'El valor de la variable {imdb_rating / num_seasons = }')"
   ]
  },
  {
   "cell_type": "markdown",
   "metadata": {},
   "source": [
    "### Caracteres Unicode"
   ]
  },
  {
   "cell_type": "markdown",
   "metadata": {},
   "source": [
    "> Python trabaja por defecto con caracteres **Unicode**. Tenemos acceso a la amplia *carta de caracteres* que nos ofrece este estándar de codificación.\n",
    "\n",
    "Función|Lo que hace\n",
    ":-:|:-:\n",
    "**chr()**|Permite representar un carácter *a partir de su código*\n",
    "**ord()**|Permite obtener el código (decimal) de un carácter *a partir de su representación*\n",
    "**\\N**|Permite representar un carácter *a partir de su nombre*\n",
    "\n",
    "[Página de emojis](https://emojiterra.com)"
   ]
  },
  {
   "cell_type": "code",
   "execution_count": 45,
   "metadata": {},
   "outputs": [
    {
     "name": "stdout",
     "output_type": "stream",
     "text": [
      "El código 0x1f680 representa al carácter: 🚀\n",
      "Su decimal es 128640 y también se lo puede representar: 🚀\n"
     ]
    }
   ],
   "source": [
    "rocket_code = 0x1F680\n",
    "\n",
    "print(f'El código {hex(rocket_code)} representa al carácter: {chr(rocket_code)}')\n",
    "\n",
    "print(f'Su decimal es {ord(chr(rocket_code))} y también se lo puede representar: \\N{ROCKET}')"
   ]
  },
  {
   "cell_type": "markdown",
   "metadata": {},
   "source": [
    "### Casos de uso"
   ]
  },
  {
   "cell_type": "markdown",
   "metadata": {},
   "source": [
    ">Hemos usado muchas funciones de objetos pero no sabemos aún como podemos descubrir todo los que podemos hacer y los casos de uso.\n",
    "\n",
    "* **dir()** inspecciona un determinado tipo de objeto. Es aplicable tanto a variables como a literales e incluso a tipos de datos (clases)"
   ]
  },
  {
   "cell_type": "code",
   "execution_count": 46,
   "metadata": {},
   "outputs": [
    {
     "data": {
      "text/plain": [
       "['__add__',\n",
       " '__class__',\n",
       " '__contains__',\n",
       " '__delattr__',\n",
       " '__dir__',\n",
       " '__doc__',\n",
       " '__eq__',\n",
       " '__format__',\n",
       " '__ge__',\n",
       " '__getattribute__',\n",
       " '__getitem__',\n",
       " '__getnewargs__',\n",
       " '__getstate__',\n",
       " '__gt__',\n",
       " '__hash__',\n",
       " '__init__',\n",
       " '__init_subclass__',\n",
       " '__iter__',\n",
       " '__le__',\n",
       " '__len__',\n",
       " '__lt__',\n",
       " '__mod__',\n",
       " '__mul__',\n",
       " '__ne__',\n",
       " '__new__',\n",
       " '__reduce__',\n",
       " '__reduce_ex__',\n",
       " '__repr__',\n",
       " '__rmod__',\n",
       " '__rmul__',\n",
       " '__setattr__',\n",
       " '__sizeof__',\n",
       " '__str__',\n",
       " '__subclasshook__',\n",
       " 'capitalize',\n",
       " 'casefold',\n",
       " 'center',\n",
       " 'count',\n",
       " 'encode',\n",
       " 'endswith',\n",
       " 'expandtabs',\n",
       " 'find',\n",
       " 'format',\n",
       " 'format_map',\n",
       " 'index',\n",
       " 'isalnum',\n",
       " 'isalpha',\n",
       " 'isascii',\n",
       " 'isdecimal',\n",
       " 'isdigit',\n",
       " 'isidentifier',\n",
       " 'islower',\n",
       " 'isnumeric',\n",
       " 'isprintable',\n",
       " 'isspace',\n",
       " 'istitle',\n",
       " 'isupper',\n",
       " 'join',\n",
       " 'ljust',\n",
       " 'lower',\n",
       " 'lstrip',\n",
       " 'maketrans',\n",
       " 'partition',\n",
       " 'removeprefix',\n",
       " 'removesuffix',\n",
       " 'replace',\n",
       " 'rfind',\n",
       " 'rindex',\n",
       " 'rjust',\n",
       " 'rpartition',\n",
       " 'rsplit',\n",
       " 'rstrip',\n",
       " 'split',\n",
       " 'splitlines',\n",
       " 'startswith',\n",
       " 'strip',\n",
       " 'swapcase',\n",
       " 'title',\n",
       " 'translate',\n",
       " 'upper',\n",
       " 'zfill']"
      ]
     },
     "execution_count": 46,
     "metadata": {},
     "output_type": "execute_result"
    }
   ],
   "source": [
    "text4 = 'This is it!'\n",
    "\n",
    "dir(text4)"
   ]
  }
 ],
 "metadata": {
  "kernelspec": {
   "display_name": "Python 3",
   "language": "python",
   "name": "python3"
  },
  "language_info": {
   "codemirror_mode": {
    "name": "ipython",
    "version": 3
   },
   "file_extension": ".py",
   "mimetype": "text/x-python",
   "name": "python",
   "nbconvert_exporter": "python",
   "pygments_lexer": "ipython3",
   "version": "3.12.4"
  },
  "orig_nbformat": 4
 },
 "nbformat": 4,
 "nbformat_minor": 2
}
