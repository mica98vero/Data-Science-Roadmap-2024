{
 "cells": [
  {
   "cell_type": "markdown",
   "metadata": {},
   "source": [
    "# Estructuras de datos"
   ]
  },
  {
   "cell_type": "markdown",
   "metadata": {},
   "source": [
    "> Tipos de datos más complejos en Python que se consituyen en **estructuras de datos**. Si pensamos en estos elementos como átomos, las estructuras de datos que vamos a ver sería moléculas. Es decir, combinamos los tipos básicos de formas más complejas. Trataremos distintas estructuras de datos como *listas, tuplas, diccionarios y conjuntos*."
   ]
  },
  {
   "cell_type": "markdown",
   "metadata": {},
   "source": [
    "## Listas"
   ]
  },
  {
   "cell_type": "markdown",
   "metadata": {},
   "source": [
    "> Permiten **almacenar objetos** mediante un orden definido y con posibilidad de duplicados. Son **estructuras de datos mutables**, podemos añadir, eliminar o modificar sus elementos."
   ]
  },
  {
   "cell_type": "markdown",
   "metadata": {},
   "source": [
    "### Creando listas"
   ]
  },
  {
   "cell_type": "markdown",
   "metadata": {},
   "source": [
    "> Una lista está compuesta por cero o más elementos. En Python debemos escribir estos elementos por separados por comas y dentro de corchetes.\n",
    "\n",
    "*   Puede contener tipo de datos heterogéneos, lo que la hace muy versátil."
   ]
  },
  {
   "cell_type": "code",
   "execution_count": 51,
   "metadata": {},
   "outputs": [
    {
     "name": "stdout",
     "output_type": "stream",
     "text": [
      "empty_list = [] tiene 0 elementos\n",
      "lenguages = ['Python', 'Ruby', 'Javascript'] tiene 3 elementos\n",
      "fibonacci = [0, 1, 1, 2, 3, 5, 8, 13] tiene 8 elementos\n",
      "data = ['Tenerife', {'cielo': 'limpio', 'temp': 24}, 3718, (28.2933947, -16.5226597)] tiene 4 elementos\n"
     ]
    }
   ],
   "source": [
    "empty_list = []\n",
    "\n",
    "lenguages = ['Python', 'Ruby', 'Javascript']\n",
    "\n",
    "fibonacci = [0, 1, 1, 2, 3, 5, 8, 13]\n",
    "\n",
    "data = ['Tenerife', {'cielo': 'limpio', 'temp': 24}, 3718, (28.2933947, -16.5226597)]\n",
    "\n",
    "print(f'{empty_list = } tiene {len(empty_list)} elementos')\n",
    "print(f'{lenguages = } tiene {len(lenguages)} elementos')\n",
    "print(f'{fibonacci = } tiene {len(fibonacci)} elementos')\n",
    "print(f'{data = } tiene {len(data)} elementos')"
   ]
  },
  {
   "cell_type": "markdown",
   "metadata": {},
   "source": [
    "### Conversión"
   ]
  },
  {
   "cell_type": "markdown",
   "metadata": {},
   "source": [
    "Función|Lo que hace\n",
    ":-:|:-:\n",
    "**list()**|Convierte otros tipos de datos en una lista"
   ]
  },
  {
   "cell_type": "code",
   "execution_count": 52,
   "metadata": {},
   "outputs": [
    {
     "data": {
      "text/plain": [
       "['P', 'y', 't', 'h', 'o', 'n']"
      ]
     },
     "execution_count": 52,
     "metadata": {},
     "output_type": "execute_result"
    }
   ],
   "source": [
    "list('Python') #Se crea una lista con 6 elementos"
   ]
  },
  {
   "cell_type": "markdown",
   "metadata": {},
   "source": [
    "* Podemos entender este comportamiento a cualquier otro tipo de datos que permita ser iterado (*iterables*)."
   ]
  },
  {
   "cell_type": "markdown",
   "metadata": {},
   "source": [
    "#### Lista vacía"
   ]
  },
  {
   "cell_type": "markdown",
   "metadata": {},
   "source": [
    "> Podemos convertir el \"vacío\" en una lista y obtendremos una ***lista vacía***"
   ]
  },
  {
   "cell_type": "code",
   "execution_count": 53,
   "metadata": {},
   "outputs": [
    {
     "data": {
      "text/plain": [
       "[]"
      ]
     },
     "execution_count": 53,
     "metadata": {},
     "output_type": "execute_result"
    }
   ],
   "source": [
    "list()"
   ]
  },
  {
   "cell_type": "markdown",
   "metadata": {},
   "source": [
    "* Se suele recomendar el uso de **[]** frente a *list()* por tener (en promedio) un mejor rendimiento en tiempos de ejecución"
   ]
  },
  {
   "cell_type": "markdown",
   "metadata": {},
   "source": [
    "### Operaciones con listas"
   ]
  },
  {
   "cell_type": "markdown",
   "metadata": {},
   "source": [
    "#### Obtener un elemento"
   ]
  },
  {
   "cell_type": "markdown",
   "metadata": {},
   "source": [
    "> Podemos obtener un elemento de una lista a través del índice (lugar) que ocupa."
   ]
  },
  {
   "cell_type": "code",
   "execution_count": 54,
   "metadata": {},
   "outputs": [
    {
     "name": "stdout",
     "output_type": "stream",
     "text": [
      "En shopping[0] se encuentra: Agua\n",
      "En shopping[1] se encuentra: Huevos\n",
      "En shopping[2] se encuentra: Aceite\n",
      "También puedo usar indices negativos: shopping[-2] = 'Huevos'\n"
     ]
    }
   ],
   "source": [
    "shopping = ['Agua', 'Huevos', 'Aceite']\n",
    "\n",
    "for item in shopping:\n",
    "    print(f'En shopping{[shopping.index(item)]} se encuentra: {item}')\n",
    "\n",
    "print(f'También puedo usar indices negativos: {shopping[-2] = }')"
   ]
  },
  {
   "cell_type": "markdown",
   "metadata": {},
   "source": [
    "* Si usamos un índice fuera de los límites comprendidos obtendremos un **error**"
   ]
  },
  {
   "cell_type": "markdown",
   "metadata": {},
   "source": [
    "#### Trocear una lista"
   ]
  },
  {
   "cell_type": "markdown",
   "metadata": {},
   "source": [
    "> A diferencia de lo que ocurre al obtener elementos no debemos preocuparnos por acceder a ***índices inválidos*** (fuera de rango) ya que Python los restringirá a los límites de la lista:"
   ]
  },
  {
   "cell_type": "code",
   "execution_count": 55,
   "metadata": {},
   "outputs": [
    {
     "name": "stdout",
     "output_type": "stream",
     "text": [
      "shopping[0:3] = ['Agua', 'Huevos', 'Aceite']\n",
      "shopping[:3] = ['Agua', 'Huevos', 'Aceite']\n",
      "shopping[2:4] = ['Aceite', 'Sal']\n",
      "shopping[-1:-4:-1] = ['Limón', 'Sal', 'Aceite']\n",
      "shopping[::-1] = ['Limón', 'Sal', 'Aceite', 'Huevos', 'Agua']\n",
      "shopping[10:] = []\n",
      "shopping[-100:2] = ['Agua', 'Huevos']\n",
      "shopping[2:100] = ['Aceite', 'Sal', 'Limón']\n"
     ]
    }
   ],
   "source": [
    "shopping = ['Agua', 'Huevos', 'Aceite', 'Sal', 'Limón']\n",
    "\n",
    "print(f'{shopping[0:3] = }')\n",
    "print(f'{shopping[:3] = }')\n",
    "print(f'{shopping[2:4] = }')\n",
    "print(f'{shopping[-1:-4:-1] = }')\n",
    "print(f'{shopping[::-1] = }')\n",
    "print(f'{shopping[10:] = }')\n",
    "print(f'{shopping[-100:2] = }')\n",
    "print(f'{shopping[2:100] = }')"
   ]
  },
  {
   "cell_type": "markdown",
   "metadata": {},
   "source": [
    "* Ninguna de las operaciones anteriores modifican la lista original simplemente devuelven una lista nueva."
   ]
  },
  {
   "cell_type": "markdown",
   "metadata": {},
   "source": [
    "#### Invertir una lista"
   ]
  },
  {
   "cell_type": "markdown",
   "metadata": {},
   "source": [
    "*   Conservando la lista original: Mediante *troceado* de listas con *step* negativo:"
   ]
  },
  {
   "cell_type": "code",
   "execution_count": 56,
   "metadata": {},
   "outputs": [
    {
     "name": "stdout",
     "output_type": "stream",
     "text": [
      "shopping[::-1] = ['Limón', 'Sal', 'Aceite', 'Huevos', 'Agua']\n"
     ]
    }
   ],
   "source": [
    "shopping = ['Agua', 'Huevos', 'Aceite', 'Sal', 'Limón']\n",
    "\n",
    "print(f'{shopping[::-1] = }')"
   ]
  },
  {
   "cell_type": "markdown",
   "metadata": {},
   "source": [
    "* Conservando la lista original: Mediante la función ***reversed()***"
   ]
  },
  {
   "cell_type": "code",
   "execution_count": 57,
   "metadata": {},
   "outputs": [
    {
     "name": "stdout",
     "output_type": "stream",
     "text": [
      "La lista invertida queda ['Limón', 'Sal', 'Aceite', 'Huevos', 'Agua'] y la original sigue igual ['Agua', 'Huevos', 'Aceite', 'Sal', 'Limón']\n"
     ]
    }
   ],
   "source": [
    "print(f'La lista invertida queda {list(reversed(shopping))} y la original sigue igual {shopping}')"
   ]
  },
  {
   "cell_type": "markdown",
   "metadata": {},
   "source": [
    "* Modificando la lista original: Utilizando ***reverse()*** "
   ]
  },
  {
   "cell_type": "code",
   "execution_count": 58,
   "metadata": {},
   "outputs": [
    {
     "name": "stdout",
     "output_type": "stream",
     "text": [
      "La lista original queda: ['Limón', 'Sal', 'Aceite', 'Huevos', 'Agua']\n"
     ]
    }
   ],
   "source": [
    "shopping.reverse()\n",
    "\n",
    "print(f'La lista original queda: {shopping}')"
   ]
  },
  {
   "cell_type": "markdown",
   "metadata": {},
   "source": [
    "#### Añadir al final de la lista"
   ]
  },
  {
   "cell_type": "markdown",
   "metadata": {},
   "source": [
    "Función|Lo que hace\n",
    ":-:|:-:\n",
    "append()|Añade elementos al final de las mismas. Es un método *destructivo* que modifica la lista original."
   ]
  },
  {
   "cell_type": "code",
   "execution_count": 59,
   "metadata": {},
   "outputs": [
    {
     "name": "stdout",
     "output_type": "stream",
     "text": [
      "['Limón', 'Sal', 'Aceite', 'Huevos', 'Agua', 'Atún']\n"
     ]
    }
   ],
   "source": [
    "shopping.append('Atún')\n",
    "print(shopping)"
   ]
  },
  {
   "cell_type": "markdown",
   "metadata": {},
   "source": [
    "#### Creando desde vacío"
   ]
  },
  {
   "cell_type": "markdown",
   "metadata": {},
   "source": [
    "> Una forma habitual de trabajar con listas es empezar con una vacía e ir añadiendo elementos poco a poco. Se podría hablar de un **patrón creación**"
   ]
  },
  {
   "cell_type": "code",
   "execution_count": 60,
   "metadata": {},
   "outputs": [
    {
     "name": "stdout",
     "output_type": "stream",
     "text": [
      "even_numbers = []\n",
      "even_numbers = [0]\n",
      "even_numbers = [0, 2]\n",
      "even_numbers = [0, 2, 4]\n",
      "even_numbers = [0, 2, 4, 6]\n",
      "even_numbers = [0, 2, 4, 6, 8]\n",
      "even_numbers = [0, 2, 4, 6, 8, 10]\n",
      "even_numbers = [0, 2, 4, 6, 8, 10, 12]\n",
      "even_numbers = [0, 2, 4, 6, 8, 10, 12, 14]\n",
      "even_numbers = [0, 2, 4, 6, 8, 10, 12, 14, 16]\n",
      "even_numbers = [0, 2, 4, 6, 8, 10, 12, 14, 16, 18]\n",
      "even_numbers = [0, 2, 4, 6, 8, 10, 12, 14, 16, 18, 20]\n"
     ]
    }
   ],
   "source": [
    "'''Construir una lista con los números pares del 1 al 20 inclusive.'''\n",
    "even_numbers = []\n",
    "print(f'{even_numbers = }')\n",
    "\n",
    "for i in range(21):\n",
    "    if i % 2 == 0:\n",
    "        even_numbers.append(i)\n",
    "        print(f'{even_numbers = }')"
   ]
  },
  {
   "cell_type": "markdown",
   "metadata": {},
   "source": [
    "#### Añadir en cualquier posición de una lista"
   ]
  },
  {
   "cell_type": "markdown",
   "metadata": {},
   "source": [
    "Función|Lo que hace\n",
    ":-:|:-:\n",
    "**insert()**|Incorpora elementos en cualquier posición. Se trata de una función *destructiva*\n",
    "\n",
    "* Cuando hablamos de que una función/método es \"destructiva/o\" significa que modifica la lista (objeto) original, no que la destruye."
   ]
  },
  {
   "cell_type": "code",
   "execution_count": 61,
   "metadata": {},
   "outputs": [
    {
     "name": "stdout",
     "output_type": "stream",
     "text": [
      "['Limón', 'Sal', 'Aceite', 'Huevos', 'Agua', 'Atún']\n",
      "['Limón', 'Jamón', 'Sal', 'Aceite', 'Huevos', 'Agua', 'Atún']\n",
      "['Limón', 'Jamón', 'Sal', 'Queso', 'Aceite', 'Huevos', 'Agua', 'Atún']\n"
     ]
    }
   ],
   "source": [
    "print(f'{shopping}')\n",
    "\n",
    "shopping.insert(1, 'Jamón')\n",
    "\n",
    "print(f'{shopping}')\n",
    "\n",
    "shopping.insert(3, 'Queso')\n",
    "\n",
    "print(f'{shopping}')"
   ]
  },
  {
   "cell_type": "markdown",
   "metadata": {},
   "source": [
    "> En este tipo de inserciones no obtendremos un error si especificamos índices fuera de los límites de la lista. Estos se ajustarán al principio o al final en función del valor que indiquemos"
   ]
  },
  {
   "cell_type": "code",
   "execution_count": 62,
   "metadata": {},
   "outputs": [
    {
     "name": "stdout",
     "output_type": "stream",
     "text": [
      "shopping = ['Arroz', 'Limón', 'Jamón', 'Sal', 'Queso', 'Aceite', 'Huevos', 'Agua', 'Atún', 'Mermelada']\n"
     ]
    }
   ],
   "source": [
    "shopping.insert(100, 'Mermelada')\n",
    "shopping.insert(-100, 'Arroz')\n",
    "\n",
    "print(f'{shopping = }')"
   ]
  },
  {
   "cell_type": "markdown",
   "metadata": {},
   "source": [
    "* Consejo: Aunque se pueda de este modo añadir  elementos al final de una lista, siempre se recomienda usar **append()**"
   ]
  },
  {
   "cell_type": "code",
   "execution_count": 63,
   "metadata": {},
   "outputs": [
    {
     "name": "stdout",
     "output_type": "stream",
     "text": [
      "values = [1, 2, 3, 4]\n",
      "values = [1, 2, 3, 4, 5]\n"
     ]
    }
   ],
   "source": [
    "values = [1, 2, 3]\n",
    "values.append(4)\n",
    "\n",
    "print(f'{values = }')\n",
    "\n",
    "values.insert(len(values),5)        #NO HAGAS ESTO!!!\n",
    "\n",
    "print(f'{values = }')"
   ]
  },
  {
   "cell_type": "markdown",
   "metadata": {},
   "source": [
    "#### Repetir elementos"
   ]
  },
  {
   "cell_type": "markdown",
   "metadata": {},
   "source": [
    "> El operador * nos permite repetir los elementos de una lista:"
   ]
  },
  {
   "cell_type": "code",
   "execution_count": 64,
   "metadata": {},
   "outputs": [
    {
     "data": {
      "text/plain": [
       "['Arroz',\n",
       " 'Limón',\n",
       " 'Jamón',\n",
       " 'Sal',\n",
       " 'Queso',\n",
       " 'Aceite',\n",
       " 'Huevos',\n",
       " 'Agua',\n",
       " 'Atún',\n",
       " 'Mermelada',\n",
       " 'Arroz',\n",
       " 'Limón',\n",
       " 'Jamón',\n",
       " 'Sal',\n",
       " 'Queso',\n",
       " 'Aceite',\n",
       " 'Huevos',\n",
       " 'Agua',\n",
       " 'Atún',\n",
       " 'Mermelada',\n",
       " 'Arroz',\n",
       " 'Limón',\n",
       " 'Jamón',\n",
       " 'Sal',\n",
       " 'Queso',\n",
       " 'Aceite',\n",
       " 'Huevos',\n",
       " 'Agua',\n",
       " 'Atún',\n",
       " 'Mermelada']"
      ]
     },
     "execution_count": 64,
     "metadata": {},
     "output_type": "execute_result"
    }
   ],
   "source": [
    "shopping * 3"
   ]
  },
  {
   "cell_type": "markdown",
   "metadata": {},
   "source": [
    "#### Combinar listas"
   ]
  },
  {
   "cell_type": "markdown",
   "metadata": {},
   "source": [
    "* Conservando la lista original: Mediante el operador **+** o **+=**"
   ]
  },
  {
   "cell_type": "code",
   "execution_count": 65,
   "metadata": {},
   "outputs": [
    {
     "data": {
      "text/plain": [
       "['Arroz',\n",
       " 'Limón',\n",
       " 'Jamón',\n",
       " 'Sal',\n",
       " 'Queso',\n",
       " 'Aceite',\n",
       " 'Huevos',\n",
       " 'Agua',\n",
       " 'Atún',\n",
       " 'Mermelada',\n",
       " 'Naranja',\n",
       " 'Manzana',\n",
       " 'Piña']"
      ]
     },
     "execution_count": 65,
     "metadata": {},
     "output_type": "execute_result"
    }
   ],
   "source": [
    "fruitshop = ['Naranja', 'Manzana', 'Piña']\n",
    "\n",
    "shopping + fruitshop"
   ]
  },
  {
   "cell_type": "markdown",
   "metadata": {},
   "source": [
    "* Modificando la lista original: Mediante la función **extend()**"
   ]
  },
  {
   "cell_type": "code",
   "execution_count": 67,
   "metadata": {},
   "outputs": [
    {
     "data": {
      "text/plain": [
       "['Arroz',\n",
       " 'Limón',\n",
       " 'Jamón',\n",
       " 'Sal',\n",
       " 'Queso',\n",
       " 'Aceite',\n",
       " 'Huevos',\n",
       " 'Agua',\n",
       " 'Atún',\n",
       " 'Mermelada',\n",
       " 'Naranja',\n",
       " 'Manzana',\n",
       " 'Piña']"
      ]
     },
     "execution_count": 67,
     "metadata": {},
     "output_type": "execute_result"
    }
   ],
   "source": [
    "shopping.extend(fruitshop)\n",
    "shopping"
   ]
  },
  {
   "cell_type": "markdown",
   "metadata": {},
   "source": [
    "* **extend()** funciona adecuadamente si pasamos una *lista* como argumento. En otro caso, quizás los resultados no sean los esperados esto se debe a que la función itera sobre cada uno de los elementos del objeto en cuestión. Otro ejemplo es **append()** que añade la lista como una sublista.\n",
    "\n",
    "Función|Lo que hace\n",
    ":-:|:-:\n",
    "**extend()**|Para agregar listas\n",
    "**append()**|Para agregar elementos"
   ]
  },
  {
   "cell_type": "code",
   "execution_count": 68,
   "metadata": {},
   "outputs": [
    {
     "data": {
      "text/plain": [
       "['Arroz',\n",
       " 'Limón',\n",
       " 'Jamón',\n",
       " 'Sal',\n",
       " 'Queso',\n",
       " 'Aceite',\n",
       " 'Huevos',\n",
       " 'Agua',\n",
       " 'Atún',\n",
       " 'Mermelada',\n",
       " 'Naranja',\n",
       " 'Manzana',\n",
       " 'Piña',\n",
       " 'L',\n",
       " 'i',\n",
       " 'm',\n",
       " 'ó',\n",
       " 'n']"
      ]
     },
     "execution_count": 68,
     "metadata": {},
     "output_type": "execute_result"
    }
   ],
   "source": [
    "shopping.extend('Limón')\n",
    "shopping"
   ]
  },
  {
   "cell_type": "code",
   "execution_count": 69,
   "metadata": {},
   "outputs": [
    {
     "data": {
      "text/plain": [
       "['Arroz',\n",
       " 'Limón',\n",
       " 'Jamón',\n",
       " 'Sal',\n",
       " 'Queso',\n",
       " 'Aceite',\n",
       " 'Huevos',\n",
       " 'Agua',\n",
       " 'Atún',\n",
       " 'Mermelada',\n",
       " 'Naranja',\n",
       " 'Manzana',\n",
       " 'Piña',\n",
       " 'L',\n",
       " 'i',\n",
       " 'm',\n",
       " 'ó',\n",
       " 'n',\n",
       " ['Naranja', 'Manzana', 'Piña']]"
      ]
     },
     "execution_count": 69,
     "metadata": {},
     "output_type": "execute_result"
    }
   ],
   "source": [
    "shopping.append(fruitshop)\n",
    "shopping"
   ]
  },
  {
   "cell_type": "markdown",
   "metadata": {},
   "source": [
    "#### Modificar una lista"
   ]
  },
  {
   "cell_type": "markdown",
   "metadata": {},
   "source": [
    "> Del mismo modo que se accede a un elemento utilizando su índice, también podemos modificarlo.\n",
    "\n",
    "*   Al acceder a un índice no válido de la lista obtendremos un error:"
   ]
  },
  {
   "cell_type": "code",
   "execution_count": 71,
   "metadata": {},
   "outputs": [
    {
     "name": "stdout",
     "output_type": "stream",
     "text": [
      "shopping[0] = 'Agua'\n",
      "shopping[0] = 'Jugo'\n"
     ]
    }
   ],
   "source": [
    "shopping = ['Agua', 'Huevo', 'Aceite']\n",
    "\n",
    "print(f'{shopping[0] = }')\n",
    "\n",
    "shopping[0] = 'Jugo'\n",
    "\n",
    "print(f'{shopping[0] = }')"
   ]
  },
  {
   "cell_type": "markdown",
   "metadata": {},
   "source": [
    "#### Modificar con troceado"
   ]
  },
  {
   "cell_type": "markdown",
   "metadata": {},
   "source": [
    "> Podemos asignar valores a trozos de una lista, no necesariamente debe tener la misma longitud que el trozo que sustituimos."
   ]
  },
  {
   "cell_type": "code",
   "execution_count": 74,
   "metadata": {},
   "outputs": [
    {
     "name": "stdout",
     "output_type": "stream",
     "text": [
      "shopping[1:4] = ['Huevo', 'Aceite', 'Sal']\n",
      "shopping = ['Agua', 'Atún', 'Pasta', 'Limón']\n"
     ]
    }
   ],
   "source": [
    "shopping = ['Agua', 'Huevo', 'Aceite', 'Sal', 'Limón']\n",
    "\n",
    "print(f'{shopping[1:4] = }')\n",
    "\n",
    "shopping[1:4] = ['Atún', 'Pasta']\n",
    "\n",
    "print(f'{shopping = }')"
   ]
  },
  {
   "cell_type": "markdown",
   "metadata": {},
   "source": [
    "#### Borrar elementos"
   ]
  },
  {
   "cell_type": "markdown",
   "metadata": {},
   "source": [
    "> Python nos ofrece , al menos, cuatro formas para borrar elementos en una lista:\n",
    "\n",
    "* Por su índice: Mediante la función **del()**"
   ]
  },
  {
   "cell_type": "code",
   "execution_count": 79,
   "metadata": {},
   "outputs": [
    {
     "name": "stdout",
     "output_type": "stream",
     "text": [
      "shopping = ['Agua', 'Huevo', 'Aceite', 'Limón']\n"
     ]
    }
   ],
   "source": [
    "shopping = ['Agua', 'Huevo', 'Aceite', 'Sal', 'Limón']\n",
    "\n",
    "del(shopping[3])        #No devuelve nada\n",
    "\n",
    "print(f'{shopping = }')"
   ]
  },
  {
   "cell_type": "markdown",
   "metadata": {},
   "source": [
    "*   Por su valor: Mediante la función **remove()**"
   ]
  },
  {
   "cell_type": "code",
   "execution_count": 80,
   "metadata": {},
   "outputs": [
    {
     "name": "stdout",
     "output_type": "stream",
     "text": [
      "shopping = ['Agua', 'Huevo', 'Aceite', 'Limón']\n"
     ]
    }
   ],
   "source": [
    "shopping = ['Agua', 'Huevo', 'Aceite', 'Sal', 'Limón']\n",
    "\n",
    "shopping.remove('Sal')      #No devuelve nada\n",
    "\n",
    "print(f'{shopping = }')"
   ]
  },
  {
   "cell_type": "markdown",
   "metadata": {},
   "source": [
    "* Por su índice (con extracción): Mediante la función **pop()** además de borrar, nos \"recupera\" el elemento."
   ]
  },
  {
   "cell_type": "code",
   "execution_count": 83,
   "metadata": {},
   "outputs": [
    {
     "name": "stdout",
     "output_type": "stream",
     "text": [
      "Eliminamos 'Limón' de la lista shopping = ['Agua', 'Huevo', 'Aceite', 'Sal']\n",
      "Eliminamos 'Aceite' de la lista shopping = ['Agua', 'Huevo', 'Sal']\n"
     ]
    }
   ],
   "source": [
    "shopping = ['Agua', 'Huevo', 'Aceite', 'Sal', 'Limón']\n",
    "\n",
    "print(f'Eliminamos \\'{shopping.pop()}\\' de la lista {shopping = }')     #Por defecto usa el índice (-1). Elimina el último.\n",
    "\n",
    "print(f'Eliminamos \\'{shopping.pop(2)}\\' de la lista {shopping = }')"
   ]
  },
  {
   "cell_type": "markdown",
   "metadata": {},
   "source": [
    "* Por rango: Mediante troceado de listas."
   ]
  },
  {
   "cell_type": "code",
   "execution_count": 85,
   "metadata": {},
   "outputs": [
    {
     "name": "stdout",
     "output_type": "stream",
     "text": [
      "shopping = ['Agua', 'Limón']\n"
     ]
    }
   ],
   "source": [
    "shopping = ['Agua', 'Huevo', 'Aceite', 'Sal', 'Limón']\n",
    "\n",
    "shopping[1:4] = []\n",
    "\n",
    "print(f'{shopping = }')"
   ]
  },
  {
   "cell_type": "markdown",
   "metadata": {},
   "source": [
    "#### Borrado completo de la lista"
   ]
  },
  {
   "cell_type": "markdown",
   "metadata": {},
   "source": [
    "1. Utilizando la función ***clear()***:"
   ]
  },
  {
   "cell_type": "code",
   "execution_count": 88,
   "metadata": {},
   "outputs": [
    {
     "name": "stdout",
     "output_type": "stream",
     "text": [
      "shopping = []\n"
     ]
    }
   ],
   "source": [
    "shopping = ['Agua', 'Huevo', 'Aceite', 'Sal', 'Limón']\n",
    "\n",
    "shopping.clear()        # Borrado in-situ\n",
    "\n",
    "print(f'{shopping = }')"
   ]
  },
  {
   "cell_type": "markdown",
   "metadata": {},
   "source": [
    "2. 'Reinicializando' la lista vacío con ***[]***:"
   ]
  },
  {
   "cell_type": "code",
   "execution_count": 89,
   "metadata": {},
   "outputs": [
    {
     "name": "stdout",
     "output_type": "stream",
     "text": [
      "shopping = []\n"
     ]
    }
   ],
   "source": [
    "shopping = ['Agua', 'Huevo', 'Aceite', 'Sal', 'Limón']\n",
    "\n",
    "shopping = []       #Nueva Zona de memoria\n",
    "\n",
    "print(f'{shopping = }')"
   ]
  },
  {
   "cell_type": "markdown",
   "metadata": {},
   "source": [
    "> La diferencia entre ambos métodos tiene que ver con cuestiones internas de gestión de memoria y de rendimiento."
   ]
  },
  {
   "cell_type": "markdown",
   "metadata": {},
   "source": [
    "#### Encontrar un elemento"
   ]
  },
  {
   "cell_type": "markdown",
   "metadata": {},
   "source": [
    "> Si queremos descubrir el índice que corresponde a un determiando valor dentro de lista podemos usar la función **index()**:\n",
    "\n",
    "*   Si el elemento que buscamos no está en la lista, obtendremos un error.\n",
    "*   La función devuelve un entero."
   ]
  },
  {
   "cell_type": "code",
   "execution_count": 92,
   "metadata": {},
   "outputs": [
    {
     "name": "stdout",
     "output_type": "stream",
     "text": [
      "En el índice <class 'int'> se encutra la palabra: Huevo\n"
     ]
    }
   ],
   "source": [
    "shopping = ['Agua', 'Huevo', 'Aceite', 'Sal', 'Limón']\n",
    "\n",
    "print(f'En el índice {shopping.index(\"Huevo\")} se encutra la palabra: {shopping[shopping.index(\"Huevo\")]}')"
   ]
  },
  {
   "cell_type": "markdown",
   "metadata": {},
   "source": [
    "#### Pertenencia de un elemento"
   ]
  },
  {
   "cell_type": "markdown",
   "metadata": {},
   "source": [
    "> Para comprobar la existencia de un determinado elemento en una lista se utiliza el operados **in** :\n",
    "\n",
    "*   Devuelve un valor booleano: *True* o *False*"
   ]
  },
  {
   "cell_type": "code",
   "execution_count": 94,
   "metadata": {},
   "outputs": [
    {
     "name": "stdout",
     "output_type": "stream",
     "text": [
      "'Aceite' se encuentra en el índice: 2\n",
      "'Pollo' está en shopping = ['Agua', 'Huevo', 'Aceite', 'Sal', 'Limón']: False\n"
     ]
    }
   ],
   "source": [
    "shopping = ['Agua', 'Huevo', 'Aceite', 'Sal', 'Limón']\n",
    "\n",
    "if 'Aceite' in shopping:\n",
    "    print(f'\\'Aceite\\' se encuentra en el índice: {shopping.index(\"Aceite\")}')\n",
    "\n",
    "print(f'\\'Pollo\\' está en {shopping = }: {\"Pollo\" in shopping}')"
   ]
  },
  {
   "cell_type": "markdown",
   "metadata": {},
   "source": [
    "#### Número de ocurrencias"
   ]
  },
  {
   "cell_type": "markdown",
   "metadata": {},
   "source": [
    "Función|Lo que hace\n",
    ":-:|:-:\n",
    "**count()**|Para contar cuantas veces aparece un determinado valor dentro de una lista."
   ]
  },
  {
   "cell_type": "code",
   "execution_count": 95,
   "metadata": {},
   "outputs": [
    {
     "name": "stdout",
     "output_type": "stream",
     "text": [
      "Cuantas veces dice 'Howard': 0 \n",
      "Cuantas veces dice 'Penny': 3 \n"
     ]
    }
   ],
   "source": [
    "sheldon_greeting = ['Penny', 'Penny', 'Penny']\n",
    "\n",
    "print(f'Cuantas veces dice \\'Howard\\': {sheldon_greeting.count(\"Howard\")} ')\n",
    "print(f'Cuantas veces dice \\'Penny\\': {sheldon_greeting.count(\"Penny\")} ')"
   ]
  },
  {
   "cell_type": "markdown",
   "metadata": {},
   "source": [
    "#### Convertir lista a cadena de texto"
   ]
  },
  {
   "cell_type": "markdown",
   "metadata": {},
   "source": [
    ">Dada una lista podemos convertirla a una cadena de texto, uniendo todos sus elementos mediantes algún **separador**.\n",
    "\n",
    "![alt text](Imágenes/Estructura_funcion_join.jpeg)\n",
    "\n",
    "*   Solo funciona si *todos sus elementos* son cadenas de texto"
   ]
  },
  {
   "cell_type": "code",
   "execution_count": 97,
   "metadata": {},
   "outputs": [
    {
     "name": "stdout",
     "output_type": "stream",
     "text": [
      "Agua,Huevo,Aceite,Sal,Limón\n",
      "Agua Huevo Aceite Sal Limón\n",
      "Agua|Huevo|Aceite|Sal|Limón\n"
     ]
    }
   ],
   "source": [
    "shopping = ['Agua', 'Huevo', 'Aceite', 'Sal', 'Limón']\n",
    "\n",
    "print(f'{\",\".join(shopping)}')\n",
    "print(f'{\" \".join(shopping)}')\n",
    "print(f'{\"|\".join(shopping)}')"
   ]
  },
  {
   "cell_type": "markdown",
   "metadata": {},
   "source": [
    "*   Es la función opuesta a la de **split()** para dividir una cadena."
   ]
  },
  {
   "cell_type": "markdown",
   "metadata": {},
   "source": [
    "#### Ordenar una lista"
   ]
  },
  {
   "cell_type": "markdown",
   "metadata": {},
   "source": [
    "* Conservando lista original: Mediante la función **sorted()**"
   ]
  },
  {
   "cell_type": "code",
   "execution_count": 102,
   "metadata": {},
   "outputs": [
    {
     "name": "stdout",
     "output_type": "stream",
     "text": [
      "Ordenar alfabéticamente AZ: ['Aceite', 'Agua', 'Huevo', 'Limón', 'Sal']\n",
      "Ordenar alfabéticamente ZA: ['Sal', 'Limón', 'Huevo', 'Agua', 'Aceite']\n"
     ]
    }
   ],
   "source": [
    "shopping = ['Agua', 'Huevo', 'Aceite', 'Sal', 'Limón']\n",
    "\n",
    "print(f'Ordenar alfabéticamente AZ: {sorted(shopping)}')\n",
    "print(f'Ordenar alfabéticamente ZA: {sorted(shopping, reverse=True)}')"
   ]
  },
  {
   "cell_type": "markdown",
   "metadata": {},
   "source": [
    "*   Modificando la lista original: Mediante la función **sort()**"
   ]
  },
  {
   "cell_type": "code",
   "execution_count": 103,
   "metadata": {},
   "outputs": [
    {
     "name": "stdout",
     "output_type": "stream",
     "text": [
      "shopping = ['Aceite', 'Agua', 'Huevo', 'Limón', 'Sal']\n",
      "shopping = ['Sal', 'Limón', 'Huevo', 'Agua', 'Aceite']\n"
     ]
    }
   ],
   "source": [
    "shopping = ['Agua', 'Huevo', 'Aceite', 'Sal', 'Limón']\n",
    "\n",
    "shopping.sort()\n",
    "\n",
    "print(f'{shopping = }')\n",
    "\n",
    "shopping.sort(reverse=True)\n",
    "\n",
    "print(f'{shopping = }')"
   ]
  },
  {
   "cell_type": "markdown",
   "metadata": {},
   "source": [
    "> Ambos métodos admiten un parámetro \"booleano\" reverse para indicar si queremos que la ordenación se haga en **sentido inverso**"
   ]
  },
  {
   "cell_type": "markdown",
   "metadata": {},
   "source": [
    "#### Longitud de una lista"
   ]
  },
  {
   "cell_type": "markdown",
   "metadata": {},
   "source": [
    "> Conocer el número de elementos que tiene una lista con la función **len()**:"
   ]
  },
  {
   "cell_type": "code",
   "execution_count": 105,
   "metadata": {},
   "outputs": [
    {
     "name": "stdout",
     "output_type": "stream",
     "text": [
      "La lista shopping = ['Agua', 'Huevo', 'Aceite', 'Sal', 'Limón'] tiene una longitud de 5 elementos.\n"
     ]
    }
   ],
   "source": [
    "shopping = ['Agua', 'Huevo', 'Aceite', 'Sal', 'Limón']\n",
    "print(f'La lista {shopping = } tiene una longitud de {len(shopping)} elementos.')"
   ]
  },
  {
   "cell_type": "markdown",
   "metadata": {},
   "source": [
    "#### Iterar sobre una lista"
   ]
  },
  {
   "cell_type": "markdown",
   "metadata": {},
   "source": [
    "> También podemos iterar sobre los elementos de una lista utilizando la sentencia **for()**\n",
    "\n",
    "*   Se puede usar la sentencia ***break*** en este tipo de bucles para abortar su ejecución en algún momento que nos interese."
   ]
  },
  {
   "cell_type": "code",
   "execution_count": 106,
   "metadata": {},
   "outputs": [
    {
     "name": "stdout",
     "output_type": "stream",
     "text": [
      "Agua\n",
      "Huevo\n",
      "Aceite\n",
      "Sal\n",
      "Limón\n"
     ]
    }
   ],
   "source": [
    "shopping = ['Agua', 'Huevo', 'Aceite', 'Sal', 'Limón']\n",
    "\n",
    "for product in shopping:\n",
    "    print(product)"
   ]
  },
  {
   "cell_type": "markdown",
   "metadata": {},
   "source": [
    "#### Iterar usando enumeración"
   ]
  },
  {
   "cell_type": "markdown",
   "metadata": {},
   "source": [
    "> Hay veces que también nos interesa saber el índice y a la vez el elemento dentro de la misma. Para ello usamos **enumerate()**"
   ]
  },
  {
   "cell_type": "code",
   "execution_count": 107,
   "metadata": {},
   "outputs": [
    {
     "name": "stdout",
     "output_type": "stream",
     "text": [
      "0 Agua\n",
      "1 Huevo\n",
      "2 Aceite\n",
      "3 Sal\n",
      "4 Limón\n"
     ]
    }
   ],
   "source": [
    "shopping = ['Agua', 'Huevo', 'Aceite', 'Sal', 'Limón']\n",
    "\n",
    "for i, product in enumerate(shopping):\n",
    "    print(i, product)"
   ]
  },
  {
   "cell_type": "markdown",
   "metadata": {},
   "source": [
    "#### Iterar sobre múltiples listas"
   ]
  },
  {
   "cell_type": "markdown",
   "metadata": {},
   "source": [
    "> Python nos ofrece la posibilidad de iterar sobre *multiples listas en paralelo* utilizando la función **zip()**:\n",
    "\n",
    "*   Si las listas no tienen la misma longitud, se realiza la combinación hasta que se agota la lista más corta."
   ]
  },
  {
   "cell_type": "code",
   "execution_count": 108,
   "metadata": {},
   "outputs": [
    {
     "name": "stdout",
     "output_type": "stream",
     "text": [
      "Agua mineral natural\n",
      "Aceite de oliva virgen\n",
      "Arroz basmati\n"
     ]
    }
   ],
   "source": [
    "shopping = ['Agua', 'Aceite', 'Arroz']\n",
    "details = ['mineral natural', 'de oliva virgen', 'basmati']\n",
    "\n",
    "for product, detail in zip(shopping,details):\n",
    "    print(product, detail)"
   ]
  },
  {
   "cell_type": "markdown",
   "metadata": {},
   "source": [
    "> Si queremos obtener una lista explícita con la combinación en paralelo de las listas, debemos construir dicha lista de la siguiente manera:"
   ]
  },
  {
   "cell_type": "code",
   "execution_count": 109,
   "metadata": {},
   "outputs": [
    {
     "data": {
      "text/plain": [
       "[('Agua', 'mineral natural'),\n",
       " ('Aceite', 'de oliva virgen'),\n",
       " ('Arroz', 'basmati')]"
      ]
     },
     "execution_count": 109,
     "metadata": {},
     "output_type": "execute_result"
    }
   ],
   "source": [
    "shopping = ['Agua', 'Aceite', 'Arroz']\n",
    "details = ['mineral natural', 'de oliva virgen', 'basmati']\n",
    "\n",
    "list(zip(shopping, details))"
   ]
  },
  {
   "cell_type": "markdown",
   "metadata": {},
   "source": [
    "### Cuidado con las copias"
   ]
  },
  {
   "cell_type": "markdown",
   "metadata": {},
   "source": [
    "> Al ser estructuras de datos ***mutables***, hay que tener cuidado cuando realizamos copias de listas, ya que la modificación de una de ellas puede afectar a la otra."
   ]
  },
  {
   "cell_type": "code",
   "execution_count": 112,
   "metadata": {},
   "outputs": [
    {
     "name": "stdout",
     "output_type": "stream",
     "text": [
      "original_list = [15, 3, 7, 1] \n",
      "copy_list = [15, 3, 7, 1]\n"
     ]
    }
   ],
   "source": [
    "original_list = [4, 3, 7, 1]\n",
    "\n",
    "copy_list = original_list\n",
    "\n",
    "original_list[0] = 15\n",
    "\n",
    "print(f'{original_list = } \\n{copy_list = }')"
   ]
  },
  {
   "cell_type": "markdown",
   "metadata": {},
   "source": [
    "* Dado que las variables \"apuntan\" a la misma zona de memoria, al modificar una de ellas, el cambio también se ve reflejado en la otra.\n",
    "\n",
    "> Una posible solución  es hacer una \"copia dura\" con la función **copy()**:"
   ]
  },
  {
   "cell_type": "code",
   "execution_count": 114,
   "metadata": {},
   "outputs": [
    {
     "name": "stdout",
     "output_type": "stream",
     "text": [
      "original_list = [15, 3, 7, 1] \n",
      "copy_list = [4, 3, 7, 1]\n"
     ]
    }
   ],
   "source": [
    "original_list = [4, 3, 7, 1]\n",
    "\n",
    "copy_list = original_list.copy()\n",
    "\n",
    "original_list[0] = 15\n",
    "\n",
    "print(f'{original_list = } \\n{copy_list = }')"
   ]
  },
  {
   "cell_type": "markdown",
   "metadata": {},
   "source": [
    "En el caso de que estemos trabajando con listas que contienen elementos mutables, debemos hacer uso de la función **deepcopy()** dentro del módulo copy de la librería estándar."
   ]
  },
  {
   "cell_type": "markdown",
   "metadata": {},
   "source": [
    "### Veracidad múltiple"
   ]
  },
  {
   "cell_type": "markdown",
   "metadata": {},
   "source": [
    "Función|Lo que hace\n",
    ":-:|:-:\n",
    "**all()**|Evalua si se cumplen **todas** las condiciones\n",
    "**any()**|Evalua si se cumple **alguna** condición\n",
    "\n",
    "*   Versión clásica:"
   ]
  },
  {
   "cell_type": "code",
   "execution_count": 115,
   "metadata": {},
   "outputs": [
    {
     "name": "stdout",
     "output_type": "stream",
     "text": [
      "Cool word!\n"
     ]
    }
   ],
   "source": [
    "word = 'python'\n",
    "\n",
    "if len(word) > 4 and word.startswith('p') and word.count('y') >= 1:\n",
    "    print('Cool word!')\n",
    "else:\n",
    "    print('No thanks!')"
   ]
  },
  {
   "cell_type": "markdown",
   "metadata": {},
   "source": [
    "*   Versión con veracidad múltiple usando **all()**"
   ]
  },
  {
   "cell_type": "code",
   "execution_count": 116,
   "metadata": {},
   "outputs": [
    {
     "name": "stdout",
     "output_type": "stream",
     "text": [
      "Cool word!\n"
     ]
    }
   ],
   "source": [
    "word = 'python'\n",
    "\n",
    "enough_length =  len(word) > 4              #True\n",
    "rigth_beginning = word.startswith('p')      #True\n",
    "min_ys = word.count('y') >= 1               #True\n",
    "\n",
    "is_cool_word = all([enough_length, rigth_beginning, min_ys])    #Que se cumplan TODAS las expresiones\n",
    "\n",
    "if is_cool_word:\n",
    "    print('Cool word!')\n",
    "else:\n",
    "    print('No thanks!')"
   ]
  },
  {
   "cell_type": "markdown",
   "metadata": {},
   "source": [
    "*   Versión con veracidad múltiple usando **any()**"
   ]
  },
  {
   "cell_type": "code",
   "execution_count": 118,
   "metadata": {},
   "outputs": [
    {
     "name": "stdout",
     "output_type": "stream",
     "text": [
      "Fine word!\n"
     ]
    }
   ],
   "source": [
    "word = 'yeah'\n",
    "\n",
    "enough_length =  len(word) > 4              #False\n",
    "rigth_beginning = word.startswith('p')      #False\n",
    "min_ys = word.count('y') >= 1               #True\n",
    "\n",
    "is_fine_word = any([enough_length, rigth_beginning, min_ys])    #Que se cumpla alguna expresión\n",
    "\n",
    "if is_fine_word:\n",
    "    print('Fine word!')\n",
    "else:\n",
    "    print('No thanks!')"
   ]
  },
  {
   "cell_type": "markdown",
   "metadata": {},
   "source": [
    "> Esto puede servir cuando se manejan muchas condiciones o bien cuando queremos separar las condiciones y agruparlas en una única lista."
   ]
  },
  {
   "cell_type": "markdown",
   "metadata": {},
   "source": [
    "### Listas por comprensión"
   ]
  },
  {
   "cell_type": "markdown",
   "metadata": {},
   "source": [
    ">Es una técnica para crear listas de forma más ***compacta*** basándose en el concepto matemático de conjuntos definidos por compresión.\n",
    "\n",
    "![alt text](Imágenes/Estructura_lista_comprension.jpeg)\n",
    "\n",
    "*   Versión clásica:"
   ]
  },
  {
   "cell_type": "code",
   "execution_count": 2,
   "metadata": {},
   "outputs": [
    {
     "name": "stdout",
     "output_type": "stream",
     "text": [
      "values = '32,45,11,87,20,48' y su tipo es <class 'str'>\n",
      "int_values = [32, 45, 11, 87, 20, 48] y su tipo es <class 'list'>\n"
     ]
    }
   ],
   "source": [
    "values = '32,45,11,87,20,48'\n",
    "\n",
    "int_values = []\n",
    "\n",
    "#Itero en el string y separo los valores por (',')\n",
    "for value in values.split(','):\n",
    "    int_value = int(value)\n",
    "    int_values.append(int_value)\n",
    "\n",
    "print(f'{values = } y su tipo es {type(values)}')\n",
    "print(f'{int_values = } y su tipo es {type(int_values)}')"
   ]
  },
  {
   "cell_type": "markdown",
   "metadata": {},
   "source": [
    "* Lista por comprensión:"
   ]
  },
  {
   "cell_type": "code",
   "execution_count": 1,
   "metadata": {},
   "outputs": [
    {
     "name": "stdout",
     "output_type": "stream",
     "text": [
      "int_values = [32, 45, 11, 87, 20, 48] y su tipo es <class 'list'>\n"
     ]
    }
   ],
   "source": [
    "values = '32,45,11,87,20,48'\n",
    "\n",
    "int_values = [int(value) for value in values.split(',')]\n",
    "\n",
    "print(f'{int_values = } y su tipo es {type(int_values)}')"
   ]
  },
  {
   "cell_type": "markdown",
   "metadata": {},
   "source": [
    "#### Condiciones en comprensiones"
   ]
  },
  {
   "cell_type": "markdown",
   "metadata": {},
   "source": [
    "> Se puede incluir condiciones en las listas por comprensión."
   ]
  },
  {
   "cell_type": "code",
   "execution_count": 2,
   "metadata": {},
   "outputs": [
    {
     "name": "stdout",
     "output_type": "stream",
     "text": [
      "int_values = [45, 48]\n"
     ]
    }
   ],
   "source": [
    "values = '32,45,11,87,20,48'\n",
    "\n",
    "int_values = [int(v) for v in values.split(',') if v.startswith('4')]\n",
    "\n",
    "print(f'{int_values = }')"
   ]
  },
  {
   "cell_type": "markdown",
   "metadata": {},
   "source": [
    "#### Anidamiento en comprensiones"
   ]
  },
  {
   "cell_type": "markdown",
   "metadata": {},
   "source": [
    "> En la iteración que usamos dentro de la lista por comprensión es posible usar ***bucles anidados***"
   ]
  },
  {
   "cell_type": "code",
   "execution_count": 129,
   "metadata": {},
   "outputs": [
    {
     "name": "stdout",
     "output_type": "stream",
     "text": [
      "['32 x 32', '32 x 45', '32 x 11', '32 x 87', '32 x 20', '32 x 48', '45 x 32', '45 x 45', '45 x 11', '45 x 87', '45 x 20', '45 x 48', '11 x 32', '11 x 45', '11 x 11', '11 x 87', '11 x 20', '11 x 48', '87 x 32', '87 x 45', '87 x 11', '87 x 87', '87 x 20', '87 x 48', '20 x 32', '20 x 45', '20 x 11', '20 x 87', '20 x 20', '20 x 48', '48 x 32', '48 x 45', '48 x 11', '48 x 87', '48 x 20', '48 x 48']\n"
     ]
    }
   ],
   "source": [
    "values = '32,45,11,87,20,48'\n",
    "SVALUES = values.split(',')\n",
    "\n",
    "combinations = [f'{v1}x{v2}' for v1 in SVALUES for v2 in SVALUES]\n",
    "\n",
    "print(f'{combinations}')"
   ]
  },
  {
   "cell_type": "markdown",
   "metadata": {},
   "source": [
    "* Hay que tener cuidado de no generar **expresiones excesivamente complejas**. En estos casos es mejor una *aproximación clásica*"
   ]
  },
  {
   "cell_type": "markdown",
   "metadata": {},
   "source": [
    "### sys.argv"
   ]
  },
  {
   "cell_type": "code",
   "execution_count": null,
   "metadata": {},
   "outputs": [],
   "source": []
  },
  {
   "cell_type": "markdown",
   "metadata": {},
   "source": [
    "### Funciones matemáticas"
   ]
  },
  {
   "cell_type": "markdown",
   "metadata": {},
   "source": [
    "### Listas de listas"
   ]
  }
 ],
 "metadata": {
  "kernelspec": {
   "display_name": "Python 3",
   "language": "python",
   "name": "python3"
  },
  "language_info": {
   "codemirror_mode": {
    "name": "ipython",
    "version": 3
   },
   "file_extension": ".py",
   "mimetype": "text/x-python",
   "name": "python",
   "nbconvert_exporter": "python",
   "pygments_lexer": "ipython3",
   "version": "3.12.4"
  }
 },
 "nbformat": 4,
 "nbformat_minor": 2
}
